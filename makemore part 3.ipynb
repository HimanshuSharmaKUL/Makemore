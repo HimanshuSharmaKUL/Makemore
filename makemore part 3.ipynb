{
 "cells": [
  {
   "cell_type": "code",
   "execution_count": 1,
   "metadata": {},
   "outputs": [],
   "source": [
    "import torch\n",
    "import torch.nn.functional as F\n",
    "import matplotlib.pyplot as plt\n",
    "%matplotlib inline"
   ]
  },
  {
   "cell_type": "code",
   "execution_count": 2,
   "metadata": {},
   "outputs": [
    {
     "data": {
      "text/plain": [
       "['emma', 'olivia', 'ava', 'isabella', 'sophia', 'charlotte', 'mia', 'amelia']"
      ]
     },
     "execution_count": 2,
     "metadata": {},
     "output_type": "execute_result"
    }
   ],
   "source": [
    "#read all words\n",
    "words = open('names.txt', 'r').read().splitlines()\n",
    "words[:8]"
   ]
  },
  {
   "cell_type": "code",
   "execution_count": 4,
   "metadata": {},
   "outputs": [
    {
     "name": "stdout",
     "output_type": "stream",
     "text": [
      "{1: 'a', 2: 'b', 3: 'c', 4: 'd', 5: 'e', 6: 'f', 7: 'g', 8: 'h', 9: 'i', 10: 'j', 11: 'k', 12: 'l', 13: 'm', 14: 'n', 15: 'o', 16: 'p', 17: 'q', 18: 'r', 19: 's', 20: 't', 21: 'u', 22: 'v', 23: 'w', 24: 'x', 25: 'y', 26: 'z', 0: '.'}\n",
      "27\n"
     ]
    }
   ],
   "source": [
    "#build vocabulaty of characters and mappings to/from integers\n",
    "chars = sorted(list(set(''.join(words))))\n",
    "stoi = {s:i+1 for i,s in enumerate(chars)}\n",
    "stoi['.']=0\n",
    "itos = {i:s for s,i in stoi.items()}\n",
    "vocab_size = len(itos)\n",
    "print(itos)\n",
    "print(vocab_size)"
   ]
  },
  {
   "cell_type": "code",
   "execution_count": 6,
   "metadata": {},
   "outputs": [
    {
     "name": "stdout",
     "output_type": "stream",
     "text": [
      "torch.Size([182580, 3]) torch.Size([182580])\n",
      "torch.Size([22767, 3]) torch.Size([22767])\n",
      "torch.Size([22799, 3]) torch.Size([22799])\n"
     ]
    }
   ],
   "source": [
    "#build the dataset\n",
    "block_size = 3 #context length: how many characters to look at to predict the next one?\n",
    "\n",
    "def build_dataset(words):\n",
    "    X,Y = [],[]\n",
    "    for w in words: #all words\n",
    "        \n",
    "        context = [0]*block_size\n",
    "        for ch in w + '.':\n",
    "            ix = stoi[ch]\n",
    "            X.append(context)\n",
    "            Y.append(ix)\n",
    "            # print(''.join(itos[i] for i in context), '--->', itos[ix])\n",
    "            context = context[1:] + [ix] #crop the first element and apend the new one\n",
    "\n",
    "    X = torch.tensor(X)\n",
    "    Y = torch.tensor(Y)\n",
    "    print(X.shape, Y.shape)\n",
    "    return X,Y\n",
    "\n",
    "import random\n",
    "random.seed(42)\n",
    "random.shuffle(words)\n",
    "n1  = int(0.8*len(words))\n",
    "n2 = int(0.9*len(words))\n",
    "Xtr, Ytr = build_dataset(words[:n1])            #80%\n",
    "Xdev, Ydev = build_dataset(words[n1:n2])        #10%\n",
    "Xte, Yte = build_dataset(words[n2:])            #10%"
   ]
  },
  {
   "cell_type": "code",
   "execution_count": 7,
   "metadata": {},
   "outputs": [
    {
     "name": "stdout",
     "output_type": "stream",
     "text": [
      "11897\n"
     ]
    }
   ],
   "source": [
    "#MLP Revisited\n",
    "n_embd = 10 #dimentionality of the character embedding vectors\n",
    "n_hidden = 200 #the number of neurons in the hidden layer of the MLP\n",
    "\n",
    "g = torch.Generator().manual_seed(2147483647) #for reproducibility\n",
    "C = torch.randn((vocab_size,n_embd), generator=g) #embedding layer\n",
    "\n",
    "W1 = torch.randn((block_size*n_embd,200), generator=g) #first layer\n",
    "b1 = torch.randn(n_hidden, generator=g) #biases for first layer\n",
    "\n",
    "W2 = torch.randn((n_hidden,vocab_size), generator=g) #second layer\n",
    "b2 = torch.randn(vocab_size, generator=g) #biases for second layer\n",
    "\n",
    "parameters = [C, W1, b1, W2, b2] #all the parameters\n",
    "\n",
    "for p in parameters:\n",
    "    p.requires_grad = True #enabling gradients for all parameters\n",
    "\n",
    "print(sum(p.nelement() for p in parameters)) #total no. of parameters"
   ]
  },
  {
   "cell_type": "code",
   "execution_count": 9,
   "metadata": {},
   "outputs": [
    {
     "name": "stdout",
     "output_type": "stream",
     "text": [
      "      0/  20000: 2.3085\n",
      "   1000/  20000: 1.7711\n",
      "   2000/  20000: 2.1199\n",
      "   3000/  20000: 1.9246\n",
      "   4000/  20000: 2.5164\n",
      "   5000/  20000: 2.2617\n",
      "   6000/  20000: 2.4543\n",
      "   7000/  20000: 2.3356\n",
      "   8000/  20000: 2.6346\n",
      "   9000/  20000: 2.1007\n",
      "  10000/  20000: 2.3525\n",
      "  11000/  20000: 2.2331\n",
      "  12000/  20000: 2.2699\n",
      "  13000/  20000: 2.0758\n",
      "  14000/  20000: 2.0495\n",
      "  15000/  20000: 2.3625\n",
      "  16000/  20000: 2.1662\n",
      "  17000/  20000: 2.3300\n",
      "  18000/  20000: 2.5478\n",
      "  19000/  20000: 2.1320\n",
      "Training Loss: 2.741368055343628\n"
     ]
    }
   ],
   "source": [
    "stepi = []\n",
    "lossi = []\n",
    "max_steps = 20000\n",
    "batch_size = 32\n",
    "\n",
    "for i in range(max_steps):\n",
    "    \n",
    "    #minibatch construct\n",
    "    ix = torch.randint(0,Xtr.shape[0],(batch_size,), generator=g) #randomly sample 32 numbers from 0 to 228146\n",
    "    Xb, Yb = Xtr[ix], Ytr[ix] #batch X,Y\n",
    "\n",
    "    #Forward pass\n",
    "    emb = C[Xb] #embedding layer #First pick only ix indexes from X, and then based on X[ix], pick only X[ix] indexes from C #32x3x2\n",
    "    embcat = emb.view(emb.shape[0], -1) #concatenate the input vectors\n",
    "    hpreact = embcat@W1 +b1 #hidden layer pre-activation\n",
    "    h = torch.tanh(hpreact) #first layer \n",
    "    logits = h@W2 + b2 #output of W2 layer \n",
    "    loss = F.cross_entropy(logits, Yb) #ix also indexes from Y, so that we can calculate loss for only those 32 examples\n",
    "    # print(loss.item())\n",
    "    \n",
    "    #bakcward pass\n",
    "    for p in parameters:\n",
    "        p.grad = None #setting gradients to 0 before each backward pass\n",
    "    loss.backward()\n",
    "\n",
    "    #update\n",
    "    lr = 0.1 if i<100000 else 0.01 #step lr decay\n",
    "    for p in parameters:\n",
    "        p.data += -lr*p.grad #updating the parameters\n",
    "\n",
    "    #trackstats\n",
    "    if i%1000 == 0: #print evey 1000th step\n",
    "        print(f'{i:7d}/{max_steps:7d}: {loss.item():.4f}')\n",
    "    lossi.append(loss.log10().item())\n",
    "    stepi.append(i)\n",
    "\n",
    "print('Training Loss:', loss.item())"
   ]
  },
  {
   "cell_type": "code",
   "execution_count": null,
   "metadata": {},
   "outputs": [],
   "source": [
    "plt.plot(lossi)"
   ]
  },
  {
   "cell_type": "code",
   "execution_count": null,
   "metadata": {},
   "outputs": [],
   "source": [
    "@torch.no_grad() #this decorator disables gradient tracking\n",
    "                 #whatever happens in this function below, it instructs pytorch\n",
    "                 #to never require gradients for these operations since pytorch usually keeps track of gradients in anticipation of a backward pass\n",
    "                 #but yaha koi backward pass nahi hai!\n",
    "                 #for efficiency\n",
    "def split_loss(split):\n",
    "    x,y = {\n",
    "    'train': (Xtr, Ytr),\n",
    "    'val': (Xdev, Ydev),\n",
    "    'test': (Xte, Yte),\n",
    "    }[split]\n",
    "    emb = C[x] #embedding layer #First pick only ix indexes from X, and then based on X[ix], pick only X[ix] indexes from C #32x3x2\n",
    "    embcat = emb.view(emb.shape[0], -1) #concatenate the input vectors\n",
    "    hpreact = embcat@W1 +b1 #hidden layer pre-activation\n",
    "    h = torch.tanh(hpreact) #first layer \n",
    "    logits = h@W2 + b2 #output of W2 layer \n",
    "    loss = F.cross_entropy(logits, Yb)\n",
    "\n",
    "split_loss('train')\n",
    "split_loss('val')"
   ]
  },
  {
   "cell_type": "code",
   "execution_count": 10,
   "metadata": {},
   "outputs": [
    {
     "name": "stdout",
     "output_type": "stream",
     "text": [
      "moha.\n",
      "imyah.\n",
      "see.\n",
      "mad.\n",
      "rylla.\n",
      "ethantengrlee.\n",
      "adejedieliigh.\n",
      "porea.\n",
      "eden.\n",
      "sanana.\n",
      "sephetormara.\n",
      "noshabergaviana.\n",
      "tin.\n",
      "joselynn.\n",
      "nikolanobemander.\n",
      "yaralyehs.\n",
      "lia.\n",
      "myskolanihan.\n",
      "sakyansun.\n",
      "zakelijunett.\n"
     ]
    }
   ],
   "source": [
    "#Sample form the model\n",
    "g = torch.Generator().manual_seed(2147483647+10)\n",
    "for _ in range(20):\n",
    "    out = []\n",
    "    context = [0] * block_size #initialise with all '...'\n",
    "    while True:\n",
    "        emb = C[torch.tensor([context])] #(1,block_size,d): 1st dim was the size of training set, but here we're generating only 1 example,\n",
    "        h = torch.tanh(emb.view(1,-1)@W1+b1)\n",
    "        logits = h@W2 +b2\n",
    "        probs = F.softmax(logits, dim=1)\n",
    "        #sample from the distribution\n",
    "        ix = torch.multinomial(probs, num_samples=1, generator = g).item()\n",
    "        # shift the context window and track the samples\n",
    "        context = context[1:]+[ix]\n",
    "        out.append(ix)\n",
    "        # if we sample the special '.' token, break\n",
    "        if ix == 0:\n",
    "            break\n",
    "\n",
    "    print(''.join(itos[i] for i in out)) # decode and print the generated word\n"
   ]
  },
  {
   "cell_type": "code",
   "execution_count": null,
   "metadata": {},
   "outputs": [],
   "source": [
    "#Deeper look at the code\n",
    "#Initial loss, at 0th iteration is very high, idially it must be low\n",
    "#and we can have an idea of the loss to expect at the beginnning\n",
    "#by thinking that at the start, the probab distrib of all of the characters \n",
    "#must be a uniform distribution, since we have no reason to think about why \n",
    "#some characters must be higher than others\n"
   ]
  }
 ],
 "metadata": {
  "kernelspec": {
   "display_name": "base",
   "language": "python",
   "name": "python3"
  },
  "language_info": {
   "codemirror_mode": {
    "name": "ipython",
    "version": 3
   },
   "file_extension": ".py",
   "mimetype": "text/x-python",
   "name": "python",
   "nbconvert_exporter": "python",
   "pygments_lexer": "ipython3",
   "version": "3.11.5"
  }
 },
 "nbformat": 4,
 "nbformat_minor": 2
}
