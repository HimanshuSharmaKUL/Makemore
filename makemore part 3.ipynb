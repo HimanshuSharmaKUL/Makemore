{
 "cells": [
  {
   "cell_type": "code",
   "execution_count": 1,
   "metadata": {},
   "outputs": [],
   "source": [
    "import torch\n",
    "import torch.nn.functional as F\n",
    "import matplotlib.pyplot as plt\n",
    "%matplotlib inline"
   ]
  },
  {
   "cell_type": "code",
   "execution_count": 2,
   "metadata": {},
   "outputs": [
    {
     "data": {
      "text/plain": [
       "['emma', 'olivia', 'ava', 'isabella', 'sophia', 'charlotte', 'mia', 'amelia']"
      ]
     },
     "execution_count": 2,
     "metadata": {},
     "output_type": "execute_result"
    }
   ],
   "source": [
    "#read all words\n",
    "words = open('names.txt', 'r').read().splitlines()\n",
    "words[:8]"
   ]
  },
  {
   "cell_type": "code",
   "execution_count": 3,
   "metadata": {},
   "outputs": [
    {
     "name": "stdout",
     "output_type": "stream",
     "text": [
      "{1: 'a', 2: 'b', 3: 'c', 4: 'd', 5: 'e', 6: 'f', 7: 'g', 8: 'h', 9: 'i', 10: 'j', 11: 'k', 12: 'l', 13: 'm', 14: 'n', 15: 'o', 16: 'p', 17: 'q', 18: 'r', 19: 's', 20: 't', 21: 'u', 22: 'v', 23: 'w', 24: 'x', 25: 'y', 26: 'z', 0: '.'}\n",
      "27\n"
     ]
    }
   ],
   "source": [
    "#build vocabulaty of characters and mappings to/from integers\n",
    "chars = sorted(list(set(''.join(words))))\n",
    "stoi = {s:i+1 for i,s in enumerate(chars)}\n",
    "stoi['.']=0\n",
    "itos = {i:s for s,i in stoi.items()}\n",
    "vocab_size = len(itos)\n",
    "print(itos)\n",
    "print(vocab_size)"
   ]
  },
  {
   "cell_type": "code",
   "execution_count": 4,
   "metadata": {},
   "outputs": [
    {
     "name": "stdout",
     "output_type": "stream",
     "text": [
      "torch.Size([182625, 3]) torch.Size([182625])\n",
      "torch.Size([22655, 3]) torch.Size([22655])\n",
      "torch.Size([22866, 3]) torch.Size([22866])\n"
     ]
    }
   ],
   "source": [
    "#build the dataset\n",
    "block_size = 3 #context length: how many characters to look at to predict the next one?\n",
    "\n",
    "def build_dataset(words):\n",
    "    X,Y = [],[]\n",
    "    for w in words: #all words\n",
    "        \n",
    "        context = [0]*block_size\n",
    "        for ch in w + '.':\n",
    "            ix = stoi[ch]\n",
    "            X.append(context)\n",
    "            Y.append(ix)\n",
    "            # print(''.join(itos[i] for i in context), '--->', itos[ix])\n",
    "            context = context[1:] + [ix] #crop the first element and apend the new one\n",
    "\n",
    "    X = torch.tensor(X)\n",
    "    Y = torch.tensor(Y)\n",
    "    print(X.shape, Y.shape)\n",
    "    return X,Y\n",
    "\n",
    "import random\n",
    "random.seed(42)\n",
    "random.shuffle(words)\n",
    "n1  = int(0.8*len(words))\n",
    "n2 = int(0.9*len(words))\n",
    "Xtr, Ytr = build_dataset(words[:n1])            #80%\n",
    "Xdev, Ydev = build_dataset(words[n1:n2])        #10%\n",
    "Xte, Yte = build_dataset(words[n2:])            #10%"
   ]
  },
  {
   "cell_type": "code",
   "execution_count": 5,
   "metadata": {},
   "outputs": [
    {
     "name": "stdout",
     "output_type": "stream",
     "text": [
      "11897\n"
     ]
    }
   ],
   "source": [
    "#MLP Revisited\n",
    "n_embd = 10 #dimentionality of the character embedding vectors\n",
    "n_hidden = 200 #the number of neurons in the hidden layer of the MLP\n",
    "\n",
    "g = torch.Generator().manual_seed(2147483647) #for reproducibility\n",
    "C = torch.randn((vocab_size,n_embd), generator=g) #embedding layer\n",
    "\n",
    "W1 = torch.randn((block_size*n_embd,200), generator=g) #first layer\n",
    "b1 = torch.randn(n_hidden, generator=g) #biases for first layer\n",
    "\n",
    "W2 = torch.randn((n_hidden,vocab_size), generator=g) #second layer\n",
    "b2 = torch.randn(vocab_size, generator=g) #biases for second layer\n",
    "\n",
    "parameters = [C, W1, b1, W2, b2] #all the parameters\n",
    "\n",
    "for p in parameters:\n",
    "    p.requires_grad = True #enabling gradients for all parameters\n",
    "\n",
    "print(sum(p.nelement() for p in parameters)) #total no. of parameters"
   ]
  },
  {
   "cell_type": "code",
   "execution_count": 6,
   "metadata": {},
   "outputs": [
    {
     "name": "stdout",
     "output_type": "stream",
     "text": [
      "      0/  20000: 27.8817\n",
      "   1000/  20000: 4.0763\n",
      "   2000/  20000: 3.0432\n",
      "   3000/  20000: 2.9293\n",
      "   4000/  20000: 2.3651\n",
      "   5000/  20000: 2.3953\n",
      "   6000/  20000: 2.3735\n",
      "   7000/  20000: 2.8519\n",
      "   8000/  20000: 2.4473\n",
      "   9000/  20000: 2.5038\n",
      "  10000/  20000: 2.8465\n",
      "  11000/  20000: 2.0805\n",
      "  12000/  20000: 2.4704\n",
      "  13000/  20000: 2.4806\n",
      "  14000/  20000: 2.9589\n",
      "  15000/  20000: 2.2172\n",
      "  16000/  20000: 2.5939\n",
      "  17000/  20000: 2.6985\n",
      "  18000/  20000: 2.4330\n",
      "  19000/  20000: 2.3111\n",
      "Training Loss: 2.054908275604248\n"
     ]
    }
   ],
   "source": [
    "stepi = []\n",
    "lossi = []\n",
    "max_steps = 20000\n",
    "batch_size = 32\n",
    "\n",
    "for i in range(max_steps):\n",
    "    \n",
    "    #minibatch construct\n",
    "    ix = torch.randint(0,Xtr.shape[0],(batch_size,), generator=g) #randomly sample 32 numbers from 0 to 228146\n",
    "    Xb, Yb = Xtr[ix], Ytr[ix] #batch X,Y\n",
    "\n",
    "    #Forward pass\n",
    "    emb = C[Xb] #embedding layer #First pick only ix indexes from X, and then based on X[ix], pick only X[ix] indexes from C #32x3x2\n",
    "    embcat = emb.view(emb.shape[0], -1) #concatenate the input vectors\n",
    "    hpreact = embcat@W1 +b1 #hidden layer pre-activation\n",
    "    h = torch.tanh(hpreact) #first layer \n",
    "    logits = h@W2 + b2 #output of W2 layer \n",
    "    loss = F.cross_entropy(logits, Yb) #ix also indexes from Y, so that we can calculate loss for only those 32 examples\n",
    "    # print(loss.item())\n",
    "    \n",
    "    #bakcward pass\n",
    "    for p in parameters:\n",
    "        p.grad = None #setting gradients to 0 before each backward pass\n",
    "    loss.backward()\n",
    "\n",
    "    #update\n",
    "    lr = 0.1 if i<100000 else 0.01 #step lr decay\n",
    "    for p in parameters:\n",
    "        p.data += -lr*p.grad #updating the parameters\n",
    "\n",
    "    #trackstats\n",
    "    if i%1000 == 0: #print evey 1000th step\n",
    "        print(f'{i:7d}/{max_steps:7d}: {loss.item():.4f}')\n",
    "    lossi.append(loss.log10().item())\n",
    "    stepi.append(i)\n",
    "\n",
    "print('Training Loss:', loss.item())"
   ]
  },
  {
   "cell_type": "code",
   "execution_count": 7,
   "metadata": {},
   "outputs": [
    {
     "data": {
      "text/plain": [
       "[<matplotlib.lines.Line2D at 0x189b07b6ad0>]"
      ]
     },
     "execution_count": 7,
     "metadata": {},
     "output_type": "execute_result"
    },
    {
     "data": {
      "image/png": "[encoded data removed]",
      "text/plain": [
       "<Figure size 640x480 with 1 Axes>"
      ]
     },
     "metadata": {},
     "output_type": "display_data"
    }
   ],
   "source": [
    "plt.plot(lossi)"
   ]
  },
  {
   "cell_type": "code",
   "execution_count": 8,
   "metadata": {},
   "outputs": [
    {
     "name": "stdout",
     "output_type": "stream",
     "text": [
      "train loss: 2.4800\n",
      "val loss: 2.4986\n"
     ]
    }
   ],
   "source": [
    "@torch.no_grad() #this decorator disables gradient tracking\n",
    "                 #whatever happens in this function below, it instructs pytorch\n",
    "                 #to never require gradients for these operations since pytorch usually keeps track of gradients in anticipation of a backward pass\n",
    "                 #but yaha koi backward pass nahi hai!\n",
    "                 #for efficiency\n",
    "def split_loss(split):\n",
    "    x,y = {\n",
    "    'train': (Xtr, Ytr),\n",
    "    'val': (Xdev, Ydev),\n",
    "    'test': (Xte, Yte),\n",
    "    }[split]\n",
    "    emb = C[x] #embedding layer #First pick only ix indexes from X, and then based on X[ix], pick only X[ix] indexes from C #32x3x2\n",
    "    embcat = emb.view(emb.shape[0], -1) #concatenate the input vectors\n",
    "    hpreact = embcat@W1 +b1 #hidden layer pre-activation\n",
    "    h = torch.tanh(hpreact) #first layer \n",
    "    logits = h@W2 + b2 #output of W2 layer \n",
    "    loss = F.cross_entropy(logits, y)\n",
    "    print(f'{split} loss: {loss:.4f}')\n",
    "\n",
    "split_loss('train')\n",
    "split_loss('val')"
   ]
  },
  {
   "cell_type": "code",
   "execution_count": 9,
   "metadata": {},
   "outputs": [
    {
     "name": "stdout",
     "output_type": "stream",
     "text": [
      "arrachmyah.\n",
      "keel.\n",
      "nah.\n",
      "yal.\n",
      "azthancendra.\n",
      "galie.\n",
      "adrelin.\n",
      "aly.\n",
      "jenre.\n",
      "annean.\n",
      "aar.\n",
      "kayzish.\n",
      "karin.\n",
      "sadger.\n",
      "ahimies.\n",
      "kandreelle.\n",
      "anthora.\n",
      "uza.\n",
      "aveer.\n",
      "yarre.\n"
     ]
    }
   ],
   "source": [
    "#Sample form the model\n",
    "g = torch.Generator().manual_seed(2147483647+10)\n",
    "for _ in range(20):\n",
    "    out = []\n",
    "    context = [0] * block_size #initialise with all '...'\n",
    "    while True:\n",
    "        emb = C[torch.tensor([context])] #(1,block_size,d): 1st dim was the size of training set, but here we're generating only 1 example,\n",
    "        h = torch.tanh(emb.view(1,-1)@W1+b1)\n",
    "        logits = h@W2 +b2\n",
    "        probs = F.softmax(logits, dim=1)\n",
    "        #sample from the distribution\n",
    "        ix = torch.multinomial(probs, num_samples=1, generator = g).item()\n",
    "        # shift the context window and track the samples\n",
    "        context = context[1:]+[ix]\n",
    "        out.append(ix)\n",
    "        # if we sample the special '.' token, break\n",
    "        if ix == 0:\n",
    "            break\n",
    "\n",
    "    print(''.join(itos[i] for i in out)) # decode and print the generated word\n"
   ]
  },
  {
   "cell_type": "code",
   "execution_count": 11,
   "metadata": {},
   "outputs": [
    {
     "data": {
      "text/plain": [
       "tensor(3.2958)"
      ]
     },
     "execution_count": 11,
     "metadata": {},
     "output_type": "execute_result"
    }
   ],
   "source": [
    "#Deeper look at the code\n",
    "#Initial loss, at 0th iteration is very high, Network is very confidently wrong .'. high initiall loss\n",
    "# idially it must be low\n",
    "#and we can have an idea of the loss to expect at the beginnning\n",
    "#by thinking that at the start, the probab distrib of all of the characters \n",
    "#must be a uniform distribution, since we have no reason to think about why \n",
    "#some characters must be higher than others\n",
    "-torch.tensor(1/27.0).log() #-log liklih of uniform distribution\n",
    "\n"
   ]
  },
  {
   "cell_type": "code",
   "execution_count": null,
   "metadata": {},
   "outputs": [
    {
     "name": "stdout",
     "output_type": "stream",
     "text": [
      "tensor([0.2500, 0.2500, 0.2500, 0.2500]) tensor(1.3863)\n",
      "tensor([0.0066, 0.9802, 0.0066, 0.0066]) tensor(0.0200)\n",
      "tensor([-0.4403,  0.6508, -0.2400,  0.3649]) tensor([0.1345, 0.4004, 0.1643, 0.3008]) tensor(0.9153)\n",
      "tensor([ 4.7755, -1.6245, 10.0559,  4.4860]) tensor([5.0454e-03, 8.3833e-06, 9.9117e-01, 3.7771e-03]) tensor(11.6893)\n"
     ]
    }
   ],
   "source": [
    "#4D example of the issue\n",
    "logits = torch.tensor([0.0, 0.0, 0.0, 0.0])\n",
    "probs = F.softmax(logits, dim=0)\n",
    "loss = -probs[1].log() #checking the probab of the 2nd character (assuming it to be next character)\n",
    "print(probs, loss )\n",
    "#But, if the probs are like uniform distribution (i.e. if all/most logits are near to 0)\n",
    "#then it doesnt matter we check the loss for the 2nd character or 3rd or 4th etc..\n",
    "#because all of them will have the same loss\n",
    "\n",
    "#PURELY by chance it can happen that say 2nd character got high logit, \n",
    "#i.e. high probab\n",
    "logits = torch.tensor([0.0, 5.0, 0.0, 0.0])\n",
    "probs = F.softmax(logits, dim=0)\n",
    "#then checking loss of 2nd chracter will give very very loww loss\n",
    "#and even though this is good for us, but this could be a local minima\n",
    "loss = -probs[1].log() \n",
    "print(probs, loss )\n",
    "\n",
    "#But most of the times other characters will have high logits (fake counts)\n",
    "#i.e. high probab to wrong other characters which will give us high loss\n",
    "# logits = torch.tensor([0.0, 0.0, 0.0, 0.0])\n",
    "logits = torch.randn(4) #these are near to 0\n",
    "probs = F.softmax(logits, dim=0)\n",
    "loss = -probs[1].log() #checking the probab of the 2nd character (assuming it to be next character)\n",
    "print(logits, probs, loss)\n",
    "\n",
    "logits = torch.randn(4) *10 #but if we make the logits high, then the prob will also be high, chances of 'wrong' probs being high also increases -> and hence our loss increases\n",
    "probs = F.softmax(logits, dim=0)\n",
    "loss = -probs[1].log() #checking the probab of the 2nd character (assuming it to be next character)\n",
    "print(logits, probs, loss )\n",
    "\n",
    "#similarly, if our logits are even more extreme, then we'll get higher probabs, i.e. higher chance of getting 'wrong' probs high -> i.e. even high loss\n",
    "#so, we need some kind of normalisation of logits\n",
    "#to make the loss independent of the scale of logits\n"
   ]
  },
  {
   "cell_type": "code",
   "execution_count": null,
   "metadata": {},
   "outputs": [
    {
     "name": "stdout",
     "output_type": "stream",
     "text": [
      "      0/  20000: 27.8817\n",
      "Training Loss: 27.881732940673828\n"
     ]
    }
   ],
   "source": [
    "#Let us re run the model training, and lets stop the model after 1st iteration\n",
    "\n",
    "stepi = []\n",
    "lossi = []\n",
    "max_steps = 20000\n",
    "batch_size = 32\n",
    "\n",
    "for i in range(max_steps):\n",
    "    \n",
    "    #minibatch construct\n",
    "    ix = torch.randint(0,Xtr.shape[0],(batch_size,), generator=g) #randomly sample 32 numbers from 0 to 228146\n",
    "    Xb, Yb = Xtr[ix], Ytr[ix] #batch X,Y\n",
    "\n",
    "    #Forward pass\n",
    "    emb = C[Xb] #embedding layer #First pick only ix indexes from X, and then based on X[ix], pick only X[ix] indexes from C #32x3x2\n",
    "    embcat = emb.view(emb.shape[0], -1) #concatenate the input vectors\n",
    "    hpreact = embcat@W1 +b1 #hidden layer pre-activation\n",
    "    h = torch.tanh(hpreact) #first layer \n",
    "    logits = h@W2 + b2 #output of W2 layer \n",
    "    loss = F.cross_entropy(logits, Yb) #ix also indexes from Y, so that we can calculate loss for only those 32 examples\n",
    "    # print(loss.item())\n",
    "    \n",
    "    #bakcward pass\n",
    "    for p in parameters:\n",
    "        p.grad = None #setting gradients to 0 before each backward pass\n",
    "    loss.backward()\n",
    "\n",
    "    #update\n",
    "    lr = 0.1 if i<100000 else 0.01 #step lr decay\n",
    "    for p in parameters:\n",
    "        p.data += -lr*p.grad #updating the parameters\n",
    "\n",
    "    #trackstats\n",
    "    if i%1000 == 0: #print evey 1000th step\n",
    "        print(f'{i:7d}/{max_steps:7d}: {loss.item():.4f}')\n",
    "    lossi.append(loss.log10().item())\n",
    "    stepi.append(i)\n",
    "\n",
    "    break\n",
    "\n",
    "print('Training Loss:', loss.item())"
   ]
  },
  {
   "cell_type": "code",
   "execution_count": null,
   "metadata": {},
   "outputs": [
    {
     "data": {
      "text/plain": [
       "tensor([ -2.3527,  36.4366, -10.7306,   5.7165,  18.6409, -11.6998,  -2.1991,\n",
       "          1.8535,  10.9996,  10.6730,  12.3507, -10.3809,   4.7243, -24.4257,\n",
       "         -8.5909,   1.9024, -12.2744, -12.4751, -23.2778,  -2.0163,  25.8767,\n",
       "         14.2108,  17.7691, -10.9204, -20.7335,   6.4560,  11.1615],\n",
       "       grad_fn=<SelectBackward0>)"
      ]
     },
     "execution_count": 18,
     "metadata": {},
     "output_type": "execute_result"
    }
   ],
   "source": [
    "#such a high initall loss is because the logits are taking extrem values\n",
    "logits[0] #lets see first row of logits\n",
    "#so, we need logits to be nearer to 0, i.e. less extreme"
   ]
  },
  {
   "cell_type": "code",
   "execution_count": null,
   "metadata": {},
   "outputs": [
    {
     "name": "stdout",
     "output_type": "stream",
     "text": [
      "11897\n"
     ]
    }
   ],
   "source": [
    "#So, we modify our nextwork:\n",
    "\n",
    "#MLP Revisited\n",
    "n_embd = 10 #dimentionality of the character embedding vectors\n",
    "n_hidden = 200 #the number of neurons in the hidden layer of the MLP\n",
    "\n",
    "g = torch.Generator().manual_seed(2147483647) \n",
    "C = torch.randn((vocab_size,n_embd), generator=g) \n",
    "W1 = torch.randn((block_size*n_embd,200), generator=g) \n",
    "b1 = torch.randn(n_hidden, generator=g)  \n",
    "W2 = torch.randn((n_hidden,vocab_size), generator=g) *0.01 #scale down W2 to make the logits closer to 0\n",
    "b2 = torch.randn(vocab_size, generator=g)  *0 #we want b2 to be 0 initially, since we want logits to be nearer to 0 (or apas me pass)\n",
    "\n",
    "parameters = [C, W1, b1, W2, b2] #all the parameters\n",
    "\n",
    "for p in parameters:\n",
    "    p.requires_grad = True #enabling gradients for all parameters\n",
    "\n",
    "print(sum(p.nelement() for p in parameters)) #total no. of parameters"
   ]
  },
  {
   "cell_type": "code",
   "execution_count": null,
   "metadata": {},
   "outputs": [
    {
     "name": "stdout",
     "output_type": "stream",
     "text": [
      "      0/  20000: 3.3221\n",
      "   1000/  20000: 2.0833\n",
      "   2000/  20000: 2.3735\n",
      "   3000/  20000: 2.2160\n",
      "   4000/  20000: 2.3154\n",
      "   5000/  20000: 2.3121\n",
      "   6000/  20000: 2.2268\n",
      "   7000/  20000: 2.3368\n",
      "   8000/  20000: 1.9117\n",
      "   9000/  20000: 2.1829\n",
      "  10000/  20000: 2.1900\n",
      "  11000/  20000: 1.9048\n",
      "  12000/  20000: 2.3158\n",
      "  13000/  20000: 2.2492\n",
      "  14000/  20000: 2.7875\n",
      "  15000/  20000: 2.0552\n",
      "  16000/  20000: 2.4447\n",
      "  17000/  20000: 2.2630\n",
      "  18000/  20000: 1.9778\n",
      "  19000/  20000: 2.4615\n",
      "Training Loss: 1.7331013679504395\n"
     ]
    }
   ],
   "source": [
    "#Let us re run the model training, and lets stop the model after 1st iteration\n",
    "\n",
    "stepi = []\n",
    "lossi = []\n",
    "max_steps = 20000\n",
    "batch_size = 32\n",
    "\n",
    "for i in range(max_steps):\n",
    "    \n",
    "    #minibatch construct\n",
    "    ix = torch.randint(0,Xtr.shape[0],(batch_size,), generator=g) #randomly sample 32 numbers from 0 to 228146\n",
    "    Xb, Yb = Xtr[ix], Ytr[ix] #batch X,Y\n",
    "\n",
    "    #Forward pass\n",
    "    emb = C[Xb] #embedding layer #First pick only ix indexes from X, and then based on X[ix], pick only X[ix] indexes from C #32x3x2\n",
    "    embcat = emb.view(emb.shape[0], -1) #concatenate the input vectors\n",
    "    hpreact = embcat@W1 +b1 #hidden layer pre-activation\n",
    "    h = torch.tanh(hpreact) #first layer \n",
    "    logits = h@W2 + b2 #output of W2 layer \n",
    "    loss = F.cross_entropy(logits, Yb) #ix also indexes from Y, so that we can calculate loss for only those 32 examples\n",
    "    # print(loss.item())\n",
    "    \n",
    "    #bakcward pass\n",
    "    for p in parameters:\n",
    "        p.grad = None #setting gradients to 0 before each backward pass\n",
    "    loss.backward()\n",
    "\n",
    "    #update\n",
    "    lr = 0.1 if i<100000 else 0.01 #step lr decay\n",
    "    for p in parameters:\n",
    "        p.data += -lr*p.grad #updating the parameters\n",
    "\n",
    "    #trackstats\n",
    "    if i%1000 == 0: #print evey 1000th step\n",
    "        print(f'{i:7d}/{max_steps:7d}: {loss.item():.4f}')\n",
    "    lossi.append(loss.log10().item())\n",
    "    stepi.append(i)\n",
    "\n",
    "    \n",
    "\n",
    "print('Training Loss:', loss.item())\n",
    "#initially loss is much less now\n",
    "#we can scale down W2 even lower to get even smaller loss\n",
    "#let us run it for more iterations"
   ]
  },
  {
   "cell_type": "code",
   "execution_count": null,
   "metadata": {},
   "outputs": [
    {
     "data": {
      "text/plain": [
       "[<matplotlib.lines.Line2D at 0x173a941b410>]"
      ]
     },
     "execution_count": 26,
     "metadata": {},
     "output_type": "execute_result"
    },
    {
     "data": {
      "image/png": "[encoded data removed]",
      "text/plain": [
       "<Figure size 640x480 with 1 Axes>"
      ]
     },
     "metadata": {},
     "output_type": "display_data"
    }
   ],
   "source": [
    "plt.plot(lossi)"
   ]
  },
  {
   "cell_type": "code",
   "execution_count": null,
   "metadata": {},
   "outputs": [],
   "source": [
    "#We dont get that 'Hockey' shape of the loss curve.\n",
    "#becuase networks first try to 'squash' the logits into a uniform distribution\n",
    "#and then try to rearrange the logits to the distribution of the training data\n",
    "#But here, we did that initial 'easy gains' part ourselves so that our model can focus on hard gains"
   ]
  },
  {
   "cell_type": "code",
   "execution_count": null,
   "metadata": {},
   "outputs": [
    {
     "name": "stdout",
     "output_type": "stream",
     "text": [
      "train loss: 2.2784\n",
      "val loss: 2.3086\n"
     ]
    }
   ],
   "source": [
    "@torch.no_grad() \n",
    "def split_loss(split):\n",
    "    x,y = {\n",
    "    'train': (Xtr, Ytr),\n",
    "    'val': (Xdev, Ydev),\n",
    "    'test': (Xte, Yte),\n",
    "    }[split]\n",
    "    emb = C[x] #embedding layer #First pick only ix indexes from X, and then based on X[ix], pick only X[ix] indexes from C #32x3x2\n",
    "    embcat = emb.view(emb.shape[0], -1) #concatenate the input vectors\n",
    "    hpreact = embcat@W1 +b1 #hidden layer pre-activation\n",
    "    h = torch.tanh(hpreact) #first layer \n",
    "    logits = h@W2 + b2 #output of W2 layer \n",
    "    loss = F.cross_entropy(logits, y)\n",
    "    print(f'{split} loss: {loss:.4f}')\n",
    "\n",
    "split_loss('train')\n",
    "split_loss('val')"
   ]
  },
  {
   "cell_type": "code",
   "execution_count": null,
   "metadata": {},
   "outputs": [],
   "source": [
    "#But, can we keep the weights of W2 as 0?\n",
    "\n",
    "n_embd = 10 \n",
    "n_hidden = 200 \n",
    "\n",
    "g = torch.Generator().manual_seed(2147483647) \n",
    "C = torch.randn((vocab_size,n_embd), generator=g) \n",
    "W1 = torch.randn((block_size*n_embd,200), generator=g) \n",
    "b1 = torch.randn(n_hidden, generator=g)  \n",
    "W2 = torch.randn((n_hidden,vocab_size), generator=g) *0 #w2 = 0\n",
    "b2 = torch.randn(vocab_size, generator=g)  *0 \n",
    "\n",
    "parameters = [C, W1, b1, W2, b2] \n",
    "\n",
    "for p in parameters:\n",
    "    p.requires_grad = True \n",
    "\n",
    "print(sum(p.nelement() for p in parameters)) "
   ]
  },
  {
   "cell_type": "markdown",
   "metadata": {},
   "source": [
    "<h1>Problem 2 with our network</h1>\n",
    "Tanh is too saturated"
   ]
  },
  {
   "cell_type": "code",
   "execution_count": 12,
   "metadata": {},
   "outputs": [
    {
     "name": "stdout",
     "output_type": "stream",
     "text": [
      "11897\n"
     ]
    }
   ],
   "source": [
    "#So, we modify our nextwork:\n",
    "\n",
    "#MLP Revisited\n",
    "n_embd = 10 #dimentionality of the character embedding vectors\n",
    "n_hidden = 200 #the number of neurons in the hidden layer of the MLP\n",
    "\n",
    "g = torch.Generator().manual_seed(2147483647) \n",
    "C = torch.randn((vocab_size,n_embd), generator=g) \n",
    "W1 = torch.randn((block_size*n_embd,200), generator=g) \n",
    "b1 = torch.randn(n_hidden, generator=g)  \n",
    "W2 = torch.randn((n_hidden,vocab_size), generator=g) *0.01 \n",
    "b2 = torch.randn(vocab_size, generator=g)  *0 \n",
    "\n",
    "parameters = [C, W1, b1, W2, b2] \n",
    "\n",
    "for p in parameters:\n",
    "    p.requires_grad = True \n",
    "\n",
    "print(sum(p.nelement() for p in parameters)) "
   ]
  },
  {
   "cell_type": "code",
   "execution_count": 13,
   "metadata": {},
   "outputs": [
    {
     "name": "stdout",
     "output_type": "stream",
     "text": [
      "      0/  20000: 3.3221\n",
      "Training Loss: 3.322058916091919\n"
     ]
    }
   ],
   "source": [
    "#Let us re run the model training, and lets stop the model after 1st iteration\n",
    "\n",
    "stepi = []\n",
    "lossi = []\n",
    "max_steps = 20000\n",
    "batch_size = 32\n",
    "\n",
    "for i in range(max_steps):\n",
    "    \n",
    "    #minibatch construct\n",
    "    ix = torch.randint(0,Xtr.shape[0],(batch_size,), generator=g) #randomly sample 32 numbers from 0 to 228146\n",
    "    Xb, Yb = Xtr[ix], Ytr[ix] #batch X,Y\n",
    "\n",
    "    #Forward pass\n",
    "    emb = C[Xb] #embedding layer #First pick only ix indexes from X, and then based on X[ix], pick only X[ix] indexes from C #32x3x2\n",
    "    embcat = emb.view(emb.shape[0], -1) #concatenate the input vectors\n",
    "    hpreact = embcat@W1 +b1 #hidden layer pre-activation\n",
    "    h = torch.tanh(hpreact) #first layer \n",
    "    logits = h@W2 + b2 #output of W2 layer \n",
    "    loss = F.cross_entropy(logits, Yb) #ix also indexes from Y, so that we can calculate loss for only those 32 examples\n",
    "    # print(loss.item())\n",
    "    \n",
    "    #bakcward pass\n",
    "    for p in parameters:\n",
    "        p.grad = None #setting gradients to 0 before each backward pass\n",
    "    loss.backward()\n",
    "\n",
    "    #update\n",
    "    lr = 0.1 if i<100000 else 0.01 #step lr decay\n",
    "    for p in parameters:\n",
    "        p.data += -lr*p.grad #updating the parameters\n",
    "\n",
    "    #trackstats\n",
    "    if i%1000 == 0: #print evey 1000th step\n",
    "        print(f'{i:7d}/{max_steps:7d}: {loss.item():.4f}')\n",
    "    lossi.append(loss.log10().item())\n",
    "    stepi.append(i)\n",
    "\n",
    "    break\n",
    "\n",
    "print('Training Loss:', loss.item())\n"
   ]
  },
  {
   "cell_type": "code",
   "execution_count": null,
   "metadata": {},
   "outputs": [
    {
     "data": {
      "text/plain": [
       "(array([2069.,  144.,  106.,   82.,   59.,   56.,   44.,   30.,   43.,\n",
       "          26.,   16.,   38.,   16.,   32.,   24.,   14.,   28.,   27.,\n",
       "          26.,   19.,   24.,   26.,   30.,   14.,   19.,   19.,   22.,\n",
       "          26.,   18.,   12.,   10.,   33.,   27.,   32.,   17.,   24.,\n",
       "          30.,   22.,   26.,   29.,   26.,   40.,   29.,   41.,   49.,\n",
       "          64.,   62.,  100.,  188., 2442.]),\n",
       " array([-1.  , -0.96, -0.92, -0.88, -0.84, -0.8 , -0.76, -0.72, -0.68,\n",
       "        -0.64, -0.6 , -0.56, -0.52, -0.48, -0.44, -0.4 , -0.36, -0.32,\n",
       "        -0.28, -0.24, -0.2 , -0.16, -0.12, -0.08, -0.04,  0.  ,  0.04,\n",
       "         0.08,  0.12,  0.16,  0.2 ,  0.24,  0.28,  0.32,  0.36,  0.4 ,\n",
       "         0.44,  0.48,  0.52,  0.56,  0.6 ,  0.64,  0.68,  0.72,  0.76,\n",
       "         0.8 ,  0.84,  0.88,  0.92,  0.96,  1.  ]),\n",
       " <BarContainer object of 50 artists>)"
      ]
     },
     "execution_count": 32,
     "metadata": {},
     "output_type": "execute_result"
    },
    {
     "data": {
      "image/png": "[encoded data removed]",
      "text/plain": [
       "<Figure size 640x480 with 1 Axes>"
      ]
     },
     "metadata": {},
     "output_type": "display_data"
    }
   ],
   "source": [
    "h\n",
    "#h is the output of the a tanh activation function\n",
    "#it looks like many valus in h are 1 or -1, i.e. they seem to be saturated around 1 or -1\n",
    "plt.hist(h.view(-1).tolist(), bins=50)"
   ]
  },
  {
   "cell_type": "code",
   "execution_count": null,
   "metadata": {},
   "outputs": [
    {
     "data": {
      "text/plain": [
       "(array([  2.,   2.,   1.,   4.,   2.,   4.,   6.,  15.,   5.,  25.,  32.,\n",
       "         49.,  56.,  59.,  92., 119., 134., 197., 195., 221., 257., 275.,\n",
       "        297., 341., 353., 375., 369., 349., 358., 362., 271., 312., 229.,\n",
       "        206., 190., 167.,  87., 111.,  72.,  55.,  41.,  22.,  23.,  18.,\n",
       "         17.,   8.,   5.,   7.,   2.,   1.]),\n",
       " array([-19.05793571, -18.31571732, -17.57349892, -16.83128052,\n",
       "        -16.08906212, -15.34684372, -14.60462532, -13.86240692,\n",
       "        -13.12018852, -12.37797012, -11.63575172, -10.89353333,\n",
       "        -10.15131493,  -9.40909653,  -8.66687813,  -7.92465973,\n",
       "         -7.18244133,  -6.44022293,  -5.69800453,  -4.95578613,\n",
       "         -4.21356773,  -3.47134933,  -2.72913094,  -1.98691254,\n",
       "         -1.24469414,  -0.50247574,   0.23974266,   0.98196106,\n",
       "          1.72417946,   2.46639786,   3.20861626,   3.95083466,\n",
       "          4.69305305,   5.43527145,   6.17748985,   6.91970825,\n",
       "          7.66192665,   8.40414505,   9.14636345,   9.88858185,\n",
       "         10.63080025,  11.37301865,  12.11523705,  12.85745544,\n",
       "         13.59967384,  14.34189224,  15.08411064,  15.82632904,\n",
       "         16.56854744,  17.31076584,  18.05298424]),\n",
       " <BarContainer object of 50 artists>)"
      ]
     },
     "execution_count": 33,
     "metadata": {},
     "output_type": "execute_result"
    },
    {
     "data": {
      "image/png": "[encoded data removed]",
      "text/plain": [
       "<Figure size 640x480 with 1 Axes>"
      ]
     },
     "metadata": {},
     "output_type": "display_data"
    }
   ],
   "source": [
    "#but if we see preactivations, just before entering tanh,\n",
    "plt.hist(hpreact.view(-1).tolist(), bins=50)"
   ]
  },
  {
   "cell_type": "code",
   "execution_count": null,
   "metadata": {},
   "outputs": [],
   "source": [
    "#This saturation of tanh is a big concern!\n",
    "#but during the backprog of loss, \n",
    "# when we backpropagate through tanh\n",
    "# we accumualate gradiants like:\n",
    "# self.grad += (1 - t**2)*out.grad\n",
    "#'t' is the tanh(), so agar 't' 1 ya -1 hoga, to gradients to 0 ho jayenge na!\n",
    "#i.e. \"vanishing gradients\" for so many of the neuros jo ki 1 ya -1 hue hain tanh ki wajah se\n"
   ]
  },
  {
   "cell_type": "code",
   "execution_count": null,
   "metadata": {},
   "outputs": [
    {
     "data": {
      "text/plain": [
       "<matplotlib.image.AxesImage at 0x173b2c2af50>"
      ]
     },
     "execution_count": 39,
     "metadata": {},
     "output_type": "execute_result"
    },
    {
     "data": {
      "image/png": "[encoded data removed]",
      "text/plain": [
       "<Figure size 2000x1000 with 1 Axes>"
      ]
     },
     "metadata": {},
     "output_type": "display_data"
    }
   ],
   "source": [
    "#let us see how often h.abs() is above 0.99\n",
    "plt.figure(figsize=(20, 10))\n",
    "plt.imshow(h.abs() >0.99, cmap='gray', interpolation='nearest') #this is a boolean tensor\n",
    "#we've: 32 (batch size) examples for rows, 200 neurons for columns\n",
    "#white pixels are active neurons in the 'flat' tail region of the  tanh\n",
    "#If a whole column is white, then it means, that neuron is never activated \n",
    "#by any of the 32 examples of the batch -> that is a dead neuron\n",
    "#i.e., if all the examples land in the tail, that that enuron will \n",
    "#never learn, that would be a dead neuron\n",
    "#but since we dont have any whole white columns, that means al of the neurons have \n",
    "#some examples able to activate them, and .'. some gradients are also passing thru them\n",
    "\n",
    "#this is same for sigmoid also\n",
    "\n",
    "#For relu, \n",
    "#it give 0 gradient for the -ve preactivations\n",
    "#and it passes as it is, for +ve preactivations\n",
    "#dead relu neuron (i.e. neuron with relu non linearity never activates)"
   ]
  },
  {
   "cell_type": "code",
   "execution_count": null,
   "metadata": {},
   "outputs": [
    {
     "name": "stdout",
     "output_type": "stream",
     "text": [
      "11897\n"
     ]
    }
   ],
   "source": [
    "#So, since we do not have any dead neurons, we're okay\n",
    "#but, our hpreact is from about -15 to +15, which is very broad, which makes \n",
    "#the tanh saturate, which makes the neurons update less frequently\n",
    "#so, we want hpreact to be narrow\n",
    "#So, lets also scale down the weights of W1 and b1\n",
    "\n",
    "n_embd = 10 #dimentionality of the character embedding vectors\n",
    "n_hidden = 200 #the number of neurons in the hidden layer of the MLP\n",
    "\n",
    "g = torch.Generator().manual_seed(2147483647) \n",
    "C = torch.randn((vocab_size,n_embd), generator=g) \n",
    "W1 = torch.randn((block_size*n_embd,200), generator=g) *0.2\n",
    "b1 = torch.randn(n_hidden, generator=g)    *0.01\n",
    "W2 = torch.randn((n_hidden,vocab_size), generator=g) *0.01 \n",
    "b2 = torch.randn(vocab_size, generator=g)  *0 \n",
    "\n",
    "parameters = [C, W1, b1, W2, b2] \n",
    "\n",
    "for p in parameters:\n",
    "    p.requires_grad = True \n",
    "\n",
    "print(sum(p.nelement() for p in parameters)) "
   ]
  },
  {
   "cell_type": "code",
   "execution_count": null,
   "metadata": {},
   "outputs": [
    {
     "name": "stdout",
     "output_type": "stream",
     "text": [
      "      0/  20000: 3.3135\n",
      "   1000/  20000: 2.1560\n",
      "   2000/  20000: 2.3728\n",
      "   3000/  20000: 2.1645\n",
      "   4000/  20000: 2.1078\n",
      "   5000/  20000: 2.2611\n",
      "   6000/  20000: 2.1219\n",
      "   7000/  20000: 2.4237\n",
      "   8000/  20000: 1.9729\n",
      "   9000/  20000: 2.1180\n",
      "  10000/  20000: 2.1648\n",
      "  11000/  20000: 1.8275\n",
      "  12000/  20000: 2.1509\n",
      "  13000/  20000: 2.1969\n",
      "  14000/  20000: 2.5895\n",
      "  15000/  20000: 1.9729\n",
      "  16000/  20000: 2.3832\n",
      "  17000/  20000: 2.2661\n",
      "  18000/  20000: 1.9382\n",
      "  19000/  20000: 2.2800\n",
      "Training Loss: 1.6756219863891602\n"
     ]
    }
   ],
   "source": [
    "#Let us re run the model training, and lets stop the model after 1st iteration\n",
    "\n",
    "stepi = []\n",
    "lossi = []\n",
    "max_steps = 20000\n",
    "batch_size = 32\n",
    "\n",
    "for i in range(max_steps):\n",
    "    \n",
    "    #minibatch construct\n",
    "    ix = torch.randint(0,Xtr.shape[0],(batch_size,), generator=g) #randomly sample 32 numbers from 0 to 228146\n",
    "    Xb, Yb = Xtr[ix], Ytr[ix] #batch X,Y\n",
    "\n",
    "    #Forward pass\n",
    "    emb = C[Xb] #embedding layer #First pick only ix indexes from X, and then based on X[ix], pick only X[ix] indexes from C #32x3x2\n",
    "    embcat = emb.view(emb.shape[0], -1) #concatenate the input vectors\n",
    "    hpreact = embcat@W1 +b1 #hidden layer pre-activation\n",
    "    h = torch.tanh(hpreact) #first layer \n",
    "    logits = h@W2 + b2 #output of W2 layer \n",
    "    loss = F.cross_entropy(logits, Yb) #ix also indexes from Y, so that we can calculate loss for only those 32 examples\n",
    "    # print(loss.item())\n",
    "    \n",
    "    #bakcward pass\n",
    "    for p in parameters:\n",
    "        p.grad = None #setting gradients to 0 before each backward pass\n",
    "    loss.backward()\n",
    "\n",
    "    #update\n",
    "    lr = 0.1 if i<100000 else 0.01 #step lr decay\n",
    "    for p in parameters:\n",
    "        p.data += -lr*p.grad #updating the parameters\n",
    "\n",
    "    #trackstats\n",
    "    if i%1000 == 0: #print evey 1000th step\n",
    "        print(f'{i:7d}/{max_steps:7d}: {loss.item():.4f}')\n",
    "    lossi.append(loss.log10().item())\n",
    "    stepi.append(i)\n",
    "\n",
    "    \n",
    "\n",
    "print('Training Loss:', loss.item())\n"
   ]
  },
  {
   "cell_type": "code",
   "execution_count": null,
   "metadata": {},
   "outputs": [
    {
     "data": {
      "text/plain": [
       "(array([143., 172., 172., 161., 142., 151., 133., 116., 116., 143.,  95.,\n",
       "        104., 126., 111., 119.,  91.,  86.,  90., 115., 100., 112., 122.,\n",
       "        111.,  77., 103., 119., 100., 106.,  91.,  90., 117., 114., 116.,\n",
       "        115., 107., 131., 111., 109., 114., 118., 142., 127., 162., 169.,\n",
       "        152., 197., 184., 192., 208., 198.]),\n",
       " array([-9.98924255e-01, -9.58988956e-01, -9.19053657e-01, -8.79118358e-01,\n",
       "        -8.39183059e-01, -7.99247760e-01, -7.59312460e-01, -7.19377161e-01,\n",
       "        -6.79441862e-01, -6.39506563e-01, -5.99571264e-01, -5.59635965e-01,\n",
       "        -5.19700665e-01, -4.79765366e-01, -4.39830067e-01, -3.99894768e-01,\n",
       "        -3.59959469e-01, -3.20024170e-01, -2.80088871e-01, -2.40153571e-01,\n",
       "        -2.00218272e-01, -1.60282973e-01, -1.20347674e-01, -8.04123747e-02,\n",
       "        -4.04770756e-02, -5.41776419e-04,  3.93935227e-02,  7.93288219e-02,\n",
       "         1.19264121e-01,  1.59199420e-01,  1.99134719e-01,  2.39070019e-01,\n",
       "         2.79005318e-01,  3.18940617e-01,  3.58875916e-01,  3.98811215e-01,\n",
       "         4.38746514e-01,  4.78681813e-01,  5.18617113e-01,  5.58552412e-01,\n",
       "         5.98487711e-01,  6.38423010e-01,  6.78358309e-01,  7.18293608e-01,\n",
       "         7.58228908e-01,  7.98164207e-01,  8.38099506e-01,  8.78034805e-01,\n",
       "         9.17970104e-01,  9.57905403e-01,  9.97840703e-01]),\n",
       " <BarContainer object of 50 artists>)"
      ]
     },
     "execution_count": 48,
     "metadata": {},
     "output_type": "execute_result"
    },
    {
     "data": {
      "image/png": "[encoded data removed]",
      "text/plain": [
       "<Figure size 640x480 with 1 Axes>"
      ]
     },
     "metadata": {},
     "output_type": "display_data"
    }
   ],
   "source": [
    "plt.hist(h.view(-1).tolist(), bins=50)"
   ]
  },
  {
   "cell_type": "code",
   "execution_count": null,
   "metadata": {},
   "outputs": [
    {
     "data": {
      "text/plain": [
       "(array([  1.,   2.,   0.,   1.,   5.,   3.,  11.,   6.,  13.,  10.,  25.,\n",
       "         40.,  40.,  77.,  63., 101., 127., 171., 184., 220., 227., 267.,\n",
       "        312., 301., 356., 367., 376., 360., 370., 331., 298., 278., 292.,\n",
       "        242., 191., 167., 137., 104.,  85.,  77.,  41.,  30.,  28.,  20.,\n",
       "         11.,   7.,  11.,   5.,   2.,   7.]),\n",
       " array([-3.76367092, -3.62009715, -3.47652338, -3.33294961, -3.18937584,\n",
       "        -3.04580207, -2.9022283 , -2.75865453, -2.61508076, -2.47150699,\n",
       "        -2.32793322, -2.18435945, -2.04078568, -1.8972119 , -1.75363813,\n",
       "        -1.61006436, -1.46649059, -1.32291682, -1.17934305, -1.03576928,\n",
       "        -0.89219551, -0.74862174, -0.60504797, -0.4614742 , -0.31790043,\n",
       "        -0.17432666, -0.03075289,  0.11282088,  0.25639465,  0.39996842,\n",
       "         0.54354219,  0.68711596,  0.83068974,  0.97426351,  1.11783728,\n",
       "         1.26141105,  1.40498482,  1.54855859,  1.69213236,  1.83570613,\n",
       "         1.9792799 ,  2.12285367,  2.26642744,  2.41000121,  2.55357498,\n",
       "         2.69714875,  2.84072252,  2.98429629,  3.12787006,  3.27144383,\n",
       "         3.4150176 ]),\n",
       " <BarContainer object of 50 artists>)"
      ]
     },
     "execution_count": 49,
     "metadata": {},
     "output_type": "execute_result"
    },
    {
     "data": {
      "image/png": "[encoded data removed]",
      "text/plain": [
       "<Figure size 640x480 with 1 Axes>"
      ]
     },
     "metadata": {},
     "output_type": "display_data"
    }
   ],
   "source": [
    "plt.hist(hpreact.view(-1).tolist(), bins=50)"
   ]
  },
  {
   "cell_type": "code",
   "execution_count": null,
   "metadata": {},
   "outputs": [
    {
     "data": {
      "text/plain": [
       "<matplotlib.image.AxesImage at 0x173b9d2c790>"
      ]
     },
     "execution_count": 50,
     "metadata": {},
     "output_type": "execute_result"
    },
    {
     "data": {
      "image/png": "[encoded data removed]",
      "text/plain": [
       "<Figure size 2000x1000 with 1 Axes>"
      ]
     },
     "metadata": {},
     "output_type": "display_data"
    }
   ],
   "source": [
    "#We expect most neurons to fire for most examples\n",
    "#i.e. musch less whites\n",
    "plt.figure(figsize=(20, 10))\n",
    "plt.imshow(h.abs() >0.99, cmap='gray', interpolation='nearest')"
   ]
  },
  {
   "cell_type": "code",
   "execution_count": null,
   "metadata": {},
   "outputs": [
    {
     "name": "stdout",
     "output_type": "stream",
     "text": [
      "tensor(-0.0092) tensor(1.0005)\n",
      "tensor(-0.0022) tensor(0.9981)\n"
     ]
    },
    {
     "data": {
      "text/plain": [
       "(array([2.0000e+00, 0.0000e+00, 0.0000e+00, 0.0000e+00, 4.0000e+00,\n",
       "        2.0000e+00, 1.0000e+01, 1.4000e+01, 3.2000e+01, 4.3000e+01,\n",
       "        9.9000e+01, 2.0100e+02, 3.3000e+02, 6.7800e+02, 1.1510e+03,\n",
       "        1.8900e+03, 3.1450e+03, 5.0380e+03, 7.5760e+03, 1.1015e+04,\n",
       "        1.4609e+04, 1.8740e+04, 2.1668e+04, 2.2884e+04, 2.2196e+04,\n",
       "        1.9285e+04, 1.5584e+04, 1.1695e+04, 8.2440e+03, 5.4380e+03,\n",
       "        3.4140e+03, 2.0750e+03, 1.2270e+03, 7.5900e+02, 4.5100e+02,\n",
       "        2.1900e+02, 1.1600e+02, 9.1000e+01, 3.5000e+01, 1.7000e+01,\n",
       "        8.0000e+00, 1.1000e+01, 1.0000e+00, 1.0000e+00, 0.0000e+00,\n",
       "        1.0000e+00, 0.0000e+00, 0.0000e+00, 0.0000e+00, 1.0000e+00]),\n",
       " array([-6.35457802, -6.08544373, -5.81630943, -5.54717514, -5.27804085,\n",
       "        -5.00890656, -4.73977226, -4.47063797, -4.20150368, -3.93236938,\n",
       "        -3.66323509, -3.3941008 , -3.12496651, -2.85583221, -2.58669792,\n",
       "        -2.31756363, -2.04842934, -1.77929504, -1.51016075, -1.24102646,\n",
       "        -0.97189217, -0.70275787, -0.43362358, -0.16448929,  0.104645  ,\n",
       "         0.3737793 ,  0.64291359,  0.91204788,  1.18118217,  1.45031647,\n",
       "         1.71945076,  1.98858505,  2.25771935,  2.52685364,  2.79598793,\n",
       "         3.06512222,  3.33425652,  3.60339081,  3.8725251 ,  4.14165939,\n",
       "         4.41079369,  4.67992798,  4.94906227,  5.21819656,  5.48733086,\n",
       "         5.75646515,  6.02559944,  6.29473373,  6.56386803,  6.83300232,\n",
       "         7.10213661]),\n",
       " <BarContainer object of 50 artists>)"
      ]
     },
     "execution_count": 55,
     "metadata": {},
     "output_type": "execute_result"
    },
    {
     "data": {
      "image/png": "[encoded data removed]",
      "text/plain": [
       "<Figure size 2000x1000 with 2 Axes>"
      ]
     },
     "metadata": {},
     "output_type": "display_data"
    }
   ],
   "source": [
    "#But how do we decide the scaling factor of the weight layers?\n",
    "#Kaiming init\n",
    "x = torch.randn(1000, 10) #1000 examples of 10 dimentional vectors\n",
    "w = torch.randn(10,200) / 10**0.5 #10 inputs, 200 neurons\n",
    "y = x@w #activation of 200 neurons\n",
    "print(x.mean(), x.std())\n",
    "print(y.mean(), y.std())\n",
    "plt.figure(figsize=(20, 10))\n",
    "plt.subplot(121)\n",
    "plt.hist(x.view(-1).tolist(), bins=50)\n",
    "plt.subplot(122)\n",
    "plt.hist(y.view(-1).tolist(), bins=50)\n",
    "#We see that the stad deviation of y i.e.  x@w is much bigger than that of x\n",
    "#But we want a unit std gaussian throughout the network,\n",
    "#we do not want the gaussians to spread over the network\n",
    "#So, how do we decide the scaling factor of the weight layers?\n",
    "#So, if we divide by sqrt of the number of inputs, we get a unit std\n",
    "#Std = gain/sqrt(number of inputs)\n"
   ]
  },
  {
   "cell_type": "code",
   "execution_count": null,
   "metadata": {},
   "outputs": [
    {
     "data": {
      "text/plain": [
       "tensor(0.2007)"
      ]
     },
     "execution_count": 57,
     "metadata": {},
     "output_type": "execute_result"
    }
   ],
   "source": [
    "(torch.randn(100000)*0.2).std() #\"0.2\" becomes our std deviation.\n",
    "#jis bhi cheeze se gaussian ko multiply karenge, use scale karne ke liye\n",
    "#wahi std dev ban jayega"
   ]
  },
  {
   "cell_type": "code",
   "execution_count": null,
   "metadata": {},
   "outputs": [
    {
     "name": "stdout",
     "output_type": "stream",
     "text": [
      "11897\n"
     ]
    }
   ],
   "source": [
    "n_embd = 10 #dimentionality of the character embedding vectors\n",
    "n_hidden = 200 #the number of neurons in the hidden layer of the MLP\n",
    "\n",
    "g = torch.Generator().manual_seed(2147483647) \n",
    "C = torch.randn((vocab_size,n_embd), generator=g) \n",
    "W1 = torch.randn((block_size*n_embd,200), generator=g) *((5/3)/((block_size*n_embd)**0.5)) #*0.2\n",
    "b1 = torch.randn(n_hidden, generator=g)    *0.01\n",
    "W2 = torch.randn((n_hidden,vocab_size), generator=g) *0.01 \n",
    "b2 = torch.randn(vocab_size, generator=g)  *0 \n",
    "\n",
    "parameters = [C, W1, b1, W2, b2] \n",
    "\n",
    "for p in parameters:\n",
    "    p.requires_grad = True \n",
    "\n",
    "print(sum(p.nelement() for p in parameters)) "
   ]
  },
  {
   "cell_type": "code",
   "execution_count": null,
   "metadata": {},
   "outputs": [],
   "source": [
    "#Precise setting of the initialization is not as importatnt today because of \n",
    "#some modern innovations:\n",
    "#1. Batch Normalisation\n",
    "#2. Better optimizers like Adam\n"
   ]
  },
  {
   "cell_type": "markdown",
   "metadata": {},
   "source": [
    "<h1>Batch Normalisation</h1>"
   ]
  },
  {
   "cell_type": "code",
   "execution_count": null,
   "metadata": {},
   "outputs": [
    {
     "name": "stdout",
     "output_type": "stream",
     "text": [
      "12297\n"
     ]
    }
   ],
   "source": [
    "n_embd = 10 #dimentionality of the character embedding vectors\n",
    "n_hidden = 200 #the number of neurons in the hidden layer of the MLP\n",
    "\n",
    "g = torch.Generator().manual_seed(2147483647) \n",
    "C = torch.randn((vocab_size,n_embd), generator=g) \n",
    "W1 = torch.randn((block_size*n_embd,200), generator=g) *((5/3)/((block_size*n_embd)**0.5)) #*0.2\n",
    "b1 = torch.randn(n_hidden, generator=g)    *0.01\n",
    "W2 = torch.randn((n_hidden,vocab_size), generator=g) *0.01 \n",
    "b2 = torch.randn(vocab_size, generator=g)  *0 \n",
    "\n",
    "#Along with the standardisation of the preactivations (just before entering the \n",
    "#non-linearity), so that the non linearity is not saturated on the extremes, we also\n",
    "#want to shift and scale the normalised preactivations. \n",
    "#Network itself learns how to 'shift and scale' the preactivations.\n",
    "bngain = torch.ones((1, n_hidden)) #we multiply this in the numerator of the batch normalisation\n",
    "bnbias = torch.zeros((1, n_hidden)) #we add this in the denominator of the batch normalisation\n",
    "bnmean_running = torch.zeros((1, n_hidden))  #these wont be including in the 'trainig', \n",
    "bnstd_running = torch.ones((1, n_hidden))    #these are updated on the side of training\n",
    "\n",
    "parameters = [C, W1, b1, W2, b2, bngain, bnbias] #include bngaina and bnbias '.' they'll be trainined during batch normalisation \n",
    "\n",
    "for p in parameters:\n",
    "    p.requires_grad = True \n",
    "\n",
    "print(sum(p.nelement() for p in parameters)) "
   ]
  },
  {
   "cell_type": "code",
   "execution_count": 14,
   "metadata": {},
   "outputs": [
    {
     "data": {
      "text/plain": [
       "torch.Size([32, 200])"
      ]
     },
     "execution_count": 14,
     "metadata": {},
     "output_type": "execute_result"
    }
   ],
   "source": [
    "hpreact.shape"
   ]
  },
  {
   "cell_type": "code",
   "execution_count": 15,
   "metadata": {},
   "outputs": [
    {
     "data": {
      "text/plain": [
       "tensor([[5.1772, 4.3557, 5.1298, 4.6331, 5.4336, 3.9707, 3.1296, 3.7061, 6.2746,\n",
       "         4.3259, 4.1904, 3.8241, 3.6754, 4.0761, 2.9970, 4.0049, 6.4885, 4.0216,\n",
       "         6.2354, 4.2082, 4.0197, 4.6667, 5.0524, 5.4790, 3.7729, 5.1938, 3.9100,\n",
       "         4.2531, 5.9774, 5.2686, 4.4540, 4.3934, 5.5711, 5.2134, 4.9848, 4.9411,\n",
       "         3.4043, 6.5647, 4.5893, 5.8455, 3.5254, 4.4762, 5.3597, 6.7694, 3.8327,\n",
       "         4.0152, 4.9978, 5.1797, 2.8415, 4.0118, 3.1103, 3.0867, 4.2366, 3.1791,\n",
       "         4.2943, 4.9359, 3.2233, 6.1739, 5.4840, 4.8073, 3.9314, 4.4983, 2.6390,\n",
       "         4.2530, 4.9268, 4.3903, 4.5999, 3.5287, 5.5829, 6.0125, 3.6627, 4.9755,\n",
       "         3.6390, 3.8517, 3.4502, 4.6531, 3.2931, 5.6221, 4.3334, 4.3870, 6.0338,\n",
       "         5.0604, 5.4463, 6.1602, 4.6041, 4.4494, 3.8432, 3.4414, 3.7935, 3.9056,\n",
       "         4.5801, 4.8730, 5.0217, 7.5900, 7.1101, 4.6218, 5.1139, 3.5634, 3.7085,\n",
       "         4.0536, 4.0831, 4.1735, 6.2822, 3.8528, 4.7389, 5.1354, 4.6700, 4.2099,\n",
       "         5.9143, 5.3890, 3.8870, 4.4344, 5.0082, 5.8437, 4.4027, 5.0484, 3.2774,\n",
       "         4.3026, 5.8126, 4.6371, 3.6940, 5.0614, 3.3166, 3.6890, 4.3147, 6.0553,\n",
       "         4.1865, 4.0677, 4.4649, 4.0696, 4.6342, 4.5356, 7.2688, 5.4580, 3.4700,\n",
       "         3.4244, 3.9699, 3.5847, 4.7855, 4.8895, 3.7172, 4.0270, 5.2470, 4.5029,\n",
       "         4.2579, 4.9447, 4.6177, 4.7724, 4.1049, 5.4705, 5.7721, 5.8471, 3.9235,\n",
       "         5.2445, 4.9429, 4.2628, 4.1885, 4.1366, 5.3382, 4.9287, 2.7136, 5.6150,\n",
       "         3.3326, 5.9178, 5.3619, 3.6227, 7.3304, 3.1685, 3.3169, 4.4943, 3.7309,\n",
       "         3.6659, 5.2313, 3.9950, 5.5284, 4.1051, 5.6396, 5.0853, 3.5741, 4.0529,\n",
       "         3.5375, 6.8907, 5.6224, 5.7267, 4.7722, 4.3660, 5.3392, 3.9305, 9.4578,\n",
       "         6.2376, 4.9115, 5.4294, 3.7283, 3.6612, 4.9809, 3.7192, 4.5058, 4.2292,\n",
       "         5.6335, 5.0531]], grad_fn=<StdBackward0>)"
      ]
     },
     "execution_count": 15,
     "metadata": {},
     "output_type": "execute_result"
    }
   ],
   "source": [
    "hpreact.mean(0, keepdim=True) #mean over all the examples in the batch\n",
    "hpreact.std(0, keepdim=True)"
   ]
  },
  {
   "cell_type": "code",
   "execution_count": 22,
   "metadata": {},
   "outputs": [
    {
     "name": "stdout",
     "output_type": "stream",
     "text": [
      "      0/ 200000: 3.3147\n",
      "   1000/ 200000: 2.1945\n",
      "   2000/ 200000: 2.3061\n",
      "   3000/ 200000: 2.2337\n",
      "   4000/ 200000: 2.1661\n",
      "   5000/ 200000: 2.3550\n",
      "   6000/ 200000: 2.1222\n",
      "   7000/ 200000: 2.4549\n",
      "   8000/ 200000: 2.0116\n",
      "   9000/ 200000: 2.2276\n",
      "  10000/ 200000: 2.1984\n",
      "  11000/ 200000: 1.8837\n",
      "  12000/ 200000: 2.2050\n",
      "  13000/ 200000: 2.2054\n",
      "  14000/ 200000: 2.6501\n",
      "  15000/ 200000: 2.0817\n",
      "  16000/ 200000: 2.4526\n",
      "  17000/ 200000: 2.2701\n",
      "  18000/ 200000: 2.0249\n",
      "  19000/ 200000: 2.3733\n",
      "  20000/ 200000: 2.3375\n",
      "  21000/ 200000: 2.4851\n",
      "  22000/ 200000: 1.9193\n",
      "  23000/ 200000: 1.9813\n",
      "  24000/ 200000: 2.5391\n",
      "  25000/ 200000: 2.3289\n",
      "  26000/ 200000: 2.3917\n",
      "  27000/ 200000: 2.4123\n",
      "  28000/ 200000: 2.0773\n",
      "  29000/ 200000: 2.6299\n",
      "  30000/ 200000: 2.4359\n",
      "  31000/ 200000: 2.2457\n",
      "  32000/ 200000: 2.4601\n",
      "  33000/ 200000: 2.3236\n",
      "  34000/ 200000: 1.9366\n",
      "  35000/ 200000: 2.3067\n",
      "  36000/ 200000: 2.1359\n",
      "  37000/ 200000: 2.0240\n",
      "  38000/ 200000: 2.6379\n",
      "  39000/ 200000: 2.1167\n",
      "  40000/ 200000: 2.0119\n",
      "  41000/ 200000: 2.2507\n",
      "  42000/ 200000: 2.3109\n",
      "  43000/ 200000: 2.4602\n",
      "  44000/ 200000: 2.0115\n",
      "  45000/ 200000: 1.9389\n",
      "  46000/ 200000: 2.1803\n",
      "  47000/ 200000: 2.0450\n",
      "  48000/ 200000: 2.5557\n",
      "  49000/ 200000: 1.9696\n",
      "  50000/ 200000: 2.2595\n",
      "  51000/ 200000: 2.8347\n",
      "  52000/ 200000: 2.2645\n",
      "  53000/ 200000: 2.3972\n",
      "  54000/ 200000: 2.1809\n",
      "  55000/ 200000: 2.0111\n",
      "  56000/ 200000: 2.0809\n",
      "  57000/ 200000: 1.6430\n",
      "  58000/ 200000: 1.5932\n",
      "  59000/ 200000: 2.4397\n",
      "  60000/ 200000: 2.4775\n",
      "  61000/ 200000: 2.3680\n",
      "  62000/ 200000: 2.5270\n",
      "  63000/ 200000: 2.1187\n",
      "  64000/ 200000: 2.1123\n",
      "  65000/ 200000: 2.0752\n",
      "  66000/ 200000: 2.5810\n",
      "  67000/ 200000: 2.4332\n",
      "  68000/ 200000: 1.9633\n",
      "  69000/ 200000: 2.0959\n",
      "  70000/ 200000: 2.1020\n",
      "  71000/ 200000: 2.1892\n",
      "  72000/ 200000: 2.5667\n",
      "  73000/ 200000: 2.4954\n",
      "  74000/ 200000: 1.7830\n",
      "  75000/ 200000: 2.4469\n",
      "  76000/ 200000: 1.7072\n",
      "  77000/ 200000: 2.2053\n",
      "  78000/ 200000: 2.2163\n",
      "  79000/ 200000: 2.1766\n",
      "  80000/ 200000: 2.2788\n",
      "  81000/ 200000: 1.9443\n",
      "  82000/ 200000: 2.2962\n",
      "  83000/ 200000: 1.9209\n",
      "  84000/ 200000: 2.3714\n",
      "  85000/ 200000: 2.0232\n",
      "  86000/ 200000: 2.1389\n",
      "  87000/ 200000: 2.0709\n",
      "  88000/ 200000: 2.3431\n",
      "  89000/ 200000: 2.2364\n",
      "  90000/ 200000: 2.1862\n",
      "  91000/ 200000: 1.9501\n",
      "  92000/ 200000: 2.3732\n",
      "  93000/ 200000: 1.7913\n",
      "  94000/ 200000: 1.8930\n",
      "  95000/ 200000: 2.0436\n",
      "  96000/ 200000: 1.8903\n",
      "  97000/ 200000: 2.2625\n",
      "  98000/ 200000: 2.0094\n",
      "  99000/ 200000: 2.0187\n",
      " 100000/ 200000: 1.9474\n",
      " 101000/ 200000: 1.7627\n",
      " 102000/ 200000: 2.4553\n",
      " 103000/ 200000: 2.1818\n",
      " 104000/ 200000: 2.2443\n",
      " 105000/ 200000: 2.0616\n",
      " 106000/ 200000: 2.5020\n",
      " 107000/ 200000: 2.2008\n",
      " 108000/ 200000: 2.2020\n",
      " 109000/ 200000: 2.2374\n",
      " 110000/ 200000: 2.4630\n",
      " 111000/ 200000: 2.4669\n",
      " 112000/ 200000: 1.9937\n",
      " 113000/ 200000: 2.3178\n",
      " 114000/ 200000: 2.0267\n",
      " 115000/ 200000: 2.2492\n",
      " 116000/ 200000: 2.1250\n",
      " 117000/ 200000: 2.3978\n",
      " 118000/ 200000: 2.4897\n",
      " 119000/ 200000: 2.3474\n",
      " 120000/ 200000: 1.9545\n",
      " 121000/ 200000: 2.3835\n",
      " 122000/ 200000: 2.1871\n",
      " 123000/ 200000: 2.4524\n",
      " 124000/ 200000: 2.7560\n",
      " 125000/ 200000: 1.9794\n",
      " 126000/ 200000: 2.3587\n",
      " 127000/ 200000: 2.2806\n",
      " 128000/ 200000: 2.5177\n",
      " 129000/ 200000: 2.3016\n",
      " 130000/ 200000: 2.3377\n",
      " 131000/ 200000: 1.9339\n",
      " 132000/ 200000: 1.9629\n",
      " 133000/ 200000: 2.3661\n",
      " 134000/ 200000: 2.0617\n",
      " 135000/ 200000: 2.0812\n",
      " 136000/ 200000: 2.0227\n",
      " 137000/ 200000: 2.1295\n",
      " 138000/ 200000: 2.2231\n",
      " 139000/ 200000: 2.0359\n",
      " 140000/ 200000: 2.4067\n",
      " 141000/ 200000: 1.9403\n",
      " 142000/ 200000: 2.1194\n",
      " 143000/ 200000: 2.3086\n",
      " 144000/ 200000: 2.3170\n",
      " 145000/ 200000: 2.1003\n",
      " 146000/ 200000: 2.2921\n",
      " 147000/ 200000: 2.2568\n",
      " 148000/ 200000: 2.5048\n",
      " 149000/ 200000: 2.2584\n",
      " 150000/ 200000: 2.2954\n",
      " 151000/ 200000: 2.2096\n",
      " 152000/ 200000: 1.9221\n",
      " 153000/ 200000: 2.2021\n",
      " 154000/ 200000: 2.2423\n",
      " 155000/ 200000: 2.1325\n",
      " 156000/ 200000: 1.9662\n",
      " 157000/ 200000: 2.1625\n",
      " 158000/ 200000: 1.9389\n",
      " 159000/ 200000: 2.2791\n",
      " 160000/ 200000: 1.9649\n",
      " 161000/ 200000: 2.1857\n",
      " 162000/ 200000: 1.9504\n",
      " 163000/ 200000: 2.2323\n",
      " 164000/ 200000: 2.1260\n",
      " 165000/ 200000: 2.4645\n",
      " 166000/ 200000: 2.1872\n",
      " 167000/ 200000: 2.4548\n",
      " 168000/ 200000: 1.9483\n",
      " 169000/ 200000: 2.3064\n",
      " 170000/ 200000: 1.9333\n",
      " 171000/ 200000: 2.2021\n",
      " 172000/ 200000: 2.1908\n",
      " 173000/ 200000: 2.2581\n",
      " 174000/ 200000: 2.4068\n",
      " 175000/ 200000: 2.0941\n",
      " 176000/ 200000: 1.9439\n",
      " 177000/ 200000: 2.0713\n",
      " 178000/ 200000: 1.8025\n",
      " 179000/ 200000: 2.1372\n",
      " 180000/ 200000: 2.0775\n",
      " 181000/ 200000: 2.1491\n",
      " 182000/ 200000: 2.2486\n",
      " 183000/ 200000: 2.3603\n",
      " 184000/ 200000: 2.2644\n",
      " 185000/ 200000: 2.3644\n",
      " 186000/ 200000: 1.9216\n",
      " 187000/ 200000: 1.8296\n",
      " 188000/ 200000: 2.2104\n",
      " 189000/ 200000: 2.4190\n",
      " 190000/ 200000: 1.8108\n",
      " 191000/ 200000: 2.2005\n",
      " 192000/ 200000: 2.2589\n",
      " 193000/ 200000: 2.1550\n",
      " 194000/ 200000: 2.0008\n",
      " 195000/ 200000: 2.2646\n",
      " 196000/ 200000: 2.2538\n",
      " 197000/ 200000: 2.1272\n",
      " 198000/ 200000: 1.9702\n",
      " 199000/ 200000: 1.8219\n",
      "Training Loss: 2.514213800430298\n"
     ]
    }
   ],
   "source": [
    "#We can simply standardise these 'pre activations'\n",
    "#so they're exactly gaussian\n",
    "\n",
    "stepi = []\n",
    "lossi = []\n",
    "max_steps = 200000\n",
    "batch_size = 32\n",
    "\n",
    "for i in range(max_steps):\n",
    "    \n",
    "    #minibatch construct\n",
    "    ix = torch.randint(0,Xtr.shape[0],(batch_size,), generator=g) #randomly sample 32 numbers from 0 to 228146\n",
    "    Xb, Yb = Xtr[ix], Ytr[ix] #batch X,Y\n",
    "\n",
    "    #Forward pass\n",
    "    emb = C[Xb] #embedding layer #First pick only ix indexes from X, and then based on X[ix], pick only X[ix] indexes from C #32x3x2\n",
    "    embcat = emb.view(emb.shape[0], -1) #concatenate the input vectors\n",
    "    hpreact = embcat@W1 +b1 #hidden layer pre-activation\n",
    "    #BATCH NORMALISATION\n",
    "    #multiplying by bngane (=1 initally) and adding bnbias (=0 initially) so that initially, the preactivations are exacly unit gaussian\n",
    "    hpreact = bngain*(hpreact - hpreact.mean(0, keepdim=True)) / hpreact.std(0, keepdim=True) + bnbias #standardise for the current batch\n",
    "    h = torch.tanh(hpreact) #first layer \n",
    "    logits = h@W2 + b2 #output of W2 layer \n",
    "    loss = F.cross_entropy(logits, Yb) #ix also indexes from Y, so that we can calculate loss for only those 32 examples\n",
    "    # print(loss.item())\n",
    "    \n",
    "    #bakcward pass\n",
    "    for p in parameters:\n",
    "        p.grad = None #setting gradients to 0 before each backward pass\n",
    "    loss.backward()\n",
    "\n",
    "    #update\n",
    "    # lr = 0.1 if i<100000 else 0.01 #step lr decay\n",
    "    lr = 0.1\n",
    "    for p in parameters:\n",
    "        p.data += -lr*p.grad #updating the parameters\n",
    "\n",
    "    #trackstats\n",
    "    if i%1000 == 0: #print evey 1000th step\n",
    "        print(f'{i:7d}/{max_steps:7d}: {loss.item():.4f}')\n",
    "    lossi.append(loss.log10().item())\n",
    "    stepi.append(i)\n",
    "\n",
    "    \n",
    "\n",
    "print('Training Loss:', loss.item())\n"
   ]
  },
  {
   "cell_type": "code",
   "execution_count": 23,
   "metadata": {},
   "outputs": [
    {
     "data": {
      "text/plain": [
       "[<matplotlib.lines.Line2D at 0x189be4748d0>]"
      ]
     },
     "execution_count": 23,
     "metadata": {},
     "output_type": "execute_result"
    },
    {
     "data": {
      "image/png": "[encoded data removed]",
      "text/plain": [
       "<Figure size 640x480 with 1 Axes>"
      ]
     },
     "metadata": {},
     "output_type": "display_data"
    }
   ],
   "source": [
    "plt.plot(lossi)"
   ]
  },
  {
   "cell_type": "code",
   "execution_count": null,
   "metadata": {},
   "outputs": [],
   "source": [
    "#Stability offered by batch normalisation comes at a terrible cost:\n",
    "#What used to be:\n",
    "# 1 example -> activations -> logits    #this is deterministic in nature\n",
    "#Now, purely because of the efficiency purposes, we started using 'batches'\n",
    "# 32 examples -> 32 activations -> 32 logits #these were processed independently, and it was just an efficiency thing\n",
    "#But, with batch normalisation, normalisation through the batch, we are sort of, 'coupling' the 32 examples together\n",
    "#So, now, when we pass through the network,\n",
    "#say, 1 example, through the hpreaact layer, now hpreact is not just a function of that example and its input,\n",
    "#but it's a function of all the other examples which just randmly became a batch\n",
    "#So, what this does is, this creates a 'jitter' in the h, and then hpreact, and then logits (just because of the mean and std)\n",
    "#But in a strange way, this turns out to be good for training. Reason is, we can think of this as a sort of 'regularisation'\n",
    "#So, even if we dont like the fact that the examples in a batch normalisation are getting\n",
    "#coupled in a fwd pass, we still cant do away with the batch normaliation layers\n",
    "#because of a good 2nd order side effect of 'regularisation' produced by it\n"
   ]
  },
  {
   "cell_type": "code",
   "execution_count": null,
   "metadata": {},
   "outputs": [],
   "source": [
    "#Now, if we want to sample from the model, or get a prediction from the model\n",
    "#If we pass 1 example, the Network requires a 'mean' and a 'std' of the batch,\n",
    "#i.e., the network expects a batch.. \n",
    "#So, as per the paper on batch normalisation,\n",
    "#we can calculate a batch norm at the end of training, and then use that for sampling\n",
    "#i.e., measure mean and std for the entire training set\n",
    "\n",
    "with torch.no_grad(): #telling pytorch, we wont be calculating grad for this, so it will be a bit more efficient\n",
    "    #pass the training set through the network\n",
    "    emb = C[Xtr]\n",
    "    embcat = emb.view(emb.shape[0], -1)\n",
    "    hpreact = embcat@W1 +b1 #get the preactivations for the entire training set\n",
    "    #measure the mean and std over the entire set\n",
    "    bnmean = hpreact.mean(0, keepdim=True)\n",
    "    bnstd = hpreact.std(0, keepdim=True)"
   ]
  },
  {
   "cell_type": "code",
   "execution_count": null,
   "metadata": {},
   "outputs": [],
   "source": [
    "@torch.no_grad() \n",
    "def split_loss(split):\n",
    "    x,y = {\n",
    "    'train': (Xtr, Ytr),\n",
    "    'val': (Xdev, Ydev),\n",
    "    'test': (Xte, Yte),\n",
    "    }[split]\n",
    "    emb = C[x] #embedding layer #First pick only ix indexes from X, and then based on X[ix], pick only X[ix] indexes from C #32x3x2\n",
    "    embcat = emb.view(emb.shape[0], -1) #concatenate the input vectors\n",
    "    hpreact = embcat@W1 +b1 #hidden layer pre-activation\n",
    "    #hpreact = bngain*(hpreact - hpreact.mean(0, keepdim=True)) / hpreact.std(0, keepdim=True) + bnbias #standardise for the current batch\n",
    "    hpreact = bngain*(hpreact - bnmean)/bnstd + bnbias\n",
    "    h = torch.tanh(hpreact) #first layer \n",
    "    logits = h@W2 + b2 #output of W2 layer \n",
    "    loss = F.cross_entropy(logits, y)\n",
    "    print(f'{split} loss: {loss:.4f}')\n",
    "\n",
    "split_loss('train')\n",
    "split_loss('val')"
   ]
  },
  {
   "cell_type": "code",
   "execution_count": null,
   "metadata": {},
   "outputs": [],
   "source": [
    "#Also, the thing is, nobody want to calucalte batch mean and batch std like\n",
    "# bnmean = hpreact.mean(0, keepdim=True)\n",
    "# bnstd = hpreact.std(0, keepdim=True) \n",
    "#So, paper also introduced a method of calc batch mean and batch std \n",
    "#in a running manner along the training of the network\n"
   ]
  },
  {
   "cell_type": "code",
   "execution_count": null,
   "metadata": {},
   "outputs": [],
   "source": [
    "#We can simply standardise these 'pre activations'\n",
    "#so they're exactly gaussian\n",
    "\n",
    "stepi = []\n",
    "lossi = []\n",
    "max_steps = 200000\n",
    "batch_size = 32\n",
    "\n",
    "for i in range(max_steps):\n",
    "    \n",
    "    #minibatch construct\n",
    "    ix = torch.randint(0,Xtr.shape[0],(batch_size,), generator=g) #randomly sample 32 numbers from 0 to 228146\n",
    "    Xb, Yb = Xtr[ix], Ytr[ix] #batch X,Y\n",
    "\n",
    "    #Forward pass\n",
    "    emb = C[Xb] #embedding layer #First pick only ix indexes from X, and then based on X[ix], pick only X[ix] indexes from C #32x3x2\n",
    "    embcat = emb.view(emb.shape[0], -1) #concatenate the input vectors\n",
    "    hpreact = embcat@W1 +b1 #hidden layer pre-activation\n",
    "    #BATCH NORMALISATION\n",
    "    #multiplying by bngane (=1 initally) and adding bnbias (=0 initially) so that initially, the preactivations are exacly unit gaussian\n",
    "    bnmeani = hpreact.mean(0, keepdim=True)\n",
    "    bnstdi = hpreact.std(0, keepdim=True)\n",
    "    hpreact = bngain*(hpreact - bnmeani) / bnstdi + bnbias #standardise for the current batch\n",
    "    \n",
    "    with torch.no_grad():\n",
    "        bnmean_running = 0.999 * bnmean_running + 0.001 * bnmeani #means -> 0.999*something + 0.001*secondthing -> 'mostly' be that same thing, but 0.001 times get updates in the direction of second thing\n",
    "        bnstd_running = 0.999 * bnstd_running + 0.001 * bnstdi\n",
    "\n",
    "    h = torch.tanh(hpreact) #first layer \n",
    "    logits = h@W2 + b2 #output of W2 layer \n",
    "    loss = F.cross_entropy(logits, Yb) #ix also indexes from Y, so that we can calculate loss for only those 32 examples\n",
    "    # print(loss.item())\n",
    "    \n",
    "    #bakcward pass\n",
    "    for p in parameters:\n",
    "        p.grad = None #setting gradients to 0 before each backward pass\n",
    "    loss.backward()\n",
    "\n",
    "    #update\n",
    "    # lr = 0.1 if i<100000 else 0.01 #step lr decay\n",
    "    lr = 0.1\n",
    "    for p in parameters:\n",
    "        p.data += -lr*p.grad #updating the parameters\n",
    "\n",
    "    #trackstats\n",
    "    if i%1000 == 0: #print evey 1000th step\n",
    "        print(f'{i:7d}/{max_steps:7d}: {loss.item():.4f}')\n",
    "    lossi.append(loss.log10().item())\n",
    "    stepi.append(i)\n",
    "\n",
    "    \n",
    "\n",
    "print('Training Loss:', loss.item())\n"
   ]
  }
 ],
 "metadata": {
  "kernelspec": {
   "display_name": "base",
   "language": "python",
   "name": "python3"
  },
  "language_info": {
   "codemirror_mode": {
    "name": "ipython",
    "version": 3
   },
   "file_extension": ".py",
   "mimetype": "text/x-python",
   "name": "python",
   "nbconvert_exporter": "python",
   "pygments_lexer": "ipython3",
   "version": "3.11.5"
  }
 },
 "nbformat": 4,
 "nbformat_minor": 2
}
