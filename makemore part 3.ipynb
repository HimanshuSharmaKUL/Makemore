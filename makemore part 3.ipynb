{
 "cells": [
  {
   "cell_type": "code",
   "execution_count": 1,
   "metadata": {},
   "outputs": [],
   "source": [
    "import torch\n",
    "import torch.nn.functional as F\n",
    "import matplotlib.pyplot as plt\n",
    "%matplotlib inline"
   ]
  },
  {
   "cell_type": "code",
   "execution_count": 2,
   "metadata": {},
   "outputs": [
    {
     "data": {
      "text/plain": [
       "['emma', 'olivia', 'ava', 'isabella', 'sophia', 'charlotte', 'mia', 'amelia']"
      ]
     },
     "execution_count": 2,
     "metadata": {},
     "output_type": "execute_result"
    }
   ],
   "source": [
    "#read all words\n",
    "words = open('names.txt', 'r').read().splitlines()\n",
    "words[:8]"
   ]
  },
  {
   "cell_type": "code",
   "execution_count": 3,
   "metadata": {},
   "outputs": [
    {
     "name": "stdout",
     "output_type": "stream",
     "text": [
      "{1: 'a', 2: 'b', 3: 'c', 4: 'd', 5: 'e', 6: 'f', 7: 'g', 8: 'h', 9: 'i', 10: 'j', 11: 'k', 12: 'l', 13: 'm', 14: 'n', 15: 'o', 16: 'p', 17: 'q', 18: 'r', 19: 's', 20: 't', 21: 'u', 22: 'v', 23: 'w', 24: 'x', 25: 'y', 26: 'z', 0: '.'}\n",
      "27\n"
     ]
    }
   ],
   "source": [
    "#build vocabulaty of characters and mappings to/from integers\n",
    "chars = sorted(list(set(''.join(words))))\n",
    "stoi = {s:i+1 for i,s in enumerate(chars)}\n",
    "stoi['.']=0\n",
    "itos = {i:s for s,i in stoi.items()}\n",
    "vocab_size = len(itos)\n",
    "print(itos)\n",
    "print(vocab_size)"
   ]
  },
  {
   "cell_type": "code",
   "execution_count": 4,
   "metadata": {},
   "outputs": [
    {
     "name": "stdout",
     "output_type": "stream",
     "text": [
      "torch.Size([182625, 3]) torch.Size([182625])\n",
      "torch.Size([22655, 3]) torch.Size([22655])\n",
      "torch.Size([22866, 3]) torch.Size([22866])\n"
     ]
    }
   ],
   "source": [
    "#build the dataset\n",
    "block_size = 3 #context length: how many characters to look at to predict the next one?\n",
    "\n",
    "def build_dataset(words):\n",
    "    X,Y = [],[]\n",
    "    for w in words: #all words\n",
    "        \n",
    "        context = [0]*block_size\n",
    "        for ch in w + '.':\n",
    "            ix = stoi[ch]\n",
    "            X.append(context)\n",
    "            Y.append(ix)\n",
    "            # print(''.join(itos[i] for i in context), '--->', itos[ix])\n",
    "            context = context[1:] + [ix] #crop the first element and apend the new one\n",
    "\n",
    "    X = torch.tensor(X)\n",
    "    Y = torch.tensor(Y)\n",
    "    print(X.shape, Y.shape)\n",
    "    return X,Y\n",
    "\n",
    "import random\n",
    "random.seed(42)\n",
    "random.shuffle(words)\n",
    "n1  = int(0.8*len(words))\n",
    "n2 = int(0.9*len(words))\n",
    "Xtr, Ytr = build_dataset(words[:n1])            #80%\n",
    "Xdev, Ydev = build_dataset(words[n1:n2])        #10%\n",
    "Xte, Yte = build_dataset(words[n2:])            #10%"
   ]
  },
  {
   "cell_type": "code",
   "execution_count": 16,
   "metadata": {},
   "outputs": [
    {
     "name": "stdout",
     "output_type": "stream",
     "text": [
      "11897\n"
     ]
    }
   ],
   "source": [
    "#MLP Revisited\n",
    "n_embd = 10 #dimentionality of the character embedding vectors\n",
    "n_hidden = 200 #the number of neurons in the hidden layer of the MLP\n",
    "\n",
    "g = torch.Generator().manual_seed(2147483647) #for reproducibility\n",
    "C = torch.randn((vocab_size,n_embd), generator=g) #embedding layer\n",
    "\n",
    "W1 = torch.randn((block_size*n_embd,200), generator=g) #first layer\n",
    "b1 = torch.randn(n_hidden, generator=g) #biases for first layer\n",
    "\n",
    "W2 = torch.randn((n_hidden,vocab_size), generator=g) #second layer\n",
    "b2 = torch.randn(vocab_size, generator=g) #biases for second layer\n",
    "\n",
    "parameters = [C, W1, b1, W2, b2] #all the parameters\n",
    "\n",
    "for p in parameters:\n",
    "    p.requires_grad = True #enabling gradients for all parameters\n",
    "\n",
    "print(sum(p.nelement() for p in parameters)) #total no. of parameters"
   ]
  },
  {
   "cell_type": "code",
   "execution_count": 6,
   "metadata": {},
   "outputs": [
    {
     "name": "stdout",
     "output_type": "stream",
     "text": [
      "      0/  20000: 27.8817\n",
      "   1000/  20000: 4.0763\n",
      "   2000/  20000: 3.0432\n",
      "   3000/  20000: 2.9293\n",
      "   4000/  20000: 2.3651\n",
      "   5000/  20000: 2.3953\n",
      "   6000/  20000: 2.3735\n",
      "   7000/  20000: 2.8519\n",
      "   8000/  20000: 2.4473\n",
      "   9000/  20000: 2.5038\n",
      "  10000/  20000: 2.8465\n",
      "  11000/  20000: 2.0805\n",
      "  12000/  20000: 2.4704\n",
      "  13000/  20000: 2.4806\n",
      "  14000/  20000: 2.9589\n",
      "  15000/  20000: 2.2172\n",
      "  16000/  20000: 2.5939\n",
      "  17000/  20000: 2.6985\n",
      "  18000/  20000: 2.4330\n",
      "  19000/  20000: 2.3111\n",
      "Training Loss: 2.054908275604248\n"
     ]
    }
   ],
   "source": [
    "stepi = []\n",
    "lossi = []\n",
    "max_steps = 20000\n",
    "batch_size = 32\n",
    "\n",
    "for i in range(max_steps):\n",
    "    \n",
    "    #minibatch construct\n",
    "    ix = torch.randint(0,Xtr.shape[0],(batch_size,), generator=g) #randomly sample 32 numbers from 0 to 228146\n",
    "    Xb, Yb = Xtr[ix], Ytr[ix] #batch X,Y\n",
    "\n",
    "    #Forward pass\n",
    "    emb = C[Xb] #embedding layer #First pick only ix indexes from X, and then based on X[ix], pick only X[ix] indexes from C #32x3x2\n",
    "    embcat = emb.view(emb.shape[0], -1) #concatenate the input vectors\n",
    "    hpreact = embcat@W1 +b1 #hidden layer pre-activation\n",
    "    h = torch.tanh(hpreact) #first layer \n",
    "    logits = h@W2 + b2 #output of W2 layer \n",
    "    loss = F.cross_entropy(logits, Yb) #ix also indexes from Y, so that we can calculate loss for only those 32 examples\n",
    "    # print(loss.item())\n",
    "    \n",
    "    #bakcward pass\n",
    "    for p in parameters:\n",
    "        p.grad = None #setting gradients to 0 before each backward pass\n",
    "    loss.backward()\n",
    "\n",
    "    #update\n",
    "    lr = 0.1 if i<100000 else 0.01 #step lr decay\n",
    "    for p in parameters:\n",
    "        p.data += -lr*p.grad #updating the parameters\n",
    "\n",
    "    #trackstats\n",
    "    if i%1000 == 0: #print evey 1000th step\n",
    "        print(f'{i:7d}/{max_steps:7d}: {loss.item():.4f}')\n",
    "    lossi.append(loss.log10().item())\n",
    "    stepi.append(i)\n",
    "\n",
    "print('Training Loss:', loss.item())"
   ]
  },
  {
   "cell_type": "code",
   "execution_count": 7,
   "metadata": {},
   "outputs": [
    {
     "data": {
      "text/plain": [
       "[<matplotlib.lines.Line2D at 0x173a945ce90>]"
      ]
     },
     "execution_count": 7,
     "metadata": {},
     "output_type": "execute_result"
    },
    {
     "data": {
      "image/png": "[encoded data removed]",
      "text/plain": [
       "<Figure size 640x480 with 1 Axes>"
      ]
     },
     "metadata": {},
     "output_type": "display_data"
    }
   ],
   "source": [
    "plt.plot(lossi)"
   ]
  },
  {
   "cell_type": "code",
   "execution_count": null,
   "metadata": {},
   "outputs": [],
   "source": [
    "@torch.no_grad() #this decorator disables gradient tracking\n",
    "                 #whatever happens in this function below, it instructs pytorch\n",
    "                 #to never require gradients for these operations since pytorch usually keeps track of gradients in anticipation of a backward pass\n",
    "                 #but yaha koi backward pass nahi hai!\n",
    "                 #for efficiency\n",
    "def split_loss(split):\n",
    "    x,y = {\n",
    "    'train': (Xtr, Ytr),\n",
    "    'val': (Xdev, Ydev),\n",
    "    'test': (Xte, Yte),\n",
    "    }[split]\n",
    "    emb = C[x] #embedding layer #First pick only ix indexes from X, and then based on X[ix], pick only X[ix] indexes from C #32x3x2\n",
    "    embcat = emb.view(emb.shape[0], -1) #concatenate the input vectors\n",
    "    hpreact = embcat@W1 +b1 #hidden layer pre-activation\n",
    "    h = torch.tanh(hpreact) #first layer \n",
    "    logits = h@W2 + b2 #output of W2 layer \n",
    "    loss = F.cross_entropy(logits, y)\n",
    "    print(f'{split} loss: {loss:.4f}')\n",
    "\n",
    "split_loss('train')\n",
    "split_loss('val')"
   ]
  },
  {
   "cell_type": "code",
   "execution_count": null,
   "metadata": {},
   "outputs": [
    {
     "name": "stdout",
     "output_type": "stream",
     "text": [
      "moha.\n",
      "imyah.\n",
      "see.\n",
      "mad.\n",
      "rylla.\n",
      "ethantengrlee.\n",
      "adejedieliigh.\n",
      "porea.\n",
      "eden.\n",
      "sanana.\n",
      "sephetormara.\n",
      "noshabergaviana.\n",
      "tin.\n",
      "joselynn.\n",
      "nikolanobemander.\n",
      "yaralyehs.\n",
      "lia.\n",
      "myskolanihan.\n",
      "sakyansun.\n",
      "zakelijunett.\n"
     ]
    }
   ],
   "source": [
    "#Sample form the model\n",
    "g = torch.Generator().manual_seed(2147483647+10)\n",
    "for _ in range(20):\n",
    "    out = []\n",
    "    context = [0] * block_size #initialise with all '...'\n",
    "    while True:\n",
    "        emb = C[torch.tensor([context])] #(1,block_size,d): 1st dim was the size of training set, but here we're generating only 1 example,\n",
    "        h = torch.tanh(emb.view(1,-1)@W1+b1)\n",
    "        logits = h@W2 +b2\n",
    "        probs = F.softmax(logits, dim=1)\n",
    "        #sample from the distribution\n",
    "        ix = torch.multinomial(probs, num_samples=1, generator = g).item()\n",
    "        # shift the context window and track the samples\n",
    "        context = context[1:]+[ix]\n",
    "        out.append(ix)\n",
    "        # if we sample the special '.' token, break\n",
    "        if ix == 0:\n",
    "            break\n",
    "\n",
    "    print(''.join(itos[i] for i in out)) # decode and print the generated word\n"
   ]
  },
  {
   "cell_type": "code",
   "execution_count": null,
   "metadata": {},
   "outputs": [],
   "source": [
    "#Deeper look at the code\n",
    "#Initial loss, at 0th iteration is very high, Network is very confidently wrong .'. high initiall loss\n",
    "# idially it must be low\n",
    "#and we can have an idea of the loss to expect at the beginnning\n",
    "#by thinking that at the start, the probab distrib of all of the characters \n",
    "#must be a uniform distribution, since we have no reason to think about why \n",
    "#some characters must be higher than others\n",
    "-torch.tensot(1/27.0).log() #-log liklih of uniform distribution\n",
    "\n"
   ]
  },
  {
   "cell_type": "code",
   "execution_count": null,
   "metadata": {},
   "outputs": [
    {
     "name": "stdout",
     "output_type": "stream",
     "text": [
      "tensor([0.2500, 0.2500, 0.2500, 0.2500]) tensor(1.3863)\n",
      "tensor([0.0066, 0.9802, 0.0066, 0.0066]) tensor(0.0200)\n",
      "tensor([-0.4403,  0.6508, -0.2400,  0.3649]) tensor([0.1345, 0.4004, 0.1643, 0.3008]) tensor(0.9153)\n",
      "tensor([ 4.7755, -1.6245, 10.0559,  4.4860]) tensor([5.0454e-03, 8.3833e-06, 9.9117e-01, 3.7771e-03]) tensor(11.6893)\n"
     ]
    }
   ],
   "source": [
    "#4D example of the issue\n",
    "logits = torch.tensor([0.0, 0.0, 0.0, 0.0])\n",
    "probs = F.softmax(logits, dim=0)\n",
    "loss = -probs[1].log() #checking the probab of the 2nd character (assuming it to be next character)\n",
    "print(probs, loss )\n",
    "#But, if the probs are like uniform distribution (i.e. if all/most logits are near to 0)\n",
    "#then it doesnt matter we check the loss for the 2nd character or 3rd or 4th etc..\n",
    "#because all of them will have the same loss\n",
    "\n",
    "#PURELY by chance it can happen that say 2nd character got high logit, \n",
    "#i.e. high probab\n",
    "logits = torch.tensor([0.0, 5.0, 0.0, 0.0])\n",
    "probs = F.softmax(logits, dim=0)\n",
    "#then checking loss of 2nd chracter will give very very loww loss\n",
    "#and even though this is good for us, but this could be a local minima\n",
    "loss = -probs[1].log() \n",
    "print(probs, loss )\n",
    "\n",
    "#But most of the times other characters will have high logits (fake counts)\n",
    "#i.e. high probab to wrong other characters which will give us high loss\n",
    "# logits = torch.tensor([0.0, 0.0, 0.0, 0.0])\n",
    "logits = torch.randn(4) #these are near to 0\n",
    "probs = F.softmax(logits, dim=0)\n",
    "loss = -probs[1].log() #checking the probab of the 2nd character (assuming it to be next character)\n",
    "print(logits, probs, loss)\n",
    "\n",
    "logits = torch.randn(4) *10 #but if we make the logits high, then the prob will also be high, chances of 'wrong' probs being high also increases -> and hence our loss increases\n",
    "probs = F.softmax(logits, dim=0)\n",
    "loss = -probs[1].log() #checking the probab of the 2nd character (assuming it to be next character)\n",
    "print(logits, probs, loss )\n",
    "\n",
    "#similarly, if our logits are even more extreme, then we'll get higher probabs, i.e. higher chance of getting 'wrong' probs high -> i.e. even high loss\n",
    "#so, we need some kind of normalisation of logits\n",
    "#to make the loss independent of the scale of logits\n"
   ]
  },
  {
   "cell_type": "code",
   "execution_count": 17,
   "metadata": {},
   "outputs": [
    {
     "name": "stdout",
     "output_type": "stream",
     "text": [
      "      0/  20000: 27.8817\n",
      "Training Loss: 27.881732940673828\n"
     ]
    }
   ],
   "source": [
    "#Let us re run the model training, and lets stop the model after 1st iteration\n",
    "\n",
    "stepi = []\n",
    "lossi = []\n",
    "max_steps = 20000\n",
    "batch_size = 32\n",
    "\n",
    "for i in range(max_steps):\n",
    "    \n",
    "    #minibatch construct\n",
    "    ix = torch.randint(0,Xtr.shape[0],(batch_size,), generator=g) #randomly sample 32 numbers from 0 to 228146\n",
    "    Xb, Yb = Xtr[ix], Ytr[ix] #batch X,Y\n",
    "\n",
    "    #Forward pass\n",
    "    emb = C[Xb] #embedding layer #First pick only ix indexes from X, and then based on X[ix], pick only X[ix] indexes from C #32x3x2\n",
    "    embcat = emb.view(emb.shape[0], -1) #concatenate the input vectors\n",
    "    hpreact = embcat@W1 +b1 #hidden layer pre-activation\n",
    "    h = torch.tanh(hpreact) #first layer \n",
    "    logits = h@W2 + b2 #output of W2 layer \n",
    "    loss = F.cross_entropy(logits, Yb) #ix also indexes from Y, so that we can calculate loss for only those 32 examples\n",
    "    # print(loss.item())\n",
    "    \n",
    "    #bakcward pass\n",
    "    for p in parameters:\n",
    "        p.grad = None #setting gradients to 0 before each backward pass\n",
    "    loss.backward()\n",
    "\n",
    "    #update\n",
    "    lr = 0.1 if i<100000 else 0.01 #step lr decay\n",
    "    for p in parameters:\n",
    "        p.data += -lr*p.grad #updating the parameters\n",
    "\n",
    "    #trackstats\n",
    "    if i%1000 == 0: #print evey 1000th step\n",
    "        print(f'{i:7d}/{max_steps:7d}: {loss.item():.4f}')\n",
    "    lossi.append(loss.log10().item())\n",
    "    stepi.append(i)\n",
    "\n",
    "    break\n",
    "\n",
    "print('Training Loss:', loss.item())"
   ]
  },
  {
   "cell_type": "code",
   "execution_count": null,
   "metadata": {},
   "outputs": [
    {
     "data": {
      "text/plain": [
       "tensor([ -2.3527,  36.4366, -10.7306,   5.7165,  18.6409, -11.6998,  -2.1991,\n",
       "          1.8535,  10.9996,  10.6730,  12.3507, -10.3809,   4.7243, -24.4257,\n",
       "         -8.5909,   1.9024, -12.2744, -12.4751, -23.2778,  -2.0163,  25.8767,\n",
       "         14.2108,  17.7691, -10.9204, -20.7335,   6.4560,  11.1615],\n",
       "       grad_fn=<SelectBackward0>)"
      ]
     },
     "execution_count": 18,
     "metadata": {},
     "output_type": "execute_result"
    }
   ],
   "source": [
    "#such a high initall loss is because the logits are taking extrem values\n",
    "logits[0] #lets see first row of logits\n",
    "#so, we need logits to be nearer to 0, i.e. less extreme"
   ]
  },
  {
   "cell_type": "code",
   "execution_count": 24,
   "metadata": {},
   "outputs": [
    {
     "name": "stdout",
     "output_type": "stream",
     "text": [
      "11897\n"
     ]
    }
   ],
   "source": [
    "#So, we modify our nextwork:\n",
    "\n",
    "#MLP Revisited\n",
    "n_embd = 10 #dimentionality of the character embedding vectors\n",
    "n_hidden = 200 #the number of neurons in the hidden layer of the MLP\n",
    "\n",
    "g = torch.Generator().manual_seed(2147483647) \n",
    "C = torch.randn((vocab_size,n_embd), generator=g) \n",
    "W1 = torch.randn((block_size*n_embd,200), generator=g) \n",
    "b1 = torch.randn(n_hidden, generator=g)  \n",
    "W2 = torch.randn((n_hidden,vocab_size), generator=g) *0.01 #scale down W2 to make the logits closer to 0\n",
    "b2 = torch.randn(vocab_size, generator=g)  *0 #we want b2 to be 0 initially, since we want logits to be nearer to 0 (or apas me pass)\n",
    "\n",
    "parameters = [C, W1, b1, W2, b2] #all the parameters\n",
    "\n",
    "for p in parameters:\n",
    "    p.requires_grad = True #enabling gradients for all parameters\n",
    "\n",
    "print(sum(p.nelement() for p in parameters)) #total no. of parameters"
   ]
  },
  {
   "cell_type": "code",
   "execution_count": 25,
   "metadata": {},
   "outputs": [
    {
     "name": "stdout",
     "output_type": "stream",
     "text": [
      "      0/  20000: 3.3221\n",
      "   1000/  20000: 2.0833\n",
      "   2000/  20000: 2.3735\n",
      "   3000/  20000: 2.2160\n",
      "   4000/  20000: 2.3154\n",
      "   5000/  20000: 2.3121\n",
      "   6000/  20000: 2.2268\n",
      "   7000/  20000: 2.3368\n",
      "   8000/  20000: 1.9117\n",
      "   9000/  20000: 2.1829\n",
      "  10000/  20000: 2.1900\n",
      "  11000/  20000: 1.9048\n",
      "  12000/  20000: 2.3158\n",
      "  13000/  20000: 2.2492\n",
      "  14000/  20000: 2.7875\n",
      "  15000/  20000: 2.0552\n",
      "  16000/  20000: 2.4447\n",
      "  17000/  20000: 2.2630\n",
      "  18000/  20000: 1.9778\n",
      "  19000/  20000: 2.4615\n",
      "Training Loss: 1.7331013679504395\n"
     ]
    }
   ],
   "source": [
    "#Let us re run the model training, and lets stop the model after 1st iteration\n",
    "\n",
    "stepi = []\n",
    "lossi = []\n",
    "max_steps = 20000\n",
    "batch_size = 32\n",
    "\n",
    "for i in range(max_steps):\n",
    "    \n",
    "    #minibatch construct\n",
    "    ix = torch.randint(0,Xtr.shape[0],(batch_size,), generator=g) #randomly sample 32 numbers from 0 to 228146\n",
    "    Xb, Yb = Xtr[ix], Ytr[ix] #batch X,Y\n",
    "\n",
    "    #Forward pass\n",
    "    emb = C[Xb] #embedding layer #First pick only ix indexes from X, and then based on X[ix], pick only X[ix] indexes from C #32x3x2\n",
    "    embcat = emb.view(emb.shape[0], -1) #concatenate the input vectors\n",
    "    hpreact = embcat@W1 +b1 #hidden layer pre-activation\n",
    "    h = torch.tanh(hpreact) #first layer \n",
    "    logits = h@W2 + b2 #output of W2 layer \n",
    "    loss = F.cross_entropy(logits, Yb) #ix also indexes from Y, so that we can calculate loss for only those 32 examples\n",
    "    # print(loss.item())\n",
    "    \n",
    "    #bakcward pass\n",
    "    for p in parameters:\n",
    "        p.grad = None #setting gradients to 0 before each backward pass\n",
    "    loss.backward()\n",
    "\n",
    "    #update\n",
    "    lr = 0.1 if i<100000 else 0.01 #step lr decay\n",
    "    for p in parameters:\n",
    "        p.data += -lr*p.grad #updating the parameters\n",
    "\n",
    "    #trackstats\n",
    "    if i%1000 == 0: #print evey 1000th step\n",
    "        print(f'{i:7d}/{max_steps:7d}: {loss.item():.4f}')\n",
    "    lossi.append(loss.log10().item())\n",
    "    stepi.append(i)\n",
    "\n",
    "    \n",
    "\n",
    "print('Training Loss:', loss.item())\n",
    "#initially loss is much less now\n",
    "#we can scale down W2 even lower to get even smaller loss\n",
    "#let us run it for more iterations"
   ]
  },
  {
   "cell_type": "code",
   "execution_count": 26,
   "metadata": {},
   "outputs": [
    {
     "data": {
      "text/plain": [
       "[<matplotlib.lines.Line2D at 0x173a941b410>]"
      ]
     },
     "execution_count": 26,
     "metadata": {},
     "output_type": "execute_result"
    },
    {
     "data": {
      "image/png": "[encoded data removed]",
      "text/plain": [
       "<Figure size 640x480 with 1 Axes>"
      ]
     },
     "metadata": {},
     "output_type": "display_data"
    }
   ],
   "source": [
    "plt.plot(lossi)"
   ]
  },
  {
   "cell_type": "code",
   "execution_count": null,
   "metadata": {},
   "outputs": [],
   "source": [
    "#We dont get that 'Hockey' shape of the loss curve.\n",
    "#becuase networks first try to 'squash' the logits into a uniform distribution\n",
    "#and then try to rearrange the logits to the distribution of the training data\n",
    "#But here, we did that initial 'easy gains' part ourselves so that our model can focus on hard gains"
   ]
  },
  {
   "cell_type": "code",
   "execution_count": 27,
   "metadata": {},
   "outputs": [
    {
     "name": "stdout",
     "output_type": "stream",
     "text": [
      "train loss: 2.2784\n",
      "val loss: 2.3086\n"
     ]
    }
   ],
   "source": [
    "@torch.no_grad() \n",
    "def split_loss(split):\n",
    "    x,y = {\n",
    "    'train': (Xtr, Ytr),\n",
    "    'val': (Xdev, Ydev),\n",
    "    'test': (Xte, Yte),\n",
    "    }[split]\n",
    "    emb = C[x] #embedding layer #First pick only ix indexes from X, and then based on X[ix], pick only X[ix] indexes from C #32x3x2\n",
    "    embcat = emb.view(emb.shape[0], -1) #concatenate the input vectors\n",
    "    hpreact = embcat@W1 +b1 #hidden layer pre-activation\n",
    "    h = torch.tanh(hpreact) #first layer \n",
    "    logits = h@W2 + b2 #output of W2 layer \n",
    "    loss = F.cross_entropy(logits, y)\n",
    "    print(f'{split} loss: {loss:.4f}')\n",
    "\n",
    "split_loss('train')\n",
    "split_loss('val')"
   ]
  },
  {
   "cell_type": "markdown",
   "metadata": {},
   "source": [
    "Problem 2"
   ]
  },
  {
   "cell_type": "code",
   "execution_count": null,
   "metadata": {},
   "outputs": [],
   "source": [
    "#But, can we keep the weights of W2 as 0?\n",
    "\n",
    "n_embd = 10 \n",
    "n_hidden = 200 \n",
    "\n",
    "g = torch.Generator().manual_seed(2147483647) \n",
    "C = torch.randn((vocab_size,n_embd), generator=g) \n",
    "W1 = torch.randn((block_size*n_embd,200), generator=g) \n",
    "b1 = torch.randn(n_hidden, generator=g)  \n",
    "W2 = torch.randn((n_hidden,vocab_size), generator=g) *0 #w2 = 0\n",
    "b2 = torch.randn(vocab_size, generator=g)  *0 \n",
    "\n",
    "parameters = [C, W1, b1, W2, b2] \n",
    "\n",
    "for p in parameters:\n",
    "    p.requires_grad = True \n",
    "\n",
    "print(sum(p.nelement() for p in parameters)) "
   ]
  }
 ],
 "metadata": {
  "kernelspec": {
   "display_name": "base",
   "language": "python",
   "name": "python3"
  },
  "language_info": {
   "codemirror_mode": {
    "name": "ipython",
    "version": 3
   },
   "file_extension": ".py",
   "mimetype": "text/x-python",
   "name": "python",
   "nbconvert_exporter": "python",
   "pygments_lexer": "ipython3",
   "version": "3.11.5"
  }
 },
 "nbformat": 4,
 "nbformat_minor": 2
}
