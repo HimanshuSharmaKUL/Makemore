{
 "cells": [
  {
   "cell_type": "code",
   "execution_count": 1,
   "metadata": {},
   "outputs": [],
   "source": [
    "import torch\n",
    "import torch.nn.functional as F\n",
    "import matplotlib.pyplot as plt\n",
    "%matplotlib inline"
   ]
  },
  {
   "cell_type": "code",
   "execution_count": 2,
   "metadata": {},
   "outputs": [
    {
     "data": {
      "text/plain": [
       "['emma', 'olivia', 'ava', 'isabella', 'sophia', 'charlotte', 'mia', 'amelia']"
      ]
     },
     "execution_count": 2,
     "metadata": {},
     "output_type": "execute_result"
    }
   ],
   "source": [
    "#read all words\n",
    "words = open('names.txt', 'r').read().splitlines()\n",
    "words[:8]"
   ]
  },
  {
   "cell_type": "code",
   "execution_count": 3,
   "metadata": {},
   "outputs": [
    {
     "data": {
      "text/plain": [
       "32033"
      ]
     },
     "execution_count": 3,
     "metadata": {},
     "output_type": "execute_result"
    }
   ],
   "source": [
    "len(words)"
   ]
  },
  {
   "cell_type": "code",
   "execution_count": 4,
   "metadata": {},
   "outputs": [],
   "source": [
    "#build vocabulaty of characters and mappings to/from integers\n",
    "chars = sorted(list(set(''.join(words))))\n",
    "stoi = {s:i+1 for i,s in enumerate(chars)}\n",
    "stoi['.']=0\n",
    "itos = {i:s for s,i in stoi.items()}"
   ]
  },
  {
   "cell_type": "code",
   "execution_count": 5,
   "metadata": {},
   "outputs": [
    {
     "name": "stdout",
     "output_type": "stream",
     "text": [
      "emma\n",
      "... ---> e\n",
      "..e ---> m\n",
      ".em ---> m\n",
      "emm ---> a\n",
      "mma ---> .\n",
      "olivia\n",
      "... ---> o\n",
      "..o ---> l\n",
      ".ol ---> i\n",
      "oli ---> v\n",
      "liv ---> i\n",
      "ivi ---> a\n",
      "via ---> .\n",
      "ava\n",
      "... ---> a\n",
      "..a ---> v\n",
      ".av ---> a\n",
      "ava ---> .\n",
      "isabella\n",
      "... ---> i\n",
      "..i ---> s\n",
      ".is ---> a\n",
      "isa ---> b\n",
      "sab ---> e\n",
      "abe ---> l\n",
      "bel ---> l\n",
      "ell ---> a\n",
      "lla ---> .\n",
      "sophia\n",
      "... ---> s\n",
      "..s ---> o\n",
      ".so ---> p\n",
      "sop ---> h\n",
      "oph ---> i\n",
      "phi ---> a\n",
      "hia ---> .\n"
     ]
    }
   ],
   "source": [
    "#build the dataset\n",
    "block_size = 3 #context length: how many characters to look at to predict the next one?\n",
    "X,Y = [],[]\n",
    "for w in words[:5]:\n",
    "    print(w)\n",
    "    context = [0]*block_size\n",
    "    for ch in w + '.':\n",
    "        ix = stoi[ch]\n",
    "        X.append(context)\n",
    "        Y.append(ix)\n",
    "        print(''.join(itos[i] for i in context), '--->', itos[ix])\n",
    "        context = context[1:] + [ix] #crop the first element and apend the new one\n",
    "\n",
    "X = torch.tensor(X)\n",
    "Y = torch.tensor(Y)\n"
   ]
  },
  {
   "cell_type": "code",
   "execution_count": 6,
   "metadata": {},
   "outputs": [
    {
     "data": {
      "text/plain": [
       "(torch.Size([32, 3]), torch.int64, torch.Size([32]), torch.int64)"
      ]
     },
     "execution_count": 6,
     "metadata": {},
     "output_type": "execute_result"
    }
   ],
   "source": [
    "X.shape, X.dtype, Y.shape, Y.dtype"
   ]
  },
  {
   "cell_type": "code",
   "execution_count": 7,
   "metadata": {},
   "outputs": [
    {
     "data": {
      "text/plain": [
       "tensor([[ 0,  0,  0],\n",
       "        [ 0,  0,  5],\n",
       "        [ 0,  5, 13],\n",
       "        [ 5, 13, 13],\n",
       "        [13, 13,  1],\n",
       "        [ 0,  0,  0],\n",
       "        [ 0,  0, 15],\n",
       "        [ 0, 15, 12],\n",
       "        [15, 12,  9],\n",
       "        [12,  9, 22],\n",
       "        [ 9, 22,  9],\n",
       "        [22,  9,  1],\n",
       "        [ 0,  0,  0],\n",
       "        [ 0,  0,  1],\n",
       "        [ 0,  1, 22],\n",
       "        [ 1, 22,  1],\n",
       "        [ 0,  0,  0],\n",
       "        [ 0,  0,  9],\n",
       "        [ 0,  9, 19],\n",
       "        [ 9, 19,  1],\n",
       "        [19,  1,  2],\n",
       "        [ 1,  2,  5],\n",
       "        [ 2,  5, 12],\n",
       "        [ 5, 12, 12],\n",
       "        [12, 12,  1],\n",
       "        [ 0,  0,  0],\n",
       "        [ 0,  0, 19],\n",
       "        [ 0, 19, 15],\n",
       "        [19, 15, 16],\n",
       "        [15, 16,  8],\n",
       "        [16,  8,  9],\n",
       "        [ 8,  9,  1]])"
      ]
     },
     "execution_count": 7,
     "metadata": {},
     "output_type": "execute_result"
    }
   ],
   "source": [
    "X"
   ]
  },
  {
   "cell_type": "markdown",
   "metadata": {},
   "source": [
    "As we can see, the 'e' is encodded as 5. To encode the examples, we create embeddings."
   ]
  },
  {
   "cell_type": "code",
   "execution_count": 8,
   "metadata": {},
   "outputs": [
    {
     "data": {
      "text/plain": [
       "tensor([0.3633, 0.8568])"
      ]
     },
     "execution_count": 8,
     "metadata": {},
     "output_type": "execute_result"
    }
   ],
   "source": [
    "#We create a 2 dimensional tensor of shape (n_words, block_size) containing the integer encoded characters\n",
    "C = torch.randn((27,2)) #the random embedding layer\n",
    "C[5]"
   ]
  },
  {
   "cell_type": "code",
   "execution_count": 9,
   "metadata": {},
   "outputs": [
    {
     "data": {
      "text/plain": [
       "tensor([0.3633, 0.8568])"
      ]
     },
     "execution_count": 9,
     "metadata": {},
     "output_type": "execute_result"
    }
   ],
   "source": [
    "F.one_hot(torch.tensor(5), num_classes=27) #one hot encoding of the 5th character\n",
    "#and if we do a dot product of the one hot encoding with the embedding matrix we get the embedding of the 5th character\n",
    "F.one_hot(torch.tensor(5), num_classes=27).float() @ C"
   ]
  },
  {
   "cell_type": "markdown",
   "metadata": {},
   "source": [
    "i.e., we can index 5th row from C or we can treat \"one-hot-encoding @ C\" as 1st layer\n",
    "So, we just use embedding tables and discard the one-hot encoding"
   ]
  },
  {
   "cell_type": "code",
   "execution_count": 10,
   "metadata": {},
   "outputs": [
    {
     "name": "stdout",
     "output_type": "stream",
     "text": [
      "tensor([0.3633, 0.8568])\n",
      "----\n",
      "tensor([[0.3633, 0.8568],\n",
      "        [0.1754, 0.1399],\n",
      "        [0.9034, 0.0249]])\n",
      "----\n",
      "tensor([[0.3633, 0.8568],\n",
      "        [0.1754, 0.1399],\n",
      "        [0.9034, 0.0249],\n",
      "        [0.9034, 0.0249],\n",
      "        [0.9034, 0.0249]])\n",
      "----\n",
      "tensor([[0.3633, 0.8568],\n",
      "        [0.1754, 0.1399],\n",
      "        [0.9034, 0.0249]])\n",
      "----\n",
      "torch.Size([32, 3, 2])\n",
      "tensor(1)\n",
      "tensor([-0.1507,  0.3327])\n",
      "tensor([-0.1507,  0.3327])\n",
      "tensor([-0.1507,  0.3327])\n"
     ]
    }
   ],
   "source": [
    "#python indexing is powerful\n",
    "print(C[5])\n",
    "print('-'*4)\n",
    "print(C[[5,6,7]]) #if we provide a list of indexes, we can retrieve mupltiple elements\n",
    "print('-'*4)\n",
    "print(C[[5,6,7,7,7]]) #indexing can retrieve mupltiple elements, and same element multiple times\n",
    "print('-'*4)\n",
    "print(C[torch.tensor([5,6,7])]) \n",
    "print('-'*4)\n",
    "#index can also be 2D\n",
    "#For example: X is 32x3, so we can pass it to C, embedding matrix directly to get the embeddings corresponging ...?\n",
    "print(C[X].shape)\n",
    "print(X[13,2])\n",
    "print(C[X][13,2]) #----(1) also can be written as C[X[13,2]]\n",
    "print(C[X[13,2]]) #----(1a)\n",
    "print(C[1])       #----(2)\n",
    "#(1) & (1a) is the same as (2) because X[13,2] = 1\n"
   ]
  },
  {
   "cell_type": "code",
   "execution_count": 11,
   "metadata": {},
   "outputs": [
    {
     "data": {
      "text/plain": [
       "torch.Size([32, 3, 2])"
      ]
     },
     "execution_count": 11,
     "metadata": {},
     "output_type": "execute_result"
    }
   ],
   "source": [
    "#basically, our embedddnig is just\n",
    "emb = C[X]\n",
    "emb.shape"
   ]
  },
  {
   "cell_type": "markdown",
   "metadata": {},
   "source": []
  },
  {
   "cell_type": "code",
   "execution_count": 12,
   "metadata": {},
   "outputs": [],
   "source": [
    "W1 = torch.randn((6,100)) #2 from each of 3 previous 'block_size' context characters\n",
    "b1 = torch.randn(100) #biases for this layer\n",
    "\n"
   ]
  },
  {
   "cell_type": "code",
   "execution_count": 13,
   "metadata": {},
   "outputs": [
    {
     "data": {
      "text/plain": [
       "torch.Size([32, 2])"
      ]
     },
     "execution_count": 13,
     "metadata": {},
     "output_type": "execute_result"
    }
   ],
   "source": [
    "#but we can not do \n",
    "#emb @ W1 + b1 #since emb is 32x3x2 and W1 is 6x100\n",
    "#so, we'll need to do something to make the shapes compatible\n",
    "#we want to retrieve the three context character ebeddings and concatenate them\n",
    "emb[:,0,:].shape #it plucks out the embeddings of the first character/word\n"
   ]
  },
  {
   "cell_type": "code",
   "execution_count": 14,
   "metadata": {},
   "outputs": [
    {
     "data": {
      "text/plain": [
       "torch.Size([32, 6])"
      ]
     },
     "execution_count": 14,
     "metadata": {},
     "output_type": "execute_result"
    }
   ],
   "source": [
    "#so, we do following\n",
    "torch.cat([emb[:,0,:], emb[:,1,:], emb[:,2,:]], 1).shape #concatenating the embeddings of the three context characters"
   ]
  },
  {
   "cell_type": "code",
   "execution_count": 15,
   "metadata": {},
   "outputs": [
    {
     "data": {
      "text/plain": [
       "(tensor([[-0.9374, -0.3007],\n",
       "         [-0.9374, -0.3007],\n",
       "         [-0.9374, -0.3007],\n",
       "         [ 0.3633,  0.8568],\n",
       "         [-1.6870,  0.2645],\n",
       "         [-0.9374, -0.3007],\n",
       "         [-0.9374, -0.3007],\n",
       "         [-0.9374, -0.3007],\n",
       "         [-1.2335, -0.8760],\n",
       "         [-1.2485,  2.5515],\n",
       "         [-1.7051,  0.0146],\n",
       "         [-0.9617, -2.5900],\n",
       "         [-0.9374, -0.3007],\n",
       "         [-0.9374, -0.3007],\n",
       "         [-0.9374, -0.3007],\n",
       "         [-0.1507,  0.3327],\n",
       "         [-0.9374, -0.3007],\n",
       "         [-0.9374, -0.3007],\n",
       "         [-0.9374, -0.3007],\n",
       "         [-1.7051,  0.0146],\n",
       "         [-0.2646, -1.5560],\n",
       "         [-0.1507,  0.3327],\n",
       "         [ 0.0713, -1.3872],\n",
       "         [ 0.3633,  0.8568],\n",
       "         [-1.2485,  2.5515],\n",
       "         [-0.9374, -0.3007],\n",
       "         [-0.9374, -0.3007],\n",
       "         [-0.9374, -0.3007],\n",
       "         [-0.2646, -1.5560],\n",
       "         [-1.2335, -0.8760],\n",
       "         [ 1.4802, -0.0365],\n",
       "         [ 0.4610,  1.3220]]),\n",
       " tensor([[-0.9374, -0.3007],\n",
       "         [-0.9374, -0.3007],\n",
       "         [ 0.3633,  0.8568],\n",
       "         [-1.6870,  0.2645],\n",
       "         [-1.6870,  0.2645],\n",
       "         [-0.9374, -0.3007],\n",
       "         [-0.9374, -0.3007],\n",
       "         [-1.2335, -0.8760],\n",
       "         [-1.2485,  2.5515],\n",
       "         [-1.7051,  0.0146],\n",
       "         [-0.9617, -2.5900],\n",
       "         [-1.7051,  0.0146],\n",
       "         [-0.9374, -0.3007],\n",
       "         [-0.9374, -0.3007],\n",
       "         [-0.1507,  0.3327],\n",
       "         [-0.9617, -2.5900],\n",
       "         [-0.9374, -0.3007],\n",
       "         [-0.9374, -0.3007],\n",
       "         [-1.7051,  0.0146],\n",
       "         [-0.2646, -1.5560],\n",
       "         [-0.1507,  0.3327],\n",
       "         [ 0.0713, -1.3872],\n",
       "         [ 0.3633,  0.8568],\n",
       "         [-1.2485,  2.5515],\n",
       "         [-1.2485,  2.5515],\n",
       "         [-0.9374, -0.3007],\n",
       "         [-0.9374, -0.3007],\n",
       "         [-0.2646, -1.5560],\n",
       "         [-1.2335, -0.8760],\n",
       "         [ 1.4802, -0.0365],\n",
       "         [ 0.4610,  1.3220],\n",
       "         [-1.7051,  0.0146]]),\n",
       " tensor([[-0.9374, -0.3007],\n",
       "         [ 0.3633,  0.8568],\n",
       "         [-1.6870,  0.2645],\n",
       "         [-1.6870,  0.2645],\n",
       "         [-0.1507,  0.3327],\n",
       "         [-0.9374, -0.3007],\n",
       "         [-1.2335, -0.8760],\n",
       "         [-1.2485,  2.5515],\n",
       "         [-1.7051,  0.0146],\n",
       "         [-0.9617, -2.5900],\n",
       "         [-1.7051,  0.0146],\n",
       "         [-0.1507,  0.3327],\n",
       "         [-0.9374, -0.3007],\n",
       "         [-0.1507,  0.3327],\n",
       "         [-0.9617, -2.5900],\n",
       "         [-0.1507,  0.3327],\n",
       "         [-0.9374, -0.3007],\n",
       "         [-1.7051,  0.0146],\n",
       "         [-0.2646, -1.5560],\n",
       "         [-0.1507,  0.3327],\n",
       "         [ 0.0713, -1.3872],\n",
       "         [ 0.3633,  0.8568],\n",
       "         [-1.2485,  2.5515],\n",
       "         [-1.2485,  2.5515],\n",
       "         [-0.1507,  0.3327],\n",
       "         [-0.9374, -0.3007],\n",
       "         [-0.2646, -1.5560],\n",
       "         [-1.2335, -0.8760],\n",
       "         [ 1.4802, -0.0365],\n",
       "         [ 0.4610,  1.3220],\n",
       "         [-1.7051,  0.0146],\n",
       "         [-0.1507,  0.3327]]))"
      ]
     },
     "execution_count": 15,
     "metadata": {},
     "output_type": "execute_result"
    }
   ],
   "source": [
    "torch.unbind(emb, 1) #this will give us a list of 3 tensors, each of shape 32x2, exactly equivalant to \"[emb[:,0,:], emb[:,1,:], emb[:,2,:]]\"\"makemore part 2.ipynb\"\n"
   ]
  },
  {
   "cell_type": "code",
   "execution_count": 16,
   "metadata": {},
   "outputs": [
    {
     "data": {
      "text/plain": [
       "tensor([[-0.9374, -0.3007, -0.9374, -0.3007, -0.9374, -0.3007],\n",
       "        [-0.9374, -0.3007, -0.9374, -0.3007,  0.3633,  0.8568],\n",
       "        [-0.9374, -0.3007,  0.3633,  0.8568, -1.6870,  0.2645],\n",
       "        [ 0.3633,  0.8568, -1.6870,  0.2645, -1.6870,  0.2645],\n",
       "        [-1.6870,  0.2645, -1.6870,  0.2645, -0.1507,  0.3327],\n",
       "        [-0.9374, -0.3007, -0.9374, -0.3007, -0.9374, -0.3007],\n",
       "        [-0.9374, -0.3007, -0.9374, -0.3007, -1.2335, -0.8760],\n",
       "        [-0.9374, -0.3007, -1.2335, -0.8760, -1.2485,  2.5515],\n",
       "        [-1.2335, -0.8760, -1.2485,  2.5515, -1.7051,  0.0146],\n",
       "        [-1.2485,  2.5515, -1.7051,  0.0146, -0.9617, -2.5900],\n",
       "        [-1.7051,  0.0146, -0.9617, -2.5900, -1.7051,  0.0146],\n",
       "        [-0.9617, -2.5900, -1.7051,  0.0146, -0.1507,  0.3327],\n",
       "        [-0.9374, -0.3007, -0.9374, -0.3007, -0.9374, -0.3007],\n",
       "        [-0.9374, -0.3007, -0.9374, -0.3007, -0.1507,  0.3327],\n",
       "        [-0.9374, -0.3007, -0.1507,  0.3327, -0.9617, -2.5900],\n",
       "        [-0.1507,  0.3327, -0.9617, -2.5900, -0.1507,  0.3327],\n",
       "        [-0.9374, -0.3007, -0.9374, -0.3007, -0.9374, -0.3007],\n",
       "        [-0.9374, -0.3007, -0.9374, -0.3007, -1.7051,  0.0146],\n",
       "        [-0.9374, -0.3007, -1.7051,  0.0146, -0.2646, -1.5560],\n",
       "        [-1.7051,  0.0146, -0.2646, -1.5560, -0.1507,  0.3327],\n",
       "        [-0.2646, -1.5560, -0.1507,  0.3327,  0.0713, -1.3872],\n",
       "        [-0.1507,  0.3327,  0.0713, -1.3872,  0.3633,  0.8568],\n",
       "        [ 0.0713, -1.3872,  0.3633,  0.8568, -1.2485,  2.5515],\n",
       "        [ 0.3633,  0.8568, -1.2485,  2.5515, -1.2485,  2.5515],\n",
       "        [-1.2485,  2.5515, -1.2485,  2.5515, -0.1507,  0.3327],\n",
       "        [-0.9374, -0.3007, -0.9374, -0.3007, -0.9374, -0.3007],\n",
       "        [-0.9374, -0.3007, -0.9374, -0.3007, -0.2646, -1.5560],\n",
       "        [-0.9374, -0.3007, -0.2646, -1.5560, -1.2335, -0.8760],\n",
       "        [-0.2646, -1.5560, -1.2335, -0.8760,  1.4802, -0.0365],\n",
       "        [-1.2335, -0.8760,  1.4802, -0.0365,  0.4610,  1.3220],\n",
       "        [ 1.4802, -0.0365,  0.4610,  1.3220, -1.7051,  0.0146],\n",
       "        [ 0.4610,  1.3220, -1.7051,  0.0146, -0.1507,  0.3327]])"
      ]
     },
     "execution_count": 16,
     "metadata": {},
     "output_type": "execute_result"
    }
   ],
   "source": [
    "#so, we do:\n",
    "torch.cat(torch.unbind(emb, 1), 1) #slicing and concatenating the embeddings of the three context characters this way \n",
    "                                   #is more flecible than hardcoding the no. of context chars/words (3 above) as we did above\n",
    "                                   "
   ]
  },
  {
   "cell_type": "code",
   "execution_count": 17,
   "metadata": {},
   "outputs": [
    {
     "data": {
      "text/plain": [
       "tensor([ 0,  1,  2,  3,  4,  5,  6,  7,  8,  9, 10, 11, 12, 13, 14, 15, 16, 17])"
      ]
     },
     "execution_count": 17,
     "metadata": {},
     "output_type": "execute_result"
    }
   ],
   "source": [
    "#we can also use .view() to do the same thing which is even more efficient\n",
    "a = torch.arange(18)\n",
    "a"
   ]
  },
  {
   "cell_type": "code",
   "execution_count": 18,
   "metadata": {},
   "outputs": [
    {
     "data": {
      "text/plain": [
       "torch.Size([18])"
      ]
     },
     "execution_count": 18,
     "metadata": {},
     "output_type": "execute_result"
    }
   ],
   "source": [
    "a.shape"
   ]
  },
  {
   "cell_type": "code",
   "execution_count": 19,
   "metadata": {},
   "outputs": [],
   "source": [
    "# a.view(3,2,3) or\n",
    "# a.view(9,2) or\n",
    "# a.view(2,9) or etc"
   ]
  },
  {
   "cell_type": "code",
   "execution_count": 20,
   "metadata": {},
   "outputs": [
    {
     "name": "stderr",
     "output_type": "stream",
     "text": [
      "C:\\Users\\himan\\AppData\\Local\\Temp\\ipykernel_15520\\4032053941.py:2: UserWarning: TypedStorage is deprecated. It will be removed in the future and UntypedStorage will be the only storage class. This should only matter to you if you are using storages directly.  To access UntypedStorage directly, use tensor.untyped_storage() instead of tensor.storage()\n",
      "  a.storage()\n"
     ]
    },
    {
     "data": {
      "text/plain": [
       " 0\n",
       " 1\n",
       " 2\n",
       " 3\n",
       " 4\n",
       " 5\n",
       " 6\n",
       " 7\n",
       " 8\n",
       " 9\n",
       " 10\n",
       " 11\n",
       " 12\n",
       " 13\n",
       " 14\n",
       " 15\n",
       " 16\n",
       " 17\n",
       "[torch.storage.TypedStorage(dtype=torch.int64, device=cpu) of size 18]"
      ]
     },
     "execution_count": 20,
     "metadata": {},
     "output_type": "execute_result"
    }
   ],
   "source": [
    "#this is possible since pytorch stores the numbers in a simple 1D vector\n",
    "a.storage()\n",
    "#so, when we call .view(), no memory is copied, just the shape and stride information is changed"
   ]
  },
  {
   "cell_type": "code",
   "execution_count": 21,
   "metadata": {},
   "outputs": [],
   "source": [
    "#So, now insteadd of \"torch.cat(torch.unbind(emb, 1), 1) \", \n",
    "#we do:\n",
    "# emb.view(32,6)"
   ]
  },
  {
   "cell_type": "code",
   "execution_count": 22,
   "metadata": {},
   "outputs": [],
   "source": [
    "#so, the code becomes:\n",
    "h = torch.tanh(emb.view(32,6) @ W1 + b1)\n",
    "h.shape\n",
    "\n",
    "#now, if we do emb.view(-1,6), then pytorch will automatically infer the first dimension to be 32, or whatebver is the size of the first dimension of emb\n",
    "#so, the code becomes:\n",
    "h = torch.tanh(emb.view(-1,6) @ W1 + b1)\n",
    "\n",
    "#Caution about '+' operator broadcasting!\n",
    "#we've\n",
    "#32,100 #emb.view(-1,6) @ W1\n",
    "#   100 #b1\n",
    "#so, broadcasting will do:\n",
    "#32,100\n",
    "# 1,100 #i.e., add 1 more dimention to b1. And each row of b1 will be added to each row of the result of emb.view(-1,6) @ W1\n",
    "#Here, correct thing would be happening, as same bias vector will be added to the rows\n",
    "\n",
    "#torch.cat is inefficient since it creates new memories and new tensors\n",
    "\n"
   ]
  },
  {
   "cell_type": "code",
   "execution_count": 23,
   "metadata": {},
   "outputs": [
    {
     "data": {
      "text/plain": [
       "torch.Size([32, 100])"
      ]
     },
     "execution_count": 23,
     "metadata": {},
     "output_type": "execute_result"
    }
   ],
   "source": [
    "h.shape"
   ]
  },
  {
   "cell_type": "code",
   "execution_count": 24,
   "metadata": {},
   "outputs": [],
   "source": [
    "W2 = torch.randn((100,27)) #27 is the no. of characters in our vocab, #100 is the no. of hidden units in previous layer\n",
    "b2 = torch.randn(27) #biases for this layer\n"
   ]
  },
  {
   "cell_type": "code",
   "execution_count": 25,
   "metadata": {},
   "outputs": [
    {
     "data": {
      "text/plain": [
       "torch.Size([32, 27])"
      ]
     },
     "execution_count": 25,
     "metadata": {},
     "output_type": "execute_result"
    }
   ],
   "source": [
    "logits = h@W2 + b2 #output of W2 layer\n",
    "logits.shape"
   ]
  },
  {
   "cell_type": "code",
   "execution_count": 26,
   "metadata": {},
   "outputs": [
    {
     "data": {
      "text/plain": [
       "torch.Size([32, 27])"
      ]
     },
     "execution_count": 26,
     "metadata": {},
     "output_type": "execute_result"
    }
   ],
   "source": [
    "counts = logits.exp() #to get fake counts\n",
    "prob = counts / counts.sum(1, keepdims=True) #normalizing the counts to get probabilities\n",
    "prob.shape"
   ]
  },
  {
   "cell_type": "code",
   "execution_count": 27,
   "metadata": {},
   "outputs": [
    {
     "data": {
      "text/plain": [
       "tensor([ 5, 13, 13,  1,  0, 15, 12,  9, 22,  9,  1,  0,  1, 22,  1,  0,  9, 19,\n",
       "         1,  2,  5, 12, 12,  1,  0, 19, 15, 16,  8,  9,  1,  0])"
      ]
     },
     "execution_count": 27,
     "metadata": {},
     "output_type": "execute_result"
    }
   ],
   "source": [
    "Y"
   ]
  },
  {
   "cell_type": "code",
   "execution_count": 28,
   "metadata": {},
   "outputs": [
    {
     "data": {
      "text/plain": [
       "tensor([1.4300e-09, 2.4201e-08, 7.5347e-06, 2.1279e-06, 3.6086e-19, 3.7837e-11,\n",
       "        2.1087e-10, 3.2863e-03, 4.9167e-06, 3.6258e-12, 1.8518e-06, 5.0844e-17,\n",
       "        2.4959e-10, 8.8390e-11, 2.1009e-06, 6.0836e-15, 4.2524e-07, 8.5575e-10,\n",
       "        1.1032e-14, 2.3223e-08, 1.6528e-11, 6.9072e-17, 3.5804e-02, 5.3704e-10,\n",
       "        6.9237e-07, 1.6105e-11, 1.2831e-09, 9.9049e-01, 3.0033e-13, 2.2548e-06,\n",
       "        3.7530e-04, 2.9558e-06])"
      ]
     },
     "execution_count": 28,
     "metadata": {},
     "output_type": "execute_result"
    }
   ],
   "source": [
    "#Now, just like previous noteebook, we index each row and pluck out the probab assigned to next character as given in Y\n",
    "#we've an iterator from 0 to 31 -> torch.arange(32)\n",
    "prob[torch.arange(32), Y]  #iterators over the rows of prob and plucks out the probab assigned to next character as given in Y"
   ]
  },
  {
   "cell_type": "code",
   "execution_count": 29,
   "metadata": {},
   "outputs": [
    {
     "data": {
      "text/plain": [
       "tensor(19.7351)"
      ]
     },
     "execution_count": 29,
     "metadata": {},
     "output_type": "execute_result"
    }
   ],
   "source": [
    "#these probablities of next characters should be nearer to 1, then the model is doing well\n",
    "#so, we can take the log of these probabilities and average them up to get the loss, and then -ve it to get negative log likelihood\n",
    "loss = -prob[torch.arange(32), Y].log().mean()\n",
    "loss #we have to minimize this loss"
   ]
  },
  {
   "cell_type": "code",
   "execution_count": 30,
   "metadata": {},
   "outputs": [],
   "source": [
    "#Recap:"
   ]
  },
  {
   "cell_type": "code",
   "execution_count": 31,
   "metadata": {},
   "outputs": [
    {
     "data": {
      "text/plain": [
       "(torch.Size([32, 3]), torch.Size([32]))"
      ]
     },
     "execution_count": 31,
     "metadata": {},
     "output_type": "execute_result"
    }
   ],
   "source": [
    "X.shape, Y.shape #dataset"
   ]
  },
  {
   "cell_type": "code",
   "execution_count": 32,
   "metadata": {},
   "outputs": [],
   "source": [
    "g = torch.Generator().manual_seed(2147483647) #for reproducibility\n",
    "C = torch.randn((27,2), generator=g) #embedding layer\n",
    "\n",
    "W1 = torch.randn((6,100), generator=g) #first layer\n",
    "b1 = torch.randn(100, generator=g) #biases for first layer\n",
    "\n",
    "W2 = torch.randn((100,27), generator=g) #second layer\n",
    "b2 = torch.randn(27, generator=g) #biases for second layer\n",
    "\n",
    "parameters = [C, W1, b1, W2, b2] #all the parameters"
   ]
  },
  {
   "cell_type": "code",
   "execution_count": 33,
   "metadata": {},
   "outputs": [
    {
     "data": {
      "text/plain": [
       "3481"
      ]
     },
     "execution_count": 33,
     "metadata": {},
     "output_type": "execute_result"
    }
   ],
   "source": [
    "sum(p.nelement() for p in parameters) #total no. of parameters"
   ]
  },
  {
   "cell_type": "code",
   "execution_count": 35,
   "metadata": {},
   "outputs": [],
   "source": [
    "for p in parameters:\n",
    "    p.requires_grad = True #enabling gradients for all parameters"
   ]
  },
  {
   "cell_type": "code",
   "execution_count": 36,
   "metadata": {},
   "outputs": [],
   "source": [
    "#Forward pass\n",
    "emb = C[X] #embedding layer #32x3x2\n",
    "\n",
    "h = torch.tanh(emb.view(-1,6) @ W1 + b1) #first layer #32x100\n",
    "\n",
    "logits = h@W2 + b2 #output of W2 layer #32x27\n",
    "# counts = logits.exp() #to get fake counts\n",
    "# prob = counts / counts.sum(1, keepdims=True) #normalizing the counts to get probabilities\n",
    "# loss = -prob[torch.arange(32), Y].log().mean() #loss\n",
    "#instead of above manner of calculating loss, we can use F.cross_entropy() which does the same thing\n",
    "loss = F.cross_entropy(logits, Y)\n",
    "loss\n",
    "#we use F.cross_entropy() 'cause:\n",
    "#1. pytorch wont create new intermediate tensors, and instead clusters them and use fused kernels\n",
    "#2. expressions of derivatives simplify which is used by pytorch\n",
    "#3. under the hood, cross-entropy can be more numericaly more well behaved: for example, if logits have a high +ve value, then \n",
    "#   taking ann exp of it can run out of dynamic range of floating point values. Ex: logit has a 100, then e^100 is out of range\n",
    "#   but cross_entropy internally subtracts the biggest number from logits, to offset it timestamp: @37:45\n",
    "#   awesome explaination\n",
    "\n",
    "#bakcward pass\n",
    "for p in parameters:\n",
    "    p.grad = None #setting gradients to 0 before each backward pass\n",
    "loss.backward()\n",
    "\n",
    "#update\n",
    "for p in parameters:\n",
    "    p.data += -0.1*p.grad #updating the parameters\n",
    "\n",
    "\n"
   ]
  },
  {
   "cell_type": "code",
   "execution_count": 43,
   "metadata": {},
   "outputs": [],
   "source": [
    "for p in parameters:\n",
    "    p.requires_grad = True #enabling gradients for all parameters"
   ]
  },
  {
   "cell_type": "code",
   "execution_count": 37,
   "metadata": {},
   "outputs": [
    {
     "name": "stdout",
     "output_type": "stream",
     "text": [
      "13.656400680541992\n",
      "11.298768997192383\n",
      "9.4524564743042\n",
      "7.984262466430664\n",
      "6.891321182250977\n",
      "6.100014686584473\n",
      "5.452036380767822\n",
      "4.898151874542236\n",
      "4.414664268493652\n",
      "3.985849142074585\n"
     ]
    }
   ],
   "source": [
    "for _ in range(10):\n",
    "    #Forward pass\n",
    "    emb = C[X] #embedding layer #32x3x2\n",
    "    h = torch.tanh(emb.view(-1,6) @ W1 + b1) #first layer #32x100\n",
    "    logits = h@W2 + b2 #output of W2 layer #32x27\n",
    "    loss = F.cross_entropy(logits, Y)\n",
    "    print(loss.item())\n",
    "    \n",
    "    #bakcward pass\n",
    "    for p in parameters:\n",
    "        p.grad = None #setting gradients to 0 before each backward pass\n",
    "    loss.backward()\n",
    "\n",
    "    #update\n",
    "    for p in parameters:\n",
    "        p.data += -0.1*p.grad #updating the parameters\n",
    "\n",
    "#since we only have 32 examples, and 3481 params, it is very easy to overfit the data and achieve low error rates\n",
    "#so, we can use a larger dataset to train the model\n",
    "# we still are not able to achieve 0 loss, since ... needs to predict a, o, i etc i.e. ... ko multiple things predict karni hai\n",
    "# but jahan jahan unique combinations hain previous 3 characters ki, wahan near to 0 loss achieve kar rhe hain\n"
   ]
  },
  {
   "cell_type": "code",
   "execution_count": 38,
   "metadata": {},
   "outputs": [],
   "source": [
    "#So let us do this for all words and not just 5\n",
    "#build the dataset\n",
    "block_size = 3 #context length: how many characters to look at to predict the next one?\n",
    "X,Y = [],[]\n",
    "for w in words: #all words\n",
    "    \n",
    "    context = [0]*block_size\n",
    "    for ch in w + '.':\n",
    "        ix = stoi[ch]\n",
    "        X.append(context)\n",
    "        Y.append(ix)\n",
    "        # print(''.join(itos[i] for i in context), '--->', itos[ix])\n",
    "        context = context[1:] + [ix] #crop the first element and apend the new one\n",
    "\n",
    "X = torch.tensor(X)\n",
    "Y = torch.tensor(Y)"
   ]
  },
  {
   "cell_type": "code",
   "execution_count": 39,
   "metadata": {},
   "outputs": [
    {
     "data": {
      "text/plain": [
       "(torch.Size([228146, 3]), torch.Size([228146]))"
      ]
     },
     "execution_count": 39,
     "metadata": {},
     "output_type": "execute_result"
    }
   ],
   "source": [
    "X.shape, Y.shape #dataset"
   ]
  },
  {
   "cell_type": "code",
   "execution_count": 90,
   "metadata": {},
   "outputs": [],
   "source": [
    "g = torch.Generator().manual_seed(2147483647) #for reproducibility\n",
    "C = torch.randn((27,2), generator=g) #embedding layer\n",
    "\n",
    "W1 = torch.randn((6,100), generator=g) #first layer\n",
    "b1 = torch.randn(100, generator=g) #biases for first layer\n",
    "\n",
    "W2 = torch.randn((100,27), generator=g) #second layer\n",
    "b2 = torch.randn(27, generator=g) #biases for second layer\n",
    "\n",
    "parameters = [C, W1, b1, W2, b2] #all the parameters"
   ]
  },
  {
   "cell_type": "code",
   "execution_count": 40,
   "metadata": {},
   "outputs": [
    {
     "data": {
      "text/plain": [
       "3481"
      ]
     },
     "execution_count": 40,
     "metadata": {},
     "output_type": "execute_result"
    }
   ],
   "source": [
    "sum(p.nelement() for p in parameters) #total no. of parameters"
   ]
  },
  {
   "cell_type": "code",
   "execution_count": 41,
   "metadata": {},
   "outputs": [],
   "source": [
    "for p in parameters:\n",
    "    p.requires_grad = True #enabling gradients for all parameters"
   ]
  },
  {
   "cell_type": "code",
   "execution_count": 42,
   "metadata": {},
   "outputs": [
    {
     "name": "stdout",
     "output_type": "stream",
     "text": [
      "13.220638275146484\n",
      "10.588543891906738\n",
      "12.848247528076172\n",
      "11.271891593933105\n",
      "9.995647430419922\n",
      "11.898112297058105\n",
      "9.693706512451172\n",
      "9.007052421569824\n",
      "11.464112281799316\n",
      "9.768179893493652\n",
      "7.51936149597168\n",
      "9.38310718536377\n",
      "10.322718620300293\n",
      "5.362593173980713\n",
      "9.105110168457031\n",
      "9.346196174621582\n",
      "10.51354694366455\n",
      "8.640323638916016\n",
      "8.404390335083008\n",
      "8.098139762878418\n",
      "8.432787895202637\n",
      "7.190440654754639\n",
      "9.039215087890625\n",
      "8.996062278747559\n",
      "7.330170631408691\n",
      "7.252035617828369\n",
      "6.262348175048828\n",
      "6.777624130249023\n",
      "6.662304401397705\n",
      "10.358267784118652\n",
      "6.4153056144714355\n",
      "6.363503932952881\n",
      "5.167109966278076\n",
      "4.816669464111328\n",
      "5.145963191986084\n",
      "6.090043067932129\n",
      "7.347157955169678\n",
      "6.37105655670166\n",
      "5.939673900604248\n",
      "5.558813095092773\n",
      "5.335705757141113\n",
      "4.682117462158203\n",
      "5.372441291809082\n",
      "5.922669410705566\n",
      "5.62396764755249\n",
      "4.911230564117432\n",
      "6.660815715789795\n",
      "6.157974720001221\n",
      "4.592818737030029\n",
      "4.588473320007324\n",
      "4.07417631149292\n",
      "5.299568176269531\n",
      "4.962865829467773\n",
      "4.593607425689697\n",
      "4.686511516571045\n",
      "4.3195624351501465\n",
      "4.083168029785156\n",
      "4.246373176574707\n",
      "6.878213882446289\n",
      "4.759624004364014\n",
      "5.0911126136779785\n",
      "4.8114705085754395\n",
      "4.168294906616211\n",
      "3.5242106914520264\n",
      "4.032288551330566\n",
      "4.34796667098999\n",
      "4.131532192230225\n",
      "5.106395721435547\n",
      "5.003743648529053\n",
      "4.183406829833984\n",
      "4.359157085418701\n",
      "3.847623348236084\n",
      "5.883766174316406\n",
      "4.106719017028809\n",
      "3.869136095046997\n",
      "4.823315143585205\n",
      "5.545527935028076\n",
      "4.271450519561768\n",
      "3.636598825454712\n",
      "2.7251760959625244\n",
      "4.04847526550293\n",
      "4.160283088684082\n",
      "3.225109338760376\n",
      "4.693774223327637\n",
      "4.079880237579346\n",
      "4.006718635559082\n",
      "5.497729301452637\n",
      "4.278582572937012\n",
      "4.282721042633057\n",
      "3.5473365783691406\n",
      "3.5635523796081543\n",
      "2.6163697242736816\n",
      "3.29666805267334\n",
      "4.019008159637451\n",
      "4.865241050720215\n",
      "3.676513910293579\n",
      "3.7152183055877686\n",
      "3.870239019393921\n",
      "3.9925155639648438\n",
      "3.9566447734832764\n"
     ]
    }
   ],
   "source": [
    "for _ in range(100):\n",
    "    \n",
    "    #it'll be much faster in minibatches\n",
    "    #minibatch construct\n",
    "    ix = torch.randint(0,X.shape[0],(32,)) #randomly sample 32 numbers from 0 to 228146\n",
    "\n",
    "\n",
    "    #Forward pass\n",
    "    emb = C[X[ix]] #embedding layer #First pick only ix indexes from X, and then based on X[ix], pick only X[ix] indexes from C #32x3x2\n",
    "    h = torch.tanh(emb.view(-1,6) @ W1 + b1) #first layer #32x100\n",
    "    logits = h@W2 + b2 #output of W2 layer #32x27\n",
    "    loss = F.cross_entropy(logits, Y[ix]) #ix also indexes from Y, so that we can calculate loss for only those 32 examples\n",
    "    print(loss.item())\n",
    "    \n",
    "    #bakcward pass\n",
    "    for p in parameters:\n",
    "        p.grad = None #setting gradients to 0 before each backward pass\n",
    "    loss.backward()\n",
    "\n",
    "    #update\n",
    "    for p in parameters:\n",
    "        p.data += -0.1*p.grad #updating the parameters\n",
    "\n",
    "#In Minibatches, the quality of gradients is not as good as in full batch, but it is much faster\n",
    "#since it is better to make many steps with aproximate gradients than to make few steps with exact gradients"
   ]
  },
  {
   "cell_type": "code",
   "execution_count": 43,
   "metadata": {},
   "outputs": [
    {
     "data": {
      "text/plain": [
       "tensor([ 83401, 153007, 142055, 195140, 214635, 120680,  80497, 200321,  35757,\n",
       "        173605, 147513, 212728, 117714, 129315, 168335, 148143, 205755, 144313,\n",
       "         46668, 116535,  14045,  26911, 203316, 125121, 179821, 211980,  68821,\n",
       "        159846,  33775, 181042,  86857,  19986])"
      ]
     },
     "execution_count": 43,
     "metadata": {},
     "output_type": "execute_result"
    }
   ],
   "source": [
    "#Above fwd and backward pass is being done for each of 228146 examples\n",
    "#so, instead of passing each example individually, we can do this fwd and backward pass in batches\n",
    "#we randomly sample from the examples and then pass them in batches\n",
    "torch.randint(0, X.shape[0], (32,)) #generate numbers bw 0 and 228156, and randomly sample 32 numbers from the dataset\n",
    "                                    #these are the indexes of the examples we'll use in the batch"
   ]
  },
  {
   "cell_type": "code",
   "execution_count": 44,
   "metadata": {},
   "outputs": [
    {
     "data": {
      "text/plain": [
       "tensor([0.0010, 0.0010, 0.0010, 0.0010, 0.0010, 0.0010, 0.0010, 0.0010, 0.0011,\n",
       "        0.0011, 0.0011, 0.0011, 0.0011, 0.0011, 0.0011, 0.0011, 0.0011, 0.0011,\n",
       "        0.0011, 0.0011, 0.0011, 0.0012, 0.0012, 0.0012, 0.0012, 0.0012, 0.0012,\n",
       "        0.0012, 0.0012, 0.0012, 0.0012, 0.0012, 0.0012, 0.0013, 0.0013, 0.0013,\n",
       "        0.0013, 0.0013, 0.0013, 0.0013, 0.0013, 0.0013, 0.0013, 0.0013, 0.0014,\n",
       "        0.0014, 0.0014, 0.0014, 0.0014, 0.0014, 0.0014, 0.0014, 0.0014, 0.0014,\n",
       "        0.0015, 0.0015, 0.0015, 0.0015, 0.0015, 0.0015, 0.0015, 0.0015, 0.0015,\n",
       "        0.0015, 0.0016, 0.0016, 0.0016, 0.0016, 0.0016, 0.0016, 0.0016, 0.0016,\n",
       "        0.0016, 0.0017, 0.0017, 0.0017, 0.0017, 0.0017, 0.0017, 0.0017, 0.0017,\n",
       "        0.0018, 0.0018, 0.0018, 0.0018, 0.0018, 0.0018, 0.0018, 0.0018, 0.0019,\n",
       "        0.0019, 0.0019, 0.0019, 0.0019, 0.0019, 0.0019, 0.0019, 0.0020, 0.0020,\n",
       "        0.0020, 0.0020, 0.0020, 0.0020, 0.0020, 0.0021, 0.0021, 0.0021, 0.0021,\n",
       "        0.0021, 0.0021, 0.0021, 0.0022, 0.0022, 0.0022, 0.0022, 0.0022, 0.0022,\n",
       "        0.0022, 0.0023, 0.0023, 0.0023, 0.0023, 0.0023, 0.0023, 0.0024, 0.0024,\n",
       "        0.0024, 0.0024, 0.0024, 0.0024, 0.0025, 0.0025, 0.0025, 0.0025, 0.0025,\n",
       "        0.0025, 0.0026, 0.0026, 0.0026, 0.0026, 0.0026, 0.0027, 0.0027, 0.0027,\n",
       "        0.0027, 0.0027, 0.0027, 0.0028, 0.0028, 0.0028, 0.0028, 0.0028, 0.0029,\n",
       "        0.0029, 0.0029, 0.0029, 0.0029, 0.0030, 0.0030, 0.0030, 0.0030, 0.0030,\n",
       "        0.0031, 0.0031, 0.0031, 0.0031, 0.0032, 0.0032, 0.0032, 0.0032, 0.0032,\n",
       "        0.0033, 0.0033, 0.0033, 0.0033, 0.0034, 0.0034, 0.0034, 0.0034, 0.0034,\n",
       "        0.0035, 0.0035, 0.0035, 0.0035, 0.0036, 0.0036, 0.0036, 0.0036, 0.0037,\n",
       "        0.0037, 0.0037, 0.0037, 0.0038, 0.0038, 0.0038, 0.0039, 0.0039, 0.0039,\n",
       "        0.0039, 0.0040, 0.0040, 0.0040, 0.0040, 0.0041, 0.0041, 0.0041, 0.0042,\n",
       "        0.0042, 0.0042, 0.0042, 0.0043, 0.0043, 0.0043, 0.0044, 0.0044, 0.0044,\n",
       "        0.0045, 0.0045, 0.0045, 0.0045, 0.0046, 0.0046, 0.0046, 0.0047, 0.0047,\n",
       "        0.0047, 0.0048, 0.0048, 0.0048, 0.0049, 0.0049, 0.0049, 0.0050, 0.0050,\n",
       "        0.0050, 0.0051, 0.0051, 0.0051, 0.0052, 0.0052, 0.0053, 0.0053, 0.0053,\n",
       "        0.0054, 0.0054, 0.0054, 0.0055, 0.0055, 0.0056, 0.0056, 0.0056, 0.0057,\n",
       "        0.0057, 0.0058, 0.0058, 0.0058, 0.0059, 0.0059, 0.0060, 0.0060, 0.0060,\n",
       "        0.0061, 0.0061, 0.0062, 0.0062, 0.0062, 0.0063, 0.0063, 0.0064, 0.0064,\n",
       "        0.0065, 0.0065, 0.0066, 0.0066, 0.0067, 0.0067, 0.0067, 0.0068, 0.0068,\n",
       "        0.0069, 0.0069, 0.0070, 0.0070, 0.0071, 0.0071, 0.0072, 0.0072, 0.0073,\n",
       "        0.0073, 0.0074, 0.0074, 0.0075, 0.0075, 0.0076, 0.0076, 0.0077, 0.0077,\n",
       "        0.0078, 0.0079, 0.0079, 0.0080, 0.0080, 0.0081, 0.0081, 0.0082, 0.0082,\n",
       "        0.0083, 0.0084, 0.0084, 0.0085, 0.0085, 0.0086, 0.0086, 0.0087, 0.0088,\n",
       "        0.0088, 0.0089, 0.0090, 0.0090, 0.0091, 0.0091, 0.0092, 0.0093, 0.0093,\n",
       "        0.0094, 0.0095, 0.0095, 0.0096, 0.0097, 0.0097, 0.0098, 0.0099, 0.0099,\n",
       "        0.0100, 0.0101, 0.0101, 0.0102, 0.0103, 0.0104, 0.0104, 0.0105, 0.0106,\n",
       "        0.0106, 0.0107, 0.0108, 0.0109, 0.0109, 0.0110, 0.0111, 0.0112, 0.0112,\n",
       "        0.0113, 0.0114, 0.0115, 0.0116, 0.0116, 0.0117, 0.0118, 0.0119, 0.0120,\n",
       "        0.0121, 0.0121, 0.0122, 0.0123, 0.0124, 0.0125, 0.0126, 0.0127, 0.0127,\n",
       "        0.0128, 0.0129, 0.0130, 0.0131, 0.0132, 0.0133, 0.0134, 0.0135, 0.0136,\n",
       "        0.0137, 0.0137, 0.0138, 0.0139, 0.0140, 0.0141, 0.0142, 0.0143, 0.0144,\n",
       "        0.0145, 0.0146, 0.0147, 0.0148, 0.0149, 0.0150, 0.0151, 0.0152, 0.0154,\n",
       "        0.0155, 0.0156, 0.0157, 0.0158, 0.0159, 0.0160, 0.0161, 0.0162, 0.0163,\n",
       "        0.0165, 0.0166, 0.0167, 0.0168, 0.0169, 0.0170, 0.0171, 0.0173, 0.0174,\n",
       "        0.0175, 0.0176, 0.0178, 0.0179, 0.0180, 0.0181, 0.0182, 0.0184, 0.0185,\n",
       "        0.0186, 0.0188, 0.0189, 0.0190, 0.0192, 0.0193, 0.0194, 0.0196, 0.0197,\n",
       "        0.0198, 0.0200, 0.0201, 0.0202, 0.0204, 0.0205, 0.0207, 0.0208, 0.0210,\n",
       "        0.0211, 0.0212, 0.0214, 0.0215, 0.0217, 0.0218, 0.0220, 0.0221, 0.0223,\n",
       "        0.0225, 0.0226, 0.0228, 0.0229, 0.0231, 0.0232, 0.0234, 0.0236, 0.0237,\n",
       "        0.0239, 0.0241, 0.0242, 0.0244, 0.0246, 0.0247, 0.0249, 0.0251, 0.0253,\n",
       "        0.0254, 0.0256, 0.0258, 0.0260, 0.0261, 0.0263, 0.0265, 0.0267, 0.0269,\n",
       "        0.0271, 0.0273, 0.0274, 0.0276, 0.0278, 0.0280, 0.0282, 0.0284, 0.0286,\n",
       "        0.0288, 0.0290, 0.0292, 0.0294, 0.0296, 0.0298, 0.0300, 0.0302, 0.0304,\n",
       "        0.0307, 0.0309, 0.0311, 0.0313, 0.0315, 0.0317, 0.0320, 0.0322, 0.0324,\n",
       "        0.0326, 0.0328, 0.0331, 0.0333, 0.0335, 0.0338, 0.0340, 0.0342, 0.0345,\n",
       "        0.0347, 0.0350, 0.0352, 0.0354, 0.0357, 0.0359, 0.0362, 0.0364, 0.0367,\n",
       "        0.0369, 0.0372, 0.0375, 0.0377, 0.0380, 0.0382, 0.0385, 0.0388, 0.0390,\n",
       "        0.0393, 0.0396, 0.0399, 0.0401, 0.0404, 0.0407, 0.0410, 0.0413, 0.0416,\n",
       "        0.0418, 0.0421, 0.0424, 0.0427, 0.0430, 0.0433, 0.0436, 0.0439, 0.0442,\n",
       "        0.0445, 0.0448, 0.0451, 0.0455, 0.0458, 0.0461, 0.0464, 0.0467, 0.0471,\n",
       "        0.0474, 0.0477, 0.0480, 0.0484, 0.0487, 0.0491, 0.0494, 0.0497, 0.0501,\n",
       "        0.0504, 0.0508, 0.0511, 0.0515, 0.0518, 0.0522, 0.0526, 0.0529, 0.0533,\n",
       "        0.0537, 0.0540, 0.0544, 0.0548, 0.0552, 0.0556, 0.0559, 0.0563, 0.0567,\n",
       "        0.0571, 0.0575, 0.0579, 0.0583, 0.0587, 0.0591, 0.0595, 0.0599, 0.0604,\n",
       "        0.0608, 0.0612, 0.0616, 0.0621, 0.0625, 0.0629, 0.0634, 0.0638, 0.0642,\n",
       "        0.0647, 0.0651, 0.0656, 0.0660, 0.0665, 0.0670, 0.0674, 0.0679, 0.0684,\n",
       "        0.0688, 0.0693, 0.0698, 0.0703, 0.0708, 0.0713, 0.0718, 0.0723, 0.0728,\n",
       "        0.0733, 0.0738, 0.0743, 0.0748, 0.0753, 0.0758, 0.0764, 0.0769, 0.0774,\n",
       "        0.0780, 0.0785, 0.0790, 0.0796, 0.0802, 0.0807, 0.0813, 0.0818, 0.0824,\n",
       "        0.0830, 0.0835, 0.0841, 0.0847, 0.0853, 0.0859, 0.0865, 0.0871, 0.0877,\n",
       "        0.0883, 0.0889, 0.0895, 0.0901, 0.0908, 0.0914, 0.0920, 0.0927, 0.0933,\n",
       "        0.0940, 0.0946, 0.0953, 0.0959, 0.0966, 0.0973, 0.0979, 0.0986, 0.0993,\n",
       "        0.1000, 0.1007, 0.1014, 0.1021, 0.1028, 0.1035, 0.1042, 0.1050, 0.1057,\n",
       "        0.1064, 0.1072, 0.1079, 0.1087, 0.1094, 0.1102, 0.1109, 0.1117, 0.1125,\n",
       "        0.1133, 0.1140, 0.1148, 0.1156, 0.1164, 0.1172, 0.1181, 0.1189, 0.1197,\n",
       "        0.1205, 0.1214, 0.1222, 0.1231, 0.1239, 0.1248, 0.1256, 0.1265, 0.1274,\n",
       "        0.1283, 0.1292, 0.1301, 0.1310, 0.1319, 0.1328, 0.1337, 0.1346, 0.1356,\n",
       "        0.1365, 0.1374, 0.1384, 0.1394, 0.1403, 0.1413, 0.1423, 0.1433, 0.1443,\n",
       "        0.1453, 0.1463, 0.1473, 0.1483, 0.1493, 0.1504, 0.1514, 0.1525, 0.1535,\n",
       "        0.1546, 0.1557, 0.1567, 0.1578, 0.1589, 0.1600, 0.1611, 0.1623, 0.1634,\n",
       "        0.1645, 0.1657, 0.1668, 0.1680, 0.1691, 0.1703, 0.1715, 0.1727, 0.1739,\n",
       "        0.1751, 0.1763, 0.1775, 0.1788, 0.1800, 0.1812, 0.1825, 0.1838, 0.1850,\n",
       "        0.1863, 0.1876, 0.1889, 0.1902, 0.1916, 0.1929, 0.1942, 0.1956, 0.1969,\n",
       "        0.1983, 0.1997, 0.2010, 0.2024, 0.2038, 0.2053, 0.2067, 0.2081, 0.2096,\n",
       "        0.2110, 0.2125, 0.2140, 0.2154, 0.2169, 0.2184, 0.2200, 0.2215, 0.2230,\n",
       "        0.2246, 0.2261, 0.2277, 0.2293, 0.2309, 0.2325, 0.2341, 0.2357, 0.2373,\n",
       "        0.2390, 0.2406, 0.2423, 0.2440, 0.2457, 0.2474, 0.2491, 0.2508, 0.2526,\n",
       "        0.2543, 0.2561, 0.2579, 0.2597, 0.2615, 0.2633, 0.2651, 0.2669, 0.2688,\n",
       "        0.2707, 0.2725, 0.2744, 0.2763, 0.2783, 0.2802, 0.2821, 0.2841, 0.2861,\n",
       "        0.2880, 0.2900, 0.2921, 0.2941, 0.2961, 0.2982, 0.3002, 0.3023, 0.3044,\n",
       "        0.3065, 0.3087, 0.3108, 0.3130, 0.3151, 0.3173, 0.3195, 0.3217, 0.3240,\n",
       "        0.3262, 0.3285, 0.3308, 0.3331, 0.3354, 0.3377, 0.3400, 0.3424, 0.3448,\n",
       "        0.3472, 0.3496, 0.3520, 0.3544, 0.3569, 0.3594, 0.3619, 0.3644, 0.3669,\n",
       "        0.3695, 0.3720, 0.3746, 0.3772, 0.3798, 0.3825, 0.3851, 0.3878, 0.3905,\n",
       "        0.3932, 0.3959, 0.3987, 0.4014, 0.4042, 0.4070, 0.4098, 0.4127, 0.4155,\n",
       "        0.4184, 0.4213, 0.4243, 0.4272, 0.4302, 0.4331, 0.4362, 0.4392, 0.4422,\n",
       "        0.4453, 0.4484, 0.4515, 0.4546, 0.4578, 0.4610, 0.4642, 0.4674, 0.4706,\n",
       "        0.4739, 0.4772, 0.4805, 0.4838, 0.4872, 0.4906, 0.4940, 0.4974, 0.5008,\n",
       "        0.5043, 0.5078, 0.5113, 0.5149, 0.5185, 0.5221, 0.5257, 0.5293, 0.5330,\n",
       "        0.5367, 0.5404, 0.5442, 0.5479, 0.5517, 0.5556, 0.5594, 0.5633, 0.5672,\n",
       "        0.5712, 0.5751, 0.5791, 0.5831, 0.5872, 0.5913, 0.5954, 0.5995, 0.6036,\n",
       "        0.6078, 0.6120, 0.6163, 0.6206, 0.6249, 0.6292, 0.6336, 0.6380, 0.6424,\n",
       "        0.6469, 0.6513, 0.6559, 0.6604, 0.6650, 0.6696, 0.6743, 0.6789, 0.6837,\n",
       "        0.6884, 0.6932, 0.6980, 0.7028, 0.7077, 0.7126, 0.7176, 0.7225, 0.7275,\n",
       "        0.7326, 0.7377, 0.7428, 0.7480, 0.7531, 0.7584, 0.7636, 0.7689, 0.7743,\n",
       "        0.7796, 0.7850, 0.7905, 0.7960, 0.8015, 0.8071, 0.8127, 0.8183, 0.8240,\n",
       "        0.8297, 0.8355, 0.8412, 0.8471, 0.8530, 0.8589, 0.8648, 0.8708, 0.8769,\n",
       "        0.8830, 0.8891, 0.8953, 0.9015, 0.9077, 0.9140, 0.9204, 0.9268, 0.9332,\n",
       "        0.9397, 0.9462, 0.9528, 0.9594, 0.9660, 0.9727, 0.9795, 0.9863, 0.9931,\n",
       "        1.0000])"
      ]
     },
     "execution_count": 44,
     "metadata": {},
     "output_type": "execute_result"
    }
   ],
   "source": [
    "#But, how to select proper learning rate?\n",
    "#we can use torch.linspace() to generate a range of learning rates and then plot the loss vs learning rate\n",
    "lre = torch.linspace(0.001, 1, 1000) #generate 1000 learning rates from 0.001 to 1 in a linear space\n",
    "#but, linear space se better hai ki us intervel me exponentially placed ho\n",
    "lre = torch.linspace(-3, 0, 1000)\n",
    "lrs = 10**lre #convert the linearly spaced learning rates to exponentially spaced learning rates, 10^0 is 1\n",
    "lrs"
   ]
  },
  {
   "cell_type": "code",
   "execution_count": 45,
   "metadata": {},
   "outputs": [
    {
     "data": {
      "text/plain": [
       "tensor([-3.0000, -2.9970, -2.9940, -2.9910, -2.9880, -2.9850, -2.9820, -2.9790,\n",
       "        -2.9760, -2.9730, -2.9700, -2.9670, -2.9640, -2.9610, -2.9580, -2.9550,\n",
       "        -2.9520, -2.9489, -2.9459, -2.9429, -2.9399, -2.9369, -2.9339, -2.9309,\n",
       "        -2.9279, -2.9249, -2.9219, -2.9189, -2.9159, -2.9129, -2.9099, -2.9069,\n",
       "        -2.9039, -2.9009, -2.8979, -2.8949, -2.8919, -2.8889, -2.8859, -2.8829,\n",
       "        -2.8799, -2.8769, -2.8739, -2.8709, -2.8679, -2.8649, -2.8619, -2.8589,\n",
       "        -2.8559, -2.8529, -2.8498, -2.8468, -2.8438, -2.8408, -2.8378, -2.8348,\n",
       "        -2.8318, -2.8288, -2.8258, -2.8228, -2.8198, -2.8168, -2.8138, -2.8108,\n",
       "        -2.8078, -2.8048, -2.8018, -2.7988, -2.7958, -2.7928, -2.7898, -2.7868,\n",
       "        -2.7838, -2.7808, -2.7778, -2.7748, -2.7718, -2.7688, -2.7658, -2.7628,\n",
       "        -2.7598, -2.7568, -2.7538, -2.7508, -2.7477, -2.7447, -2.7417, -2.7387,\n",
       "        -2.7357, -2.7327, -2.7297, -2.7267, -2.7237, -2.7207, -2.7177, -2.7147,\n",
       "        -2.7117, -2.7087, -2.7057, -2.7027, -2.6997, -2.6967, -2.6937, -2.6907,\n",
       "        -2.6877, -2.6847, -2.6817, -2.6787, -2.6757, -2.6727, -2.6697, -2.6667,\n",
       "        -2.6637, -2.6607, -2.6577, -2.6547, -2.6517, -2.6486, -2.6456, -2.6426,\n",
       "        -2.6396, -2.6366, -2.6336, -2.6306, -2.6276, -2.6246, -2.6216, -2.6186,\n",
       "        -2.6156, -2.6126, -2.6096, -2.6066, -2.6036, -2.6006, -2.5976, -2.5946,\n",
       "        -2.5916, -2.5886, -2.5856, -2.5826, -2.5796, -2.5766, -2.5736, -2.5706,\n",
       "        -2.5676, -2.5646, -2.5616, -2.5586, -2.5556, -2.5526, -2.5495, -2.5465,\n",
       "        -2.5435, -2.5405, -2.5375, -2.5345, -2.5315, -2.5285, -2.5255, -2.5225,\n",
       "        -2.5195, -2.5165, -2.5135, -2.5105, -2.5075, -2.5045, -2.5015, -2.4985,\n",
       "        -2.4955, -2.4925, -2.4895, -2.4865, -2.4835, -2.4805, -2.4775, -2.4745,\n",
       "        -2.4715, -2.4685, -2.4655, -2.4625, -2.4595, -2.4565, -2.4535, -2.4505,\n",
       "        -2.4474, -2.4444, -2.4414, -2.4384, -2.4354, -2.4324, -2.4294, -2.4264,\n",
       "        -2.4234, -2.4204, -2.4174, -2.4144, -2.4114, -2.4084, -2.4054, -2.4024,\n",
       "        -2.3994, -2.3964, -2.3934, -2.3904, -2.3874, -2.3844, -2.3814, -2.3784,\n",
       "        -2.3754, -2.3724, -2.3694, -2.3664, -2.3634, -2.3604, -2.3574, -2.3544,\n",
       "        -2.3514, -2.3483, -2.3453, -2.3423, -2.3393, -2.3363, -2.3333, -2.3303,\n",
       "        -2.3273, -2.3243, -2.3213, -2.3183, -2.3153, -2.3123, -2.3093, -2.3063,\n",
       "        -2.3033, -2.3003, -2.2973, -2.2943, -2.2913, -2.2883, -2.2853, -2.2823,\n",
       "        -2.2793, -2.2763, -2.2733, -2.2703, -2.2673, -2.2643, -2.2613, -2.2583,\n",
       "        -2.2553, -2.2523, -2.2492, -2.2462, -2.2432, -2.2402, -2.2372, -2.2342,\n",
       "        -2.2312, -2.2282, -2.2252, -2.2222, -2.2192, -2.2162, -2.2132, -2.2102,\n",
       "        -2.2072, -2.2042, -2.2012, -2.1982, -2.1952, -2.1922, -2.1892, -2.1862,\n",
       "        -2.1832, -2.1802, -2.1772, -2.1742, -2.1712, -2.1682, -2.1652, -2.1622,\n",
       "        -2.1592, -2.1562, -2.1532, -2.1502, -2.1471, -2.1441, -2.1411, -2.1381,\n",
       "        -2.1351, -2.1321, -2.1291, -2.1261, -2.1231, -2.1201, -2.1171, -2.1141,\n",
       "        -2.1111, -2.1081, -2.1051, -2.1021, -2.0991, -2.0961, -2.0931, -2.0901,\n",
       "        -2.0871, -2.0841, -2.0811, -2.0781, -2.0751, -2.0721, -2.0691, -2.0661,\n",
       "        -2.0631, -2.0601, -2.0571, -2.0541, -2.0511, -2.0480, -2.0450, -2.0420,\n",
       "        -2.0390, -2.0360, -2.0330, -2.0300, -2.0270, -2.0240, -2.0210, -2.0180,\n",
       "        -2.0150, -2.0120, -2.0090, -2.0060, -2.0030, -2.0000, -1.9970, -1.9940,\n",
       "        -1.9910, -1.9880, -1.9850, -1.9820, -1.9790, -1.9760, -1.9730, -1.9700,\n",
       "        -1.9670, -1.9640, -1.9610, -1.9580, -1.9550, -1.9520, -1.9489, -1.9459,\n",
       "        -1.9429, -1.9399, -1.9369, -1.9339, -1.9309, -1.9279, -1.9249, -1.9219,\n",
       "        -1.9189, -1.9159, -1.9129, -1.9099, -1.9069, -1.9039, -1.9009, -1.8979,\n",
       "        -1.8949, -1.8919, -1.8889, -1.8859, -1.8829, -1.8799, -1.8769, -1.8739,\n",
       "        -1.8709, -1.8679, -1.8649, -1.8619, -1.8589, -1.8559, -1.8529, -1.8498,\n",
       "        -1.8468, -1.8438, -1.8408, -1.8378, -1.8348, -1.8318, -1.8288, -1.8258,\n",
       "        -1.8228, -1.8198, -1.8168, -1.8138, -1.8108, -1.8078, -1.8048, -1.8018,\n",
       "        -1.7988, -1.7958, -1.7928, -1.7898, -1.7868, -1.7838, -1.7808, -1.7778,\n",
       "        -1.7748, -1.7718, -1.7688, -1.7658, -1.7628, -1.7598, -1.7568, -1.7538,\n",
       "        -1.7508, -1.7477, -1.7447, -1.7417, -1.7387, -1.7357, -1.7327, -1.7297,\n",
       "        -1.7267, -1.7237, -1.7207, -1.7177, -1.7147, -1.7117, -1.7087, -1.7057,\n",
       "        -1.7027, -1.6997, -1.6967, -1.6937, -1.6907, -1.6877, -1.6847, -1.6817,\n",
       "        -1.6787, -1.6757, -1.6727, -1.6697, -1.6667, -1.6637, -1.6607, -1.6577,\n",
       "        -1.6547, -1.6517, -1.6486, -1.6456, -1.6426, -1.6396, -1.6366, -1.6336,\n",
       "        -1.6306, -1.6276, -1.6246, -1.6216, -1.6186, -1.6156, -1.6126, -1.6096,\n",
       "        -1.6066, -1.6036, -1.6006, -1.5976, -1.5946, -1.5916, -1.5886, -1.5856,\n",
       "        -1.5826, -1.5796, -1.5766, -1.5736, -1.5706, -1.5676, -1.5646, -1.5616,\n",
       "        -1.5586, -1.5556, -1.5526, -1.5495, -1.5465, -1.5435, -1.5405, -1.5375,\n",
       "        -1.5345, -1.5315, -1.5285, -1.5255, -1.5225, -1.5195, -1.5165, -1.5135,\n",
       "        -1.5105, -1.5075, -1.5045, -1.5015, -1.4985, -1.4955, -1.4925, -1.4895,\n",
       "        -1.4865, -1.4835, -1.4805, -1.4775, -1.4745, -1.4715, -1.4685, -1.4655,\n",
       "        -1.4625, -1.4595, -1.4565, -1.4535, -1.4505, -1.4474, -1.4444, -1.4414,\n",
       "        -1.4384, -1.4354, -1.4324, -1.4294, -1.4264, -1.4234, -1.4204, -1.4174,\n",
       "        -1.4144, -1.4114, -1.4084, -1.4054, -1.4024, -1.3994, -1.3964, -1.3934,\n",
       "        -1.3904, -1.3874, -1.3844, -1.3814, -1.3784, -1.3754, -1.3724, -1.3694,\n",
       "        -1.3664, -1.3634, -1.3604, -1.3574, -1.3544, -1.3514, -1.3483, -1.3453,\n",
       "        -1.3423, -1.3393, -1.3363, -1.3333, -1.3303, -1.3273, -1.3243, -1.3213,\n",
       "        -1.3183, -1.3153, -1.3123, -1.3093, -1.3063, -1.3033, -1.3003, -1.2973,\n",
       "        -1.2943, -1.2913, -1.2883, -1.2853, -1.2823, -1.2793, -1.2763, -1.2733,\n",
       "        -1.2703, -1.2673, -1.2643, -1.2613, -1.2583, -1.2553, -1.2523, -1.2492,\n",
       "        -1.2462, -1.2432, -1.2402, -1.2372, -1.2342, -1.2312, -1.2282, -1.2252,\n",
       "        -1.2222, -1.2192, -1.2162, -1.2132, -1.2102, -1.2072, -1.2042, -1.2012,\n",
       "        -1.1982, -1.1952, -1.1922, -1.1892, -1.1862, -1.1832, -1.1802, -1.1772,\n",
       "        -1.1742, -1.1712, -1.1682, -1.1652, -1.1622, -1.1592, -1.1562, -1.1532,\n",
       "        -1.1502, -1.1471, -1.1441, -1.1411, -1.1381, -1.1351, -1.1321, -1.1291,\n",
       "        -1.1261, -1.1231, -1.1201, -1.1171, -1.1141, -1.1111, -1.1081, -1.1051,\n",
       "        -1.1021, -1.0991, -1.0961, -1.0931, -1.0901, -1.0871, -1.0841, -1.0811,\n",
       "        -1.0781, -1.0751, -1.0721, -1.0691, -1.0661, -1.0631, -1.0601, -1.0571,\n",
       "        -1.0541, -1.0511, -1.0480, -1.0450, -1.0420, -1.0390, -1.0360, -1.0330,\n",
       "        -1.0300, -1.0270, -1.0240, -1.0210, -1.0180, -1.0150, -1.0120, -1.0090,\n",
       "        -1.0060, -1.0030, -1.0000, -0.9970, -0.9940, -0.9910, -0.9880, -0.9850,\n",
       "        -0.9820, -0.9790, -0.9760, -0.9730, -0.9700, -0.9670, -0.9640, -0.9610,\n",
       "        -0.9580, -0.9550, -0.9520, -0.9489, -0.9459, -0.9429, -0.9399, -0.9369,\n",
       "        -0.9339, -0.9309, -0.9279, -0.9249, -0.9219, -0.9189, -0.9159, -0.9129,\n",
       "        -0.9099, -0.9069, -0.9039, -0.9009, -0.8979, -0.8949, -0.8919, -0.8889,\n",
       "        -0.8859, -0.8829, -0.8799, -0.8769, -0.8739, -0.8709, -0.8679, -0.8649,\n",
       "        -0.8619, -0.8589, -0.8559, -0.8529, -0.8498, -0.8468, -0.8438, -0.8408,\n",
       "        -0.8378, -0.8348, -0.8318, -0.8288, -0.8258, -0.8228, -0.8198, -0.8168,\n",
       "        -0.8138, -0.8108, -0.8078, -0.8048, -0.8018, -0.7988, -0.7958, -0.7928,\n",
       "        -0.7898, -0.7868, -0.7838, -0.7808, -0.7778, -0.7748, -0.7718, -0.7688,\n",
       "        -0.7658, -0.7628, -0.7598, -0.7568, -0.7538, -0.7508, -0.7477, -0.7447,\n",
       "        -0.7417, -0.7387, -0.7357, -0.7327, -0.7297, -0.7267, -0.7237, -0.7207,\n",
       "        -0.7177, -0.7147, -0.7117, -0.7087, -0.7057, -0.7027, -0.6997, -0.6967,\n",
       "        -0.6937, -0.6907, -0.6877, -0.6847, -0.6817, -0.6787, -0.6757, -0.6727,\n",
       "        -0.6697, -0.6667, -0.6637, -0.6607, -0.6577, -0.6547, -0.6517, -0.6486,\n",
       "        -0.6456, -0.6426, -0.6396, -0.6366, -0.6336, -0.6306, -0.6276, -0.6246,\n",
       "        -0.6216, -0.6186, -0.6156, -0.6126, -0.6096, -0.6066, -0.6036, -0.6006,\n",
       "        -0.5976, -0.5946, -0.5916, -0.5886, -0.5856, -0.5826, -0.5796, -0.5766,\n",
       "        -0.5736, -0.5706, -0.5676, -0.5646, -0.5616, -0.5586, -0.5556, -0.5526,\n",
       "        -0.5495, -0.5465, -0.5435, -0.5405, -0.5375, -0.5345, -0.5315, -0.5285,\n",
       "        -0.5255, -0.5225, -0.5195, -0.5165, -0.5135, -0.5105, -0.5075, -0.5045,\n",
       "        -0.5015, -0.4985, -0.4955, -0.4925, -0.4895, -0.4865, -0.4835, -0.4805,\n",
       "        -0.4775, -0.4745, -0.4715, -0.4685, -0.4655, -0.4625, -0.4595, -0.4565,\n",
       "        -0.4535, -0.4505, -0.4474, -0.4444, -0.4414, -0.4384, -0.4354, -0.4324,\n",
       "        -0.4294, -0.4264, -0.4234, -0.4204, -0.4174, -0.4144, -0.4114, -0.4084,\n",
       "        -0.4054, -0.4024, -0.3994, -0.3964, -0.3934, -0.3904, -0.3874, -0.3844,\n",
       "        -0.3814, -0.3784, -0.3754, -0.3724, -0.3694, -0.3664, -0.3634, -0.3604,\n",
       "        -0.3574, -0.3544, -0.3514, -0.3483, -0.3453, -0.3423, -0.3393, -0.3363,\n",
       "        -0.3333, -0.3303, -0.3273, -0.3243, -0.3213, -0.3183, -0.3153, -0.3123,\n",
       "        -0.3093, -0.3063, -0.3033, -0.3003, -0.2973, -0.2943, -0.2913, -0.2883,\n",
       "        -0.2853, -0.2823, -0.2793, -0.2763, -0.2733, -0.2703, -0.2673, -0.2643,\n",
       "        -0.2613, -0.2583, -0.2553, -0.2523, -0.2492, -0.2462, -0.2432, -0.2402,\n",
       "        -0.2372, -0.2342, -0.2312, -0.2282, -0.2252, -0.2222, -0.2192, -0.2162,\n",
       "        -0.2132, -0.2102, -0.2072, -0.2042, -0.2012, -0.1982, -0.1952, -0.1922,\n",
       "        -0.1892, -0.1862, -0.1832, -0.1802, -0.1772, -0.1742, -0.1712, -0.1682,\n",
       "        -0.1652, -0.1622, -0.1592, -0.1562, -0.1532, -0.1502, -0.1471, -0.1441,\n",
       "        -0.1411, -0.1381, -0.1351, -0.1321, -0.1291, -0.1261, -0.1231, -0.1201,\n",
       "        -0.1171, -0.1141, -0.1111, -0.1081, -0.1051, -0.1021, -0.0991, -0.0961,\n",
       "        -0.0931, -0.0901, -0.0871, -0.0841, -0.0811, -0.0781, -0.0751, -0.0721,\n",
       "        -0.0691, -0.0661, -0.0631, -0.0601, -0.0571, -0.0541, -0.0511, -0.0480,\n",
       "        -0.0450, -0.0420, -0.0390, -0.0360, -0.0330, -0.0300, -0.0270, -0.0240,\n",
       "        -0.0210, -0.0180, -0.0150, -0.0120, -0.0090, -0.0060, -0.0030,  0.0000])"
      ]
     },
     "execution_count": 45,
     "metadata": {},
     "output_type": "execute_result"
    }
   ],
   "source": [
    "lre"
   ]
  },
  {
   "cell_type": "code",
   "execution_count": 46,
   "metadata": {},
   "outputs": [
    {
     "name": "stdout",
     "output_type": "stream",
     "text": [
      "2.7017478942871094\n"
     ]
    }
   ],
   "source": [
    "#self adaptive learning rate, low in the beginning and then high\n",
    "lri = []\n",
    "lossi = []\n",
    "for i in range(10000):\n",
    "    \n",
    "    #it'll be much faster in minibatches\n",
    "    #minibatch construct\n",
    "    ix = torch.randint(0,X.shape[0],(32,)) #randomly sample 32 numbers from 0 to 228146\n",
    "\n",
    "\n",
    "    #Forward pass\n",
    "    emb = C[X[ix]] #embedding layer #First pick only ix indexes from X, and then based on X[ix], pick only X[ix] indexes from C #32x3x2\n",
    "    h = torch.tanh(emb.view(-1,6) @ W1 + b1) #first layer #32x100\n",
    "    logits = h@W2 + b2 #output of W2 layer #32x27\n",
    "    loss = F.cross_entropy(logits, Y[ix]) #ix also indexes from Y, so that we can calculate loss for only those 32 examples\n",
    "    # print(loss.item())\n",
    "    \n",
    "    #bakcward pass\n",
    "    for p in parameters:\n",
    "        p.grad = None #setting gradients to 0 before each backward pass\n",
    "    loss.backward()\n",
    "\n",
    "    #update\n",
    "    # lr = lrs[i]\n",
    "    lr = 0.01 #in the later stages, we can use a still smaller learning rate, it'll be like learning rate decay\n",
    "    for p in parameters:\n",
    "        p.data += -lr*p.grad\n",
    "    \n",
    "    #track stats\n",
    "    # lri.append(lre[i])\n",
    "    # lossi.append(loss.item())\n",
    "print(loss.item())\n",
    "\n",
    "#i.e. finding decent learning rate, then decaying the learning rate in later stages"
   ]
  },
  {
   "cell_type": "code",
   "execution_count": null,
   "metadata": {},
   "outputs": [
    {
     "data": {
      "text/plain": [
       "[<matplotlib.lines.Line2D at 0x20932844090>]"
      ]
     },
     "execution_count": 77,
     "metadata": {},
     "output_type": "execute_result"
    },
    {
     "data": {
      "image/png": "[encoded data removed]",
      "text/plain": [
       "<Figure size 640x480 with 1 Axes>"
      ]
     },
     "metadata": {},
     "output_type": "display_data"
    }
   ],
   "source": [
    "plt.plot(lri, lossi) #i.e. lre around -1 is good , i.e 10^-1 = 0.1 is good learning rate"
   ]
  },
  {
   "cell_type": "markdown",
   "metadata": {},
   "source": [
    "Train, Val, Test split"
   ]
  },
  {
   "cell_type": "code",
   "execution_count": null,
   "metadata": {},
   "outputs": [],
   "source": [
    "#We're getting lower training loss than bigram model\n",
    "#so, we split our data into\n",
    "#train, val, test, splits\n",
    "# 0.8, 0.1, 0.1\n",
    "#train set : to train parameters\n",
    "#val set : to tune hyperparameters\n",
    "#test set : to evaluate the model  \n"
   ]
  },
  {
   "cell_type": "code",
   "execution_count": 92,
   "metadata": {},
   "outputs": [
    {
     "name": "stdout",
     "output_type": "stream",
     "text": [
      "torch.Size([182437, 3]) torch.Size([182437])\n",
      "torch.Size([22781, 3]) torch.Size([22781])\n",
      "torch.Size([22928, 3]) torch.Size([22928])\n"
     ]
    }
   ],
   "source": [
    "#build the dataset\n",
    "def build_dataset(words):\n",
    "    block_size = 3 #context length: how many characters to look at to predict the next one?\n",
    "    X,Y = [],[]\n",
    "    for w in words: #all words\n",
    "        \n",
    "        context = [0]*block_size\n",
    "        for ch in w + '.':\n",
    "            ix = stoi[ch]\n",
    "            X.append(context)\n",
    "            Y.append(ix)\n",
    "            # print(''.join(itos[i] for i in context), '--->', itos[ix])\n",
    "            context = context[1:] + [ix] #crop the first element and apend the new one\n",
    "\n",
    "    X = torch.tensor(X)\n",
    "    Y = torch.tensor(Y)\n",
    "    print(X.shape, Y.shape)\n",
    "    return X,Y\n",
    "\n",
    "import random\n",
    "random.seed(42)\n",
    "random.shuffle(words)\n",
    "n1  = int(0.8*len(words))\n",
    "n2 = int(0.9*len(words))\n",
    "Xtr, Ytr = build_dataset(words[:n1])\n",
    "Xdev, Ydev = build_dataset(words[n1:n2])\n",
    "Xte, Yte = build_dataset(words[n2:])"
   ]
  },
  {
   "cell_type": "code",
   "execution_count": 50,
   "metadata": {},
   "outputs": [
    {
     "data": {
      "text/plain": [
       "(25626, 3203, 3204)"
      ]
     },
     "execution_count": 50,
     "metadata": {},
     "output_type": "execute_result"
    }
   ],
   "source": [
    "n1, n2-n1, len(words)-n2"
   ]
  },
  {
   "cell_type": "code",
   "execution_count": 98,
   "metadata": {},
   "outputs": [
    {
     "data": {
      "text/plain": [
       "11897"
      ]
     },
     "execution_count": 98,
     "metadata": {},
     "output_type": "execute_result"
    }
   ],
   "source": [
    "g = torch.Generator().manual_seed(2147483647) #for reproducibility\n",
    "C = torch.randn((27,10), generator=g) #embedding layer\n",
    "\n",
    "W1 = torch.randn((3*10,200), generator=g) #first layer\n",
    "b1 = torch.randn(200, generator=g) #biases for first layer\n",
    "\n",
    "W2 = torch.randn((200,27), generator=g) #second layer\n",
    "b2 = torch.randn(27, generator=g) #biases for second layer\n",
    "\n",
    "parameters = [C, W1, b1, W2, b2] #all the parameters\n",
    "\n",
    "for p in parameters:\n",
    "    p.requires_grad = True #enabling gradients for all parameters\n",
    "\n",
    "sum(p.nelement() for p in parameters) #total no. of parameters"
   ]
  },
  {
   "cell_type": "code",
   "execution_count": 99,
   "metadata": {},
   "outputs": [],
   "source": [
    "stepi = []\n",
    "lossi = []\n",
    "#seperating our loss initialisations so that when we run the\n",
    "#training loop multiple times, it wont wipe out the loss progress"
   ]
  },
  {
   "cell_type": "code",
   "execution_count": 104,
   "metadata": {},
   "outputs": [
    {
     "name": "stdout",
     "output_type": "stream",
     "text": [
      "Training Loss: 2.8222756385803223\n"
     ]
    }
   ],
   "source": [
    "for i in range(30000):\n",
    "    \n",
    "    #minibatch construct\n",
    "    ix = torch.randint(0,X.shape[0],(32,)) #randomly sample 32 numbers from 0 to 228146\n",
    "\n",
    "    #Forward pass\n",
    "    emb = C[X[ix]] #embedding layer #First pick only ix indexes from X, and then based on X[ix], pick only X[ix] indexes from C #32x3x2\n",
    "    h = torch.tanh(emb.view(-1,3*10) @ W1 + b1) #first layer #32x100\n",
    "    logits = h@W2 + b2 #output of W2 layer #32x27\n",
    "    loss = F.cross_entropy(logits, Y[ix]) #ix also indexes from Y, so that we can calculate loss for only those 32 examples\n",
    "    # print(loss.item())\n",
    "    \n",
    "    #bakcward pass\n",
    "    for p in parameters:\n",
    "        p.grad = None #setting gradients to 0 before each backward pass\n",
    "    loss.backward()\n",
    "\n",
    "    #update\n",
    "    for p in parameters:\n",
    "        p.data += -0.01*p.grad #updating the parameters\n",
    "\n",
    "    #trackstats\n",
    "    lossi.append(loss.log10().item())\n",
    "    stepi.append(i)\n",
    "\n",
    "print('Training Loss:', loss.item())"
   ]
  },
  {
   "cell_type": "code",
   "execution_count": 108,
   "metadata": {},
   "outputs": [
    {
     "data": {
      "text/plain": [
       "[<matplotlib.lines.Line2D at 0x1907dc4aa10>]"
      ]
     },
     "execution_count": 108,
     "metadata": {},
     "output_type": "execute_result"
    },
    {
     "data": {
      "image/png": "[encoded data removed]",
      "text/plain": [
       "<Figure size 640x480 with 1 Axes>"
      ]
     },
     "metadata": {},
     "output_type": "display_data"
    }
   ],
   "source": [
    "plt.plot(stepi, lossi)\n",
    "#thickness in the plot is due to the fact that we're using minibatches, and the gradients are not as good as in full batch\n",
    "#small size of the minibatches creates the noise in the gradients, and the model is not able to converge as fast as in full batch\n"
   ]
  },
  {
   "cell_type": "code",
   "execution_count": 107,
   "metadata": {},
   "outputs": [
    {
     "data": {
      "text/plain": [
       "tensor(2.3901, grad_fn=<NllLossBackward0>)"
      ]
     },
     "execution_count": 107,
     "metadata": {},
     "output_type": "execute_result"
    }
   ],
   "source": [
    "#Evaluate\n",
    "emb = C[Xdev]\n",
    "h = torch.tanh(emb.view(-1,3*10) @ W1 + b1)\n",
    "logits = h@W2 + b2\n",
    "loss = F.cross_entropy(logits, Ydev)\n",
    "loss"
   ]
  },
  {
   "cell_type": "code",
   "execution_count": null,
   "metadata": {},
   "outputs": [
    {
     "data": {
      "image/png": "[encoded data removed]",
      "text/plain": [
       "<Figure size 640x480 with 1 Axes>"
      ]
     },
     "metadata": {},
     "output_type": "display_data"
    }
   ],
   "source": [
    "#The model is not improving more than about 2.3 or 2.2, \n",
    "#it maybe because of the bottleneck in the charcter embedding size\n",
    "#so we first visualize the embeddings\n",
    "plt.figure\n",
    "plt.scatter(C[:,0].data, C[:,1].data, s=200) #scatter plot of 2D embeddings\n",
    "for i in range(C.shape[0]):\n",
    "    plt.text(C[i,0].item(), C[i,1].item(), itos[i], ha=\"center\", va=\"center\", color=\"white\")\n",
    "plt.grid('minor')\n",
    "#vowels are represented together, '.' is considered very different\n",
    "#So, lets make the embeddings higher dimension, higher than 2D representation\n",
    "#But we wont be able to visualise it then\n"
   ]
  },
  {
   "cell_type": "code",
   "execution_count": 106,
   "metadata": {},
   "outputs": [],
   "source": [
    "#We can:\n",
    "#1. continue playing with neural net\n",
    "#2. modify the embeddings size\n",
    "#3. instead of just 3 characters, we can increase the context block to more characters"
   ]
  },
  {
   "cell_type": "code",
   "execution_count": null,
   "metadata": {},
   "outputs": [
    {
     "name": "stdout",
     "output_type": "stream",
     "text": [
      "mrruah.\n",
      "hayleeel.\n",
      "ndyny.\n",
      "marethan.\n",
      "ekdrari.\n",
      "adered.\n",
      "elin.\n",
      "shy.\n",
      "jenlekennesoriar.\n",
      "elle.\n",
      "malara.\n",
      "noshibergihiries.\n",
      "ken.\n",
      "reneliranterofo.\n",
      "bren.\n",
      "dariy.\n",
      "julieka.\n",
      "kay.\n",
      "myskoyah.\n",
      "halina.\n"
     ]
    }
   ],
   "source": [
    "#Sample form the model\n",
    "g = torch.Generator().manual_seed(2147483647+10)\n",
    "for _ in range(20):\n",
    "    out = []\n",
    "    context = [0] * block_size #initialise with all '...'\n",
    "    while True:\n",
    "        emb = C[torch.tensor([context])] #(1,block_size,d): 1st dim was the size of training set, but here we're generating only 1 example,\n",
    "        h = torch.tanh(emb.view(1,-1)@W1+b1)\n",
    "        logits = h@W2 +b2\n",
    "        probs = F.softmax(logits, dim=1)\n",
    "        ix = torch.multinomial(probs, num_samples=1, generator = g).item()\n",
    "        context = context[1:]+[ix]\n",
    "        out.append(ix)\n",
    "        if ix == 0:\n",
    "            break\n",
    "\n",
    "    print(''.join(itos[i] for i in out))\n"
   ]
  }
 ],
 "metadata": {
  "kernelspec": {
   "display_name": "base",
   "language": "python",
   "name": "python3"
  },
  "language_info": {
   "codemirror_mode": {
    "name": "ipython",
    "version": 3
   },
   "file_extension": ".py",
   "mimetype": "text/x-python",
   "name": "python",
   "nbconvert_exporter": "python",
   "pygments_lexer": "ipython3",
   "version": "3.11.5"
  }
 },
 "nbformat": 4,
 "nbformat_minor": 2
}
